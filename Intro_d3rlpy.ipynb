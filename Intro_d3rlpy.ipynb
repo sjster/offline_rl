{
 "cells": [
  {
   "cell_type": "code",
   "execution_count": 1,
   "id": "9ffeb3ba",
   "metadata": {},
   "outputs": [],
   "source": [
    "from d3rlpy.datasets import get_cartpole"
   ]
  },
  {
   "cell_type": "code",
   "execution_count": 20,
   "id": "8f634e8f",
   "metadata": {},
   "outputs": [],
   "source": [
    "dataset, env = get_cartpole()"
   ]
  },
  {
   "cell_type": "code",
   "execution_count": 138,
   "id": "f4419761",
   "metadata": {},
   "outputs": [
    {
     "data": {
      "text/plain": [
       "1582"
      ]
     },
     "execution_count": 138,
     "metadata": {},
     "output_type": "execute_result"
    }
   ],
   "source": [
    "dataset.size()"
   ]
  },
  {
   "cell_type": "code",
   "execution_count": 89,
   "id": "4bbad000",
   "metadata": {},
   "outputs": [
    {
     "data": {
      "text/plain": [
       "99866"
      ]
     },
     "execution_count": 89,
     "metadata": {},
     "output_type": "execute_result"
    }
   ],
   "source": [
    "len(dataset.rewards)"
   ]
  },
  {
   "cell_type": "code",
   "execution_count": 90,
   "id": "fbbf0901",
   "metadata": {},
   "outputs": [
    {
     "data": {
      "text/plain": [
       "1582"
      ]
     },
     "execution_count": 90,
     "metadata": {},
     "output_type": "execute_result"
    }
   ],
   "source": [
    "len(dataset.episodes)"
   ]
  },
  {
   "cell_type": "code",
   "execution_count": 91,
   "id": "e7b9a169",
   "metadata": {},
   "outputs": [
    {
     "data": {
      "text/plain": [
       "99866"
      ]
     },
     "execution_count": 91,
     "metadata": {},
     "output_type": "execute_result"
    }
   ],
   "source": [
    "len(dataset.actions)"
   ]
  },
  {
   "cell_type": "code",
   "execution_count": 139,
   "id": "1986f50a",
   "metadata": {},
   "outputs": [],
   "source": [
    "from sklearn.model_selection import train_test_split\n",
    "\n",
    "train_episodes, test_episodes = train_test_split(dataset, test_size=0.2)"
   ]
  },
  {
   "cell_type": "code",
   "execution_count": 140,
   "id": "bd4f6554",
   "metadata": {},
   "outputs": [],
   "source": [
    "from d3rlpy.algos import DQN\n",
    "\n",
    "# if you don't use GPU, set use_gpu=False instead.\n",
    "dqn = DQN(use_gpu=False)\n",
    "\n",
    "# initialize neural networks with the given observation shape and action size.\n",
    "# this is not necessary when you directly call fit or fit_online method.\n",
    "dqn.build_with_dataset(dataset)"
   ]
  },
  {
   "cell_type": "code",
   "execution_count": 141,
   "id": "2a41b39a",
   "metadata": {},
   "outputs": [],
   "source": [
    "from d3rlpy.metrics.scorer import td_error_scorer\n",
    "from d3rlpy.metrics.scorer import average_value_estimation_scorer\n",
    "\n",
    "# calculate metrics with test dataset\n",
    "td_error = td_error_scorer(dqn, test_episodes)\n",
    "\n",
    "from d3rlpy.metrics.scorer import evaluate_on_environment\n",
    "\n",
    "# set environment in scorer function, returns mean return per episode\n",
    "evaluate_scorer = evaluate_on_environment(env)\n",
    "\n",
    "# evaluate algorithm on the environment\n",
    "rewards = evaluate_scorer(dqn)"
   ]
  },
  {
   "cell_type": "code",
   "execution_count": 142,
   "id": "4fbe9cdc",
   "metadata": {},
   "outputs": [
    {
     "data": {
      "text/plain": [
       "<TimeLimit<CartPoleEnv<CartPole-v0>>>"
      ]
     },
     "execution_count": 142,
     "metadata": {},
     "output_type": "execute_result"
    }
   ],
   "source": [
    "env"
   ]
  },
  {
   "cell_type": "code",
   "execution_count": 143,
   "id": "68aa9458",
   "metadata": {
    "scrolled": false
   },
   "outputs": [
    {
     "name": "stdout",
     "output_type": "stream",
     "text": [
      "2023-03-13 19:01:41 [debug    ] RoundIterator is selected.\n",
      "2023-03-13 19:01:41 [info     ] Directory is created at d3rlpy_logs/DQN_20230313190141\n",
      "2023-03-13 19:01:41 [warning  ] Skip building models since they're already built.\n",
      "2023-03-13 19:01:41 [info     ] Parameters are saved to d3rlpy_logs/DQN_20230313190141/params.json params={'action_scaler': None, 'batch_size': 32, 'encoder_factory': {'type': 'default', 'params': {'activation': 'relu', 'use_batch_norm': False, 'dropout_rate': None}}, 'gamma': 0.99, 'generated_maxlen': 100000, 'learning_rate': 6.25e-05, 'n_critics': 1, 'n_frames': 1, 'n_steps': 1, 'optim_factory': {'optim_cls': 'Adam', 'betas': (0.9, 0.999), 'eps': 1e-08, 'weight_decay': 0, 'amsgrad': False}, 'q_func_factory': {'type': 'mean', 'params': {'share_encoder': False}}, 'real_ratio': 1.0, 'reward_scaler': None, 'scaler': None, 'target_update_interval': 8000, 'use_gpu': None, 'algorithm': 'DQN', 'observation_shape': (4,), 'action_size': 2}\n"
     ]
    },
    {
     "data": {
      "application/vnd.jupyter.widget-view+json": {
       "model_id": "d72482e7d97442e1a8acf886ed4db635",
       "version_major": 2,
       "version_minor": 0
      },
      "text/plain": [
       "Epoch 1/10:   0%|          | 0/2500 [00:00<?, ?it/s]"
      ]
     },
     "metadata": {},
     "output_type": "display_data"
    },
    {
     "name": "stdout",
     "output_type": "stream",
     "text": [
      "2023-03-13 19:01:51 [info     ] DQN_20230313190141: epoch=1 step=2500 epoch=1 metrics={'time_sample_batch': 0.00012184162139892578, 'time_algorithm_update': 0.003392033576965332, 'loss': 0.012645094241556217, 'time_step': 0.00361170015335083, 'td_error': 0.9881827529171064, 'value_scale': 1.0015601515105368, 'environment': 9.4} step=2500\n",
      "2023-03-13 19:01:51 [info     ] Model parameters are saved to d3rlpy_logs/DQN_20230313190141/model_2500.pt\n"
     ]
    },
    {
     "data": {
      "application/vnd.jupyter.widget-view+json": {
       "model_id": "54fb3023d6724ac4ba96e8599880e19f",
       "version_major": 2,
       "version_minor": 0
      },
      "text/plain": [
       "Epoch 2/10:   0%|          | 0/2500 [00:00<?, ?it/s]"
      ]
     },
     "metadata": {},
     "output_type": "display_data"
    },
    {
     "name": "stdout",
     "output_type": "stream",
     "text": [
      "2023-03-13 19:02:00 [info     ] DQN_20230313190141: epoch=2 step=5000 epoch=2 metrics={'time_sample_batch': 0.00010874042510986328, 'time_algorithm_update': 0.0030711585998535154, 'loss': 3.558228413348843e-05, 'time_step': 0.003266118335723877, 'td_error': 0.9870644139670596, 'value_scale': 1.0012083776692806, 'environment': 9.3} step=5000\n",
      "2023-03-13 19:02:00 [info     ] Model parameters are saved to d3rlpy_logs/DQN_20230313190141/model_5000.pt\n"
     ]
    },
    {
     "data": {
      "application/vnd.jupyter.widget-view+json": {
       "model_id": "e16403ce0f29449e8b49620d5365ffba",
       "version_major": 2,
       "version_minor": 0
      },
      "text/plain": [
       "Epoch 3/10:   0%|          | 0/2500 [00:00<?, ?it/s]"
      ]
     },
     "metadata": {},
     "output_type": "display_data"
    },
    {
     "name": "stdout",
     "output_type": "stream",
     "text": [
      "2023-03-13 19:02:10 [info     ] DQN_20230313190141: epoch=3 step=7500 epoch=3 metrics={'time_sample_batch': 0.00011303062438964843, 'time_algorithm_update': 0.0031888752937316894, 'loss': 3.1675507657382695e-05, 'time_step': 0.0033857173919677732, 'td_error': 0.9833814717893776, 'value_scale': 0.9939531941963918, 'environment': 17.3} step=7500\n",
      "2023-03-13 19:02:10 [info     ] Model parameters are saved to d3rlpy_logs/DQN_20230313190141/model_7500.pt\n"
     ]
    },
    {
     "data": {
      "application/vnd.jupyter.widget-view+json": {
       "model_id": "71b19755f44747cf94d542e60ff482a1",
       "version_major": 2,
       "version_minor": 0
      },
      "text/plain": [
       "Epoch 4/10:   0%|          | 0/2500 [00:00<?, ?it/s]"
      ]
     },
     "metadata": {},
     "output_type": "display_data"
    },
    {
     "name": "stdout",
     "output_type": "stream",
     "text": [
      "2023-03-13 19:02:20 [info     ] DQN_20230313190141: epoch=4 step=10000 epoch=4 metrics={'time_sample_batch': 0.00011527967453002929, 'time_algorithm_update': 0.0031881381034851073, 'loss': 0.007066348025825027, 'time_step': 0.00339133882522583, 'td_error': 0.9918641160631149, 'value_scale': 2.0060413379784223, 'environment': 12.4} step=10000\n",
      "2023-03-13 19:02:20 [info     ] Model parameters are saved to d3rlpy_logs/DQN_20230313190141/model_10000.pt\n"
     ]
    },
    {
     "data": {
      "application/vnd.jupyter.widget-view+json": {
       "model_id": "3d8ff02f486d4baf998bdbbc2bb0a957",
       "version_major": 2,
       "version_minor": 0
      },
      "text/plain": [
       "Epoch 5/10:   0%|          | 0/2500 [00:00<?, ?it/s]"
      ]
     },
     "metadata": {},
     "output_type": "display_data"
    },
    {
     "name": "stdout",
     "output_type": "stream",
     "text": [
      "2023-03-13 19:02:29 [info     ] DQN_20230313190141: epoch=5 step=12500 epoch=5 metrics={'time_sample_batch': 0.00010668191909790038, 'time_algorithm_update': 0.003076361846923828, 'loss': 0.006230760553551954, 'time_step': 0.003267509746551514, 'td_error': 0.9752552312302291, 'value_scale': 1.98381710454265, 'environment': 19.9} step=12500\n",
      "2023-03-13 19:02:29 [info     ] Model parameters are saved to d3rlpy_logs/DQN_20230313190141/model_12500.pt\n"
     ]
    },
    {
     "data": {
      "application/vnd.jupyter.widget-view+json": {
       "model_id": "c2ad3c95062f4de0a90be1cce3ef1ae8",
       "version_major": 2,
       "version_minor": 0
      },
      "text/plain": [
       "Epoch 6/10:   0%|          | 0/2500 [00:00<?, ?it/s]"
      ]
     },
     "metadata": {},
     "output_type": "display_data"
    },
    {
     "name": "stdout",
     "output_type": "stream",
     "text": [
      "2023-03-13 19:02:38 [info     ] DQN_20230313190141: epoch=6 step=15000 epoch=6 metrics={'time_sample_batch': 0.00010726566314697266, 'time_algorithm_update': 0.0031132880210876465, 'loss': 0.006048588067226229, 'time_step': 0.00330434045791626, 'td_error': 0.9825717391032092, 'value_scale': 1.9832849040915217, 'environment': 17.8} step=15000\n",
      "2023-03-13 19:02:38 [info     ] Model parameters are saved to d3rlpy_logs/DQN_20230313190141/model_15000.pt\n"
     ]
    },
    {
     "data": {
      "application/vnd.jupyter.widget-view+json": {
       "model_id": "ed7165ffc6434a73af87830bab01eb5c",
       "version_major": 2,
       "version_minor": 0
      },
      "text/plain": [
       "Epoch 7/10:   0%|          | 0/2500 [00:00<?, ?it/s]"
      ]
     },
     "metadata": {},
     "output_type": "display_data"
    },
    {
     "name": "stdout",
     "output_type": "stream",
     "text": [
      "2023-03-13 19:02:48 [info     ] DQN_20230313190141: epoch=7 step=17500 epoch=7 metrics={'time_sample_batch': 0.00010572671890258789, 'time_algorithm_update': 0.003082563495635986, 'loss': 0.015362253805273212, 'time_step': 0.0032682649612426756, 'td_error': 1.0135379743300548, 'value_scale': 2.99799875456408, 'environment': 175.3} step=17500\n",
      "2023-03-13 19:02:48 [info     ] Model parameters are saved to d3rlpy_logs/DQN_20230313190141/model_17500.pt\n"
     ]
    },
    {
     "data": {
      "application/vnd.jupyter.widget-view+json": {
       "model_id": "224e9760eb204d8a86caa2b735161f28",
       "version_major": 2,
       "version_minor": 0
      },
      "text/plain": [
       "Epoch 8/10:   0%|          | 0/2500 [00:00<?, ?it/s]"
      ]
     },
     "metadata": {},
     "output_type": "display_data"
    },
    {
     "name": "stdout",
     "output_type": "stream",
     "text": [
      "2023-03-13 19:02:57 [info     ] DQN_20230313190141: epoch=8 step=20000 epoch=8 metrics={'time_sample_batch': 0.00010021581649780273, 'time_algorithm_update': 0.0030054548263549804, 'loss': 0.01864413274436083, 'time_step': 0.0031805929183959963, 'td_error': 0.9966686411730681, 'value_scale': 2.9763200114003054, 'environment': 114.7} step=20000\n",
      "2023-03-13 19:02:57 [info     ] Model parameters are saved to d3rlpy_logs/DQN_20230313190141/model_20000.pt\n"
     ]
    },
    {
     "data": {
      "application/vnd.jupyter.widget-view+json": {
       "model_id": "a6036eefddc24289b9fcb8b3b9798a9e",
       "version_major": 2,
       "version_minor": 0
      },
      "text/plain": [
       "Epoch 9/10:   0%|          | 0/2500 [00:00<?, ?it/s]"
      ]
     },
     "metadata": {},
     "output_type": "display_data"
    },
    {
     "name": "stdout",
     "output_type": "stream",
     "text": [
      "2023-03-13 19:03:07 [info     ] DQN_20230313190141: epoch=9 step=22500 epoch=9 metrics={'time_sample_batch': 0.00010303192138671875, 'time_algorithm_update': 0.0030933475494384767, 'loss': 0.01833996931213187, 'time_step': 0.003274539566040039, 'td_error': 0.9954841789499165, 'value_scale': 2.973896644438197, 'environment': 153.2} step=22500\n",
      "2023-03-13 19:03:07 [info     ] Model parameters are saved to d3rlpy_logs/DQN_20230313190141/model_22500.pt\n"
     ]
    },
    {
     "data": {
      "application/vnd.jupyter.widget-view+json": {
       "model_id": "2ebbc6be9e6b40e1a7c20c494cf83c66",
       "version_major": 2,
       "version_minor": 0
      },
      "text/plain": [
       "Epoch 10/10:   0%|          | 0/2500 [00:00<?, ?it/s]"
      ]
     },
     "metadata": {},
     "output_type": "display_data"
    },
    {
     "name": "stdout",
     "output_type": "stream",
     "text": [
      "2023-03-13 19:03:17 [info     ] DQN_20230313190141: epoch=10 step=25000 epoch=10 metrics={'time_sample_batch': 0.00010579662322998047, 'time_algorithm_update': 0.0032065747261047365, 'loss': 0.024241683905909302, 'time_step': 0.0033939443588256834, 'td_error': 1.0467469998968637, 'value_scale': 3.9858706374229054, 'environment': 199.9} step=25000\n",
      "2023-03-13 19:03:17 [info     ] Model parameters are saved to d3rlpy_logs/DQN_20230313190141/model_25000.pt\n"
     ]
    },
    {
     "data": {
      "text/plain": [
       "[(1,\n",
       "  {'time_sample_batch': 0.00012184162139892578,\n",
       "   'time_algorithm_update': 0.003392033576965332,\n",
       "   'loss': 0.012645094241556217,\n",
       "   'time_step': 0.00361170015335083,\n",
       "   'td_error': 0.9881827529171064,\n",
       "   'value_scale': 1.0015601515105368,\n",
       "   'environment': 9.4}),\n",
       " (2,\n",
       "  {'time_sample_batch': 0.00010874042510986328,\n",
       "   'time_algorithm_update': 0.0030711585998535154,\n",
       "   'loss': 3.558228413348843e-05,\n",
       "   'time_step': 0.003266118335723877,\n",
       "   'td_error': 0.9870644139670596,\n",
       "   'value_scale': 1.0012083776692806,\n",
       "   'environment': 9.3}),\n",
       " (3,\n",
       "  {'time_sample_batch': 0.00011303062438964843,\n",
       "   'time_algorithm_update': 0.0031888752937316894,\n",
       "   'loss': 3.1675507657382695e-05,\n",
       "   'time_step': 0.0033857173919677732,\n",
       "   'td_error': 0.9833814717893776,\n",
       "   'value_scale': 0.9939531941963918,\n",
       "   'environment': 17.3}),\n",
       " (4,\n",
       "  {'time_sample_batch': 0.00011527967453002929,\n",
       "   'time_algorithm_update': 0.0031881381034851073,\n",
       "   'loss': 0.007066348025825027,\n",
       "   'time_step': 0.00339133882522583,\n",
       "   'td_error': 0.9918641160631149,\n",
       "   'value_scale': 2.0060413379784223,\n",
       "   'environment': 12.4}),\n",
       " (5,\n",
       "  {'time_sample_batch': 0.00010668191909790038,\n",
       "   'time_algorithm_update': 0.003076361846923828,\n",
       "   'loss': 0.006230760553551954,\n",
       "   'time_step': 0.003267509746551514,\n",
       "   'td_error': 0.9752552312302291,\n",
       "   'value_scale': 1.98381710454265,\n",
       "   'environment': 19.9}),\n",
       " (6,\n",
       "  {'time_sample_batch': 0.00010726566314697266,\n",
       "   'time_algorithm_update': 0.0031132880210876465,\n",
       "   'loss': 0.006048588067226229,\n",
       "   'time_step': 0.00330434045791626,\n",
       "   'td_error': 0.9825717391032092,\n",
       "   'value_scale': 1.9832849040915217,\n",
       "   'environment': 17.8}),\n",
       " (7,\n",
       "  {'time_sample_batch': 0.00010572671890258789,\n",
       "   'time_algorithm_update': 0.003082563495635986,\n",
       "   'loss': 0.015362253805273212,\n",
       "   'time_step': 0.0032682649612426756,\n",
       "   'td_error': 1.0135379743300548,\n",
       "   'value_scale': 2.99799875456408,\n",
       "   'environment': 175.3}),\n",
       " (8,\n",
       "  {'time_sample_batch': 0.00010021581649780273,\n",
       "   'time_algorithm_update': 0.0030054548263549804,\n",
       "   'loss': 0.01864413274436083,\n",
       "   'time_step': 0.0031805929183959963,\n",
       "   'td_error': 0.9966686411730681,\n",
       "   'value_scale': 2.9763200114003054,\n",
       "   'environment': 114.7}),\n",
       " (9,\n",
       "  {'time_sample_batch': 0.00010303192138671875,\n",
       "   'time_algorithm_update': 0.0030933475494384767,\n",
       "   'loss': 0.01833996931213187,\n",
       "   'time_step': 0.003274539566040039,\n",
       "   'td_error': 0.9954841789499165,\n",
       "   'value_scale': 2.973896644438197,\n",
       "   'environment': 153.2}),\n",
       " (10,\n",
       "  {'time_sample_batch': 0.00010579662322998047,\n",
       "   'time_algorithm_update': 0.0032065747261047365,\n",
       "   'loss': 0.024241683905909302,\n",
       "   'time_step': 0.0033939443588256834,\n",
       "   'td_error': 1.0467469998968637,\n",
       "   'value_scale': 3.9858706374229054,\n",
       "   'environment': 199.9})]"
      ]
     },
     "execution_count": 143,
     "metadata": {},
     "output_type": "execute_result"
    }
   ],
   "source": [
    "# Use the output of learning, this is the mean reward and the most useful metric to measure learning\n",
    "dqn.fit(train_episodes,\n",
    "        eval_episodes=test_episodes,\n",
    "        n_epochs=10,\n",
    "        scorers={\n",
    "            'td_error': td_error_scorer,\n",
    "            'advantage': discounted_sum_of_advantage_scorer,\n",
    "            'value_scale': average_value_estimation_scorer,\n",
    "            'environment': evaluate_scorer\n",
    "        })"
   ]
  },
  {
   "cell_type": "markdown",
   "id": "ef346d7d",
   "metadata": {},
   "source": [
    "### Metrics\n",
    "\n",
    "**td_error** - larger td error means that the estimated state values are too far from the correct state values\n",
    "The TD error is the difference between the correct reward based value and our estimate of the reward based value. The policy is the actor and the value function is the critic, with the ‘criticism’ being the TD error. If the TD error is positive the value of the action was greater than expected, suggesting the chosen action should be taken more often. If the TD error was negative the action had a lower value than expected, and so will be done less often in future states which are similar.\n",
    "\n",
    "**discounted sum of average** - This is the discounted sum of advantage of the _**selected actions**_. This should be small to indicate that the policy selects actions with larger estimated values. This is the difference between the Q values of the dataset actions or the actions selected in each state and the max Q value according to the policy.  https://github.com/takuseno/d3rlpy/issues/99\n",
    "\n"
   ]
  },
  {
   "cell_type": "code",
   "execution_count": 51,
   "id": "4d773934",
   "metadata": {},
   "outputs": [],
   "source": [
    "observation = env.reset()\n",
    "\n",
    "print(observation)\n",
    "\n",
    "# return actions based on the greedy-policy\n",
    "action = dqn.predict([observation])[0]\n",
    "\n",
    "# estimate action-values\n",
    "value = dqn.predict_value([observation], [action])"
   ]
  },
  {
   "cell_type": "code",
   "execution_count": 21,
   "id": "8f9dacd9",
   "metadata": {},
   "outputs": [],
   "source": [
    "# This is the most useful metric for evaluating the progress of learning\n",
    "def evaluate_mean_rewards(dqn):\n",
    "    evaluate_scorer = evaluate_on_environment(env, n_trials=50)\n",
    "    mean_episode_return = evaluate_scorer(dqn)\n",
    "    return(mean_episode_return)"
   ]
  },
  {
   "cell_type": "code",
   "execution_count": 22,
   "id": "29ab7dd6",
   "metadata": {},
   "outputs": [
    {
     "ename": "NameError",
     "evalue": "name 'dqn' is not defined",
     "output_type": "error",
     "traceback": [
      "\u001b[0;31m---------------------------------------------------------------------------\u001b[0m",
      "\u001b[0;31mNameError\u001b[0m                                 Traceback (most recent call last)",
      "Cell \u001b[0;32mIn[22], line 1\u001b[0m\n\u001b[0;32m----> 1\u001b[0m evaluate_mean_rewards(\u001b[43mdqn\u001b[49m)\n",
      "\u001b[0;31mNameError\u001b[0m: name 'dqn' is not defined"
     ]
    }
   ],
   "source": [
    "evaluate_mean_rewards(dqn)"
   ]
  },
  {
   "cell_type": "code",
   "execution_count": 54,
   "id": "9117c122",
   "metadata": {},
   "outputs": [],
   "source": [
    "value"
   ]
  },
  {
   "cell_type": "code",
   "execution_count": 49,
   "id": "9b5f48ff",
   "metadata": {},
   "outputs": [
    {
     "data": {
      "text/plain": [
       "array([0])"
      ]
     },
     "execution_count": 49,
     "metadata": {},
     "output_type": "execute_result"
    }
   ],
   "source": [
    "dqn.predict([observation])"
   ]
  },
  {
   "cell_type": "markdown",
   "id": "189489bf",
   "metadata": {},
   "source": [
    "### Generate offline data"
   ]
  },
  {
   "cell_type": "code",
   "execution_count": 145,
   "id": "42c49b70",
   "metadata": {},
   "outputs": [
    {
     "name": "stdout",
     "output_type": "stream",
     "text": [
      "2023-03-13 19:04:24 [debug    ] Building model...\n",
      "2023-03-13 19:04:24 [debug    ] Model has been built.\n"
     ]
    },
    {
     "data": {
      "application/vnd.jupyter.widget-view+json": {
       "model_id": "961e7e5e35604da9bbf55c0533dca347",
       "version_major": 2,
       "version_minor": 0
      },
      "text/plain": [
       "  0%|          | 0/500000 [00:00<?, ?it/s]"
      ]
     },
     "metadata": {},
     "output_type": "display_data"
    }
   ],
   "source": [
    "import d3rlpy\n",
    "\n",
    "# setup algorithm\n",
    "random_policy = d3rlpy.algos.DiscreteRandomPolicy()\n",
    "\n",
    "# prepare experience replay buffer\n",
    "buffer = d3rlpy.online.buffers.ReplayBuffer(maxlen=500000, env=env)\n",
    "\n",
    "# start data collection\n",
    "random_policy.collect(env, buffer, n_steps=500000)\n",
    "\n",
    "# export as MDPDataset\n",
    "dataset = buffer.to_mdp_dataset()\n",
    "\n",
    "# save MDPDataset\n",
    "dataset.dump(\"random_policy_dataset_500000.h5\")"
   ]
  },
  {
   "cell_type": "code",
   "execution_count": 33,
   "id": "9eb88c7b",
   "metadata": {},
   "outputs": [
    {
     "name": "stdout",
     "output_type": "stream",
     "text": [
      "Intro_d3rlpy.ipynb                 random_policy_corridor_dataset.h5\r\n",
      "\u001b[34md3rlpy_data\u001b[m\u001b[m/                       random_policy_dataset.h5\r\n",
      "\u001b[34md3rlpy_logs\u001b[m\u001b[m/                       random_policy_dataset_80000.h5\r\n",
      "poetry.lock                        trained_policy_dataset.h5\r\n",
      "pyproject.toml                     trained_policy_dataset_80000.h5\r\n"
     ]
    }
   ],
   "source": [
    "ls"
   ]
  },
  {
   "cell_type": "code",
   "execution_count": 146,
   "id": "14d60a69",
   "metadata": {},
   "outputs": [
    {
     "name": "stdout",
     "output_type": "stream",
     "text": [
      "2023-03-13 19:04:58 [warning  ] Skip building models since they're already built.\n"
     ]
    },
    {
     "data": {
      "application/vnd.jupyter.widget-view+json": {
       "model_id": "611d5483b4354e53a21d2ece48a6f949",
       "version_major": 2,
       "version_minor": 0
      },
      "text/plain": [
       "  0%|          | 0/30000 [00:00<?, ?it/s]"
      ]
     },
     "metadata": {},
     "output_type": "display_data"
    }
   ],
   "source": [
    "# prepare experience replay buffer\n",
    "buffer = d3rlpy.online.buffers.ReplayBuffer(maxlen=30000, env=env)\n",
    "\n",
    "# start data collection\n",
    "dqn.collect(env, buffer, n_steps=30000)\n",
    "\n",
    "# export as MDPDataset\n",
    "dataset = buffer.to_mdp_dataset()\n",
    "\n",
    "# save MDPDataset\n",
    "dataset.dump(\"trained_policy_dataset_30000.h5\")"
   ]
  },
  {
   "cell_type": "markdown",
   "id": "752f77c9",
   "metadata": {},
   "source": [
    "import numpy as np\n",
    "\n",
    "buffer = d3rlpy.online.buffers.ReplayBuffer(maxlen=80000, env=env)\n",
    "dataset2 = buffer.to_mdp_dataset()\n",
    "dataset2.load(\"random_policy_dataset_80000.h5\")\n",
    "\n",
    "buffer = d3rlpy.online.buffers.ReplayBuffer(maxlen=80000, env=env)\n",
    "dataset3 = buffer.to_mdp_dataset()\n",
    "dataset3.load(\"trained_policy_dataset_80000.h5\")"
   ]
  },
  {
   "cell_type": "code",
   "execution_count": 147,
   "id": "2bc89b5b",
   "metadata": {},
   "outputs": [],
   "source": [
    "dataset_trained = dataset.load(\"trained_policy_dataset_30000.h5\")\n",
    "dataset_random = dataset.load(\"random_policy_dataset_500000.h5\")"
   ]
  },
  {
   "cell_type": "code",
   "execution_count": 148,
   "id": "5855fdeb",
   "metadata": {},
   "outputs": [],
   "source": [
    "train_episodes, test_episodes = train_test_split(dataset_trained, test_size=0.2)"
   ]
  },
  {
   "cell_type": "code",
   "execution_count": 149,
   "id": "f70609ad",
   "metadata": {},
   "outputs": [
    {
     "data": {
      "text/plain": [
       "{'return': {'mean': 197.7616,\n",
       "  'std': 12.035108,\n",
       "  'min': 51.0,\n",
       "  'max': 199.0,\n",
       "  'histogram': (array([  1,   0,   0,   0,   0,   0,   0,   0,   0,   0,   0,   0,   0,\n",
       "            0,   0,   0,   0,   0,   1, 149]),\n",
       "   array([ 51. ,  58.4,  65.8,  73.2,  80.6,  88. ,  95.4, 102.8, 110.2,\n",
       "          117.6, 125. , 132.4, 139.8, 147.2, 154.6, 162. , 169.4, 176.8,\n",
       "          184.2, 191.6, 199. ], dtype=float32))},\n",
       " 'reward': {'mean': 1.0,\n",
       "  'std': 0.0,\n",
       "  'min': 1.0,\n",
       "  'max': 1.0,\n",
       "  'histogram': (array([    0,     0,     0,     0,     0,     0,     0,     0,     0,\n",
       "              0, 29862,     0,     0,     0,     0,     0,     0,     0,\n",
       "              0,     0]),\n",
       "   array([0.5 , 0.55, 0.6 , 0.65, 0.7 , 0.75, 0.8 , 0.85, 0.9 , 0.95, 1.  ,\n",
       "          1.05, 1.1 , 1.15, 1.2 , 1.25, 1.3 , 1.35, 1.4 , 1.45, 1.5 ],\n",
       "         dtype=float32))},\n",
       " 'action': {'histogram': [[15465, 14397], array([0, 1])]},\n",
       " 'observation': {'mean': array([-0.5493725 , -0.44689432, -0.0343954 , -0.02737486], dtype=float32),\n",
       "  'std': array([0.51813704, 0.3559807 , 0.03006951, 0.19238803], dtype=float32),\n",
       "  'min': array([-2.3969076 , -1.9615482 , -0.16500431, -0.5984411 ], dtype=float32),\n",
       "  'max': array([0.14826883, 0.43838423, 0.05063883, 0.44978154], dtype=float32)}}"
      ]
     },
     "execution_count": 149,
     "metadata": {},
     "output_type": "execute_result"
    }
   ],
   "source": [
    "dataset_trained.compute_stats()"
   ]
  },
  {
   "cell_type": "code",
   "execution_count": 150,
   "id": "c3370c68",
   "metadata": {},
   "outputs": [
    {
     "data": {
      "text/plain": [
       "{'return': {'mean': 22.354317,\n",
       "  'std': 11.985191,\n",
       "  'min': 8.0,\n",
       "  'max': 119.0,\n",
       "  'histogram': (array([4730, 7077, 3742, 2736, 1372, 1043,  566,  433,  233,  155,  106,\n",
       "            61,   38,   34,   17,   10,    4,    3,    4,    3]),\n",
       "   array([  8.  ,  13.55,  19.1 ,  24.65,  30.2 ,  35.75,  41.3 ,  46.85,\n",
       "           52.4 ,  57.95,  63.5 ,  69.05,  74.6 ,  80.15,  85.7 ,  91.25,\n",
       "           96.8 , 102.35, 107.9 , 113.45, 119.  ], dtype=float32))},\n",
       " 'reward': {'mean': 1.0,\n",
       "  'std': 0.0,\n",
       "  'min': 1.0,\n",
       "  'max': 1.0,\n",
       "  'histogram': (array([     0,      0,      0,      0,      0,      0,      0,      0,\n",
       "               0,      0, 499999,      0,      0,      0,      0,      0,\n",
       "               0,      0,      0,      0]),\n",
       "   array([0.5 , 0.55, 0.6 , 0.65, 0.7 , 0.75, 0.8 , 0.85, 0.9 , 0.95, 1.  ,\n",
       "          1.05, 1.1 , 1.15, 1.2 , 1.25, 1.3 , 1.35, 1.4 , 1.45, 1.5 ],\n",
       "         dtype=float32))},\n",
       " 'action': {'histogram': [[249843, 250156], array([0, 1])]},\n",
       " 'observation': {'mean': array([2.3181796e-05, 2.2534300e-03, 1.0538838e-03, 1.3409596e-03],\n",
       "        dtype=float32),\n",
       "  'std': array([0.092961  , 0.52949435, 0.09156664, 0.7809274 ], dtype=float32),\n",
       "  'min': array([-1.8383244, -3.2228298, -0.2094392, -3.4284127], dtype=float32),\n",
       "  'max': array([1.4500501 , 3.0939314 , 0.20943782, 3.1699862 ], dtype=float32)}}"
      ]
     },
     "execution_count": 150,
     "metadata": {},
     "output_type": "execute_result"
    }
   ],
   "source": [
    "dataset_random.compute_stats()"
   ]
  },
  {
   "cell_type": "code",
   "execution_count": 101,
   "id": "cc3556fb",
   "metadata": {},
   "outputs": [
    {
     "data": {
      "text/plain": [
       "array([0, 0, 0, ..., 1, 0, 0], dtype=int32)"
      ]
     },
     "execution_count": 101,
     "metadata": {},
     "output_type": "execute_result"
    }
   ],
   "source": [
    "dataset_trained.actions"
   ]
  },
  {
   "cell_type": "code",
   "execution_count": 76,
   "id": "c17b2b45",
   "metadata": {},
   "outputs": [
    {
     "data": {
      "text/plain": [
       "array([1, 1, 1, ..., 0, 0, 0], dtype=int32)"
      ]
     },
     "execution_count": 76,
     "metadata": {},
     "output_type": "execute_result"
    }
   ],
   "source": [
    "dataset_random.actions"
   ]
  },
  {
   "cell_type": "code",
   "execution_count": 57,
   "id": "0a680c1d",
   "metadata": {},
   "outputs": [
    {
     "data": {
      "text/plain": [
       "array([1., 1., 1., ..., 1., 1., 1.], dtype=float32)"
      ]
     },
     "execution_count": 57,
     "metadata": {},
     "output_type": "execute_result"
    }
   ],
   "source": [
    "dataset_trained.rewards"
   ]
  },
  {
   "cell_type": "code",
   "execution_count": 152,
   "id": "9f6a4241",
   "metadata": {},
   "outputs": [
    {
     "data": {
      "text/plain": [
       "151"
      ]
     },
     "execution_count": 152,
     "metadata": {},
     "output_type": "execute_result"
    }
   ],
   "source": [
    "len(dataset_trained.episodes)"
   ]
  },
  {
   "cell_type": "code",
   "execution_count": 151,
   "id": "88e970a9",
   "metadata": {},
   "outputs": [
    {
     "data": {
      "text/plain": [
       "22367"
      ]
     },
     "execution_count": 151,
     "metadata": {},
     "output_type": "execute_result"
    }
   ],
   "source": [
    "len(dataset_random.episodes)"
   ]
  },
  {
   "cell_type": "code",
   "execution_count": 79,
   "id": "a5b40baf",
   "metadata": {},
   "outputs": [
    {
     "data": {
      "text/plain": [
       "array([[ 0.02962353, -0.0323091 , -0.03679555,  0.03139311],\n",
       "       [ 0.02897735, -0.22688459, -0.03616769,  0.31224334],\n",
       "       [ 0.02443966, -0.42147312, -0.02992282,  0.5933043 ],\n",
       "       ...,\n",
       "       [ 0.2347083 ,  0.5337355 , -0.13025276, -0.45787495],\n",
       "       [ 0.24538301,  0.34067228, -0.13941026, -0.20891936],\n",
       "       [ 0.25219646,  0.14779048, -0.14358865,  0.03674239]],\n",
       "      dtype=float32)"
      ]
     },
     "execution_count": 79,
     "metadata": {},
     "output_type": "execute_result"
    }
   ],
   "source": [
    "dataset_trained.observations"
   ]
  },
  {
   "cell_type": "markdown",
   "id": "fc05e2bf",
   "metadata": {},
   "source": [
    "### Train on offline data"
   ]
  },
  {
   "cell_type": "code",
   "execution_count": 153,
   "id": "8eb22a43",
   "metadata": {
    "scrolled": false
   },
   "outputs": [
    {
     "name": "stdout",
     "output_type": "stream",
     "text": [
      "2023-03-13 19:06:06 [debug    ] RoundIterator is selected.\n",
      "2023-03-13 19:06:06 [info     ] Directory is created at d3rlpy_logs/DQN_20230313190606\n",
      "2023-03-13 19:06:06 [warning  ] Skip building models since they're already built.\n",
      "2023-03-13 19:06:06 [info     ] Parameters are saved to d3rlpy_logs/DQN_20230313190606/params.json params={'action_scaler': None, 'batch_size': 32, 'encoder_factory': {'type': 'default', 'params': {'activation': 'relu', 'use_batch_norm': False, 'dropout_rate': None}}, 'gamma': 0.99, 'generated_maxlen': 100000, 'learning_rate': 6.25e-05, 'n_critics': 1, 'n_frames': 1, 'n_steps': 1, 'optim_factory': {'optim_cls': 'Adam', 'betas': (0.9, 0.999), 'eps': 1e-08, 'weight_decay': 0, 'amsgrad': False}, 'q_func_factory': {'type': 'mean', 'params': {'share_encoder': False}}, 'real_ratio': 1.0, 'reward_scaler': None, 'scaler': None, 'target_update_interval': 8000, 'use_gpu': None, 'algorithm': 'DQN', 'observation_shape': (4,), 'action_size': 2}\n"
     ]
    },
    {
     "data": {
      "application/vnd.jupyter.widget-view+json": {
       "model_id": "0f297c6b292444989a8eaa04843936af",
       "version_major": 2,
       "version_minor": 0
      },
      "text/plain": [
       "Epoch 1/10:   0%|          | 0/742 [00:00<?, ?it/s]"
      ]
     },
     "metadata": {},
     "output_type": "display_data"
    },
    {
     "name": "stdout",
     "output_type": "stream",
     "text": [
      "2023-03-13 19:06:09 [info     ] DQN_20230313190606: epoch=1 step=742 epoch=1 metrics={'time_sample_batch': 0.00010505551597821423, 'time_algorithm_update': 0.002879885329069153, 'loss': 0.031179017385418388, 'time_step': 0.003060433421173507, 'td_error': 0.9846738294130843, 'advantage': -0.1300933121034453, 'value_scale': 1.0728607263069005, 'environment': 86.4} step=742\n",
      "2023-03-13 19:06:09 [info     ] Model parameters are saved to d3rlpy_logs/DQN_20230313190606/model_742.pt\n"
     ]
    },
    {
     "data": {
      "application/vnd.jupyter.widget-view+json": {
       "model_id": "b1cec9f0b45843ac917441d0b05a33c3",
       "version_major": 2,
       "version_minor": 0
      },
      "text/plain": [
       "Epoch 2/10:   0%|          | 0/742 [00:00<?, ?it/s]"
      ]
     },
     "metadata": {},
     "output_type": "display_data"
    },
    {
     "name": "stdout",
     "output_type": "stream",
     "text": [
      "2023-03-13 19:06:12 [info     ] DQN_20230313190606: epoch=2 step=1484 epoch=2 metrics={'time_sample_batch': 0.00011077659792013246, 'time_algorithm_update': 0.0030716243137246515, 'loss': 3.344963113403049e-05, 'time_step': 0.003261560699689099, 'td_error': 0.985295856526353, 'advantage': -0.1917720939016169, 'value_scale': 1.0729103422340371, 'environment': 120.2} step=1484\n",
      "2023-03-13 19:06:12 [info     ] Model parameters are saved to d3rlpy_logs/DQN_20230313190606/model_1484.pt\n"
     ]
    },
    {
     "data": {
      "application/vnd.jupyter.widget-view+json": {
       "model_id": "2d2243927d994cf78397bb0311b0bc5b",
       "version_major": 2,
       "version_minor": 0
      },
      "text/plain": [
       "Epoch 3/10:   0%|          | 0/742 [00:00<?, ?it/s]"
      ]
     },
     "metadata": {},
     "output_type": "display_data"
    },
    {
     "name": "stdout",
     "output_type": "stream",
     "text": [
      "2023-03-13 19:06:15 [info     ] DQN_20230313190606: epoch=3 step=2226 epoch=3 metrics={'time_sample_batch': 0.00010746990574016726, 'time_algorithm_update': 0.003062619353240391, 'loss': 1.5665062441480843e-05, 'time_step': 0.0032469680045814206, 'td_error': 0.9840360184373476, 'advantage': -0.15674497508117402, 'value_scale': 1.0731224996386852, 'environment': 123.9} step=2226\n",
      "2023-03-13 19:06:15 [info     ] Model parameters are saved to d3rlpy_logs/DQN_20230313190606/model_2226.pt\n"
     ]
    },
    {
     "data": {
      "application/vnd.jupyter.widget-view+json": {
       "model_id": "54d575e1bc754bdfbfc2e96309422e7e",
       "version_major": 2,
       "version_minor": 0
      },
      "text/plain": [
       "Epoch 4/10:   0%|          | 0/742 [00:00<?, ?it/s]"
      ]
     },
     "metadata": {},
     "output_type": "display_data"
    },
    {
     "name": "stdout",
     "output_type": "stream",
     "text": [
      "2023-03-13 19:06:18 [info     ] DQN_20230313190606: epoch=4 step=2968 epoch=4 metrics={'time_sample_batch': 0.00010607602461329047, 'time_algorithm_update': 0.003131949676657623, 'loss': 1.067789256195109e-05, 'time_step': 0.0033144237538874953, 'td_error': 0.9840877200697233, 'advantage': -0.15886232738107622, 'value_scale': 1.073022628412695, 'environment': 65.3} step=2968\n",
      "2023-03-13 19:06:18 [info     ] Model parameters are saved to d3rlpy_logs/DQN_20230313190606/model_2968.pt\n"
     ]
    },
    {
     "data": {
      "application/vnd.jupyter.widget-view+json": {
       "model_id": "098dcccf64524854b97f0075f574ca72",
       "version_major": 2,
       "version_minor": 0
      },
      "text/plain": [
       "Epoch 5/10:   0%|          | 0/742 [00:00<?, ?it/s]"
      ]
     },
     "metadata": {},
     "output_type": "display_data"
    },
    {
     "name": "stdout",
     "output_type": "stream",
     "text": [
      "2023-03-13 19:06:21 [info     ] DQN_20230313190606: epoch=5 step=3710 epoch=5 metrics={'time_sample_batch': 0.00010663704730751059, 'time_algorithm_update': 0.0030635277216003913, 'loss': 8.527066199344161e-06, 'time_step': 0.0032455982223675256, 'td_error': 0.9836855233927463, 'advantage': -0.14836029094288894, 'value_scale': 1.073164146328116, 'environment': 81.3} step=3710\n",
      "2023-03-13 19:06:21 [info     ] Model parameters are saved to d3rlpy_logs/DQN_20230313190606/model_3710.pt\n"
     ]
    },
    {
     "data": {
      "application/vnd.jupyter.widget-view+json": {
       "model_id": "977c035c695c419495f71d4f5b2940d7",
       "version_major": 2,
       "version_minor": 0
      },
      "text/plain": [
       "Epoch 6/10:   0%|          | 0/742 [00:00<?, ?it/s]"
      ]
     },
     "metadata": {},
     "output_type": "display_data"
    },
    {
     "name": "stdout",
     "output_type": "stream",
     "text": [
      "2023-03-13 19:06:24 [info     ] DQN_20230313190606: epoch=6 step=4452 epoch=6 metrics={'time_sample_batch': 0.00010828509163663715, 'time_algorithm_update': 0.0030746199692677297, 'loss': 7.0954519173631595e-06, 'time_step': 0.003260059176750903, 'td_error': 0.9831215379138788, 'advantage': -0.12544745650668326, 'value_scale': 1.0730089680529256, 'environment': 99.3} step=4452\n",
      "2023-03-13 19:06:24 [info     ] Model parameters are saved to d3rlpy_logs/DQN_20230313190606/model_4452.pt\n"
     ]
    },
    {
     "data": {
      "application/vnd.jupyter.widget-view+json": {
       "model_id": "2dc0ca1ba6a94b759318d684203dc27d",
       "version_major": 2,
       "version_minor": 0
      },
      "text/plain": [
       "Epoch 7/10:   0%|          | 0/742 [00:00<?, ?it/s]"
      ]
     },
     "metadata": {},
     "output_type": "display_data"
    },
    {
     "name": "stdout",
     "output_type": "stream",
     "text": [
      "2023-03-13 19:06:27 [info     ] DQN_20230313190606: epoch=7 step=5194 epoch=7 metrics={'time_sample_batch': 0.00010595553004838065, 'time_algorithm_update': 0.0029992861246484308, 'loss': 7.0120120548852535e-06, 'time_step': 0.0031801108722738177, 'td_error': 0.982881306147701, 'advantage': -0.11057738133555271, 'value_scale': 1.0711203961692182, 'environment': 152.6} step=5194\n",
      "2023-03-13 19:06:27 [info     ] Model parameters are saved to d3rlpy_logs/DQN_20230313190606/model_5194.pt\n"
     ]
    },
    {
     "data": {
      "application/vnd.jupyter.widget-view+json": {
       "model_id": "a013b3e00f61418ba648167bf67c5cb8",
       "version_major": 2,
       "version_minor": 0
      },
      "text/plain": [
       "Epoch 8/10:   0%|          | 0/742 [00:00<?, ?it/s]"
      ]
     },
     "metadata": {},
     "output_type": "display_data"
    },
    {
     "name": "stdout",
     "output_type": "stream",
     "text": [
      "2023-03-13 19:06:30 [info     ] DQN_20230313190606: epoch=8 step=5936 epoch=8 metrics={'time_sample_batch': 0.00011502250506871473, 'time_algorithm_update': 0.003311586187213579, 'loss': 7.016652208064585e-06, 'time_step': 0.003509262180071314, 'td_error': 0.9860360994536276, 'advantage': -0.22346773301398976, 'value_scale': 1.0732343780454097, 'environment': 149.1} step=5936\n",
      "2023-03-13 19:06:30 [info     ] Model parameters are saved to d3rlpy_logs/DQN_20230313190606/model_5936.pt\n"
     ]
    },
    {
     "data": {
      "application/vnd.jupyter.widget-view+json": {
       "model_id": "13787d81525149d38457f3bb5e1d238c",
       "version_major": 2,
       "version_minor": 0
      },
      "text/plain": [
       "Epoch 9/10:   0%|          | 0/742 [00:00<?, ?it/s]"
      ]
     },
     "metadata": {},
     "output_type": "display_data"
    },
    {
     "name": "stdout",
     "output_type": "stream",
     "text": [
      "2023-03-13 19:06:34 [info     ] DQN_20230313190606: epoch=9 step=6678 epoch=9 metrics={'time_sample_batch': 0.0001122112865396587, 'time_algorithm_update': 0.0031580108837939978, 'loss': 7.5880011481197564e-06, 'time_step': 0.003349788748029107, 'td_error': 0.9845790799986306, 'advantage': -0.17504556564075838, 'value_scale': 1.0736828844250994, 'environment': 169.0} step=6678\n",
      "2023-03-13 19:06:34 [info     ] Model parameters are saved to d3rlpy_logs/DQN_20230313190606/model_6678.pt\n"
     ]
    },
    {
     "data": {
      "application/vnd.jupyter.widget-view+json": {
       "model_id": "fddc04f4a0774015bf5a1a863c20d4e3",
       "version_major": 2,
       "version_minor": 0
      },
      "text/plain": [
       "Epoch 10/10:   0%|          | 0/742 [00:00<?, ?it/s]"
      ]
     },
     "metadata": {},
     "output_type": "display_data"
    },
    {
     "name": "stdout",
     "output_type": "stream",
     "text": [
      "2023-03-13 19:06:37 [info     ] DQN_20230313190606: epoch=10 step=7420 epoch=10 metrics={'time_sample_batch': 0.00011082286783305782, 'time_algorithm_update': 0.0030986314835252785, 'loss': 7.565187162005304e-06, 'time_step': 0.0032873475005363198, 'td_error': 0.9839800890170002, 'advantage': -0.1490605409202769, 'value_scale': 1.0740309759892235, 'environment': 189.7} step=7420\n",
      "2023-03-13 19:06:37 [info     ] Model parameters are saved to d3rlpy_logs/DQN_20230313190606/model_7420.pt\n"
     ]
    },
    {
     "data": {
      "text/plain": [
       "[(1,\n",
       "  {'time_sample_batch': 0.00010505551597821423,\n",
       "   'time_algorithm_update': 0.002879885329069153,\n",
       "   'loss': 0.031179017385418388,\n",
       "   'time_step': 0.003060433421173507,\n",
       "   'td_error': 0.9846738294130843,\n",
       "   'advantage': -0.1300933121034453,\n",
       "   'value_scale': 1.0728607263069005,\n",
       "   'environment': 86.4}),\n",
       " (2,\n",
       "  {'time_sample_batch': 0.00011077659792013246,\n",
       "   'time_algorithm_update': 0.0030716243137246515,\n",
       "   'loss': 3.344963113403049e-05,\n",
       "   'time_step': 0.003261560699689099,\n",
       "   'td_error': 0.985295856526353,\n",
       "   'advantage': -0.1917720939016169,\n",
       "   'value_scale': 1.0729103422340371,\n",
       "   'environment': 120.2}),\n",
       " (3,\n",
       "  {'time_sample_batch': 0.00010746990574016726,\n",
       "   'time_algorithm_update': 0.003062619353240391,\n",
       "   'loss': 1.5665062441480843e-05,\n",
       "   'time_step': 0.0032469680045814206,\n",
       "   'td_error': 0.9840360184373476,\n",
       "   'advantage': -0.15674497508117402,\n",
       "   'value_scale': 1.0731224996386852,\n",
       "   'environment': 123.9}),\n",
       " (4,\n",
       "  {'time_sample_batch': 0.00010607602461329047,\n",
       "   'time_algorithm_update': 0.003131949676657623,\n",
       "   'loss': 1.067789256195109e-05,\n",
       "   'time_step': 0.0033144237538874953,\n",
       "   'td_error': 0.9840877200697233,\n",
       "   'advantage': -0.15886232738107622,\n",
       "   'value_scale': 1.073022628412695,\n",
       "   'environment': 65.3}),\n",
       " (5,\n",
       "  {'time_sample_batch': 0.00010663704730751059,\n",
       "   'time_algorithm_update': 0.0030635277216003913,\n",
       "   'loss': 8.527066199344161e-06,\n",
       "   'time_step': 0.0032455982223675256,\n",
       "   'td_error': 0.9836855233927463,\n",
       "   'advantage': -0.14836029094288894,\n",
       "   'value_scale': 1.073164146328116,\n",
       "   'environment': 81.3}),\n",
       " (6,\n",
       "  {'time_sample_batch': 0.00010828509163663715,\n",
       "   'time_algorithm_update': 0.0030746199692677297,\n",
       "   'loss': 7.0954519173631595e-06,\n",
       "   'time_step': 0.003260059176750903,\n",
       "   'td_error': 0.9831215379138788,\n",
       "   'advantage': -0.12544745650668326,\n",
       "   'value_scale': 1.0730089680529256,\n",
       "   'environment': 99.3}),\n",
       " (7,\n",
       "  {'time_sample_batch': 0.00010595553004838065,\n",
       "   'time_algorithm_update': 0.0029992861246484308,\n",
       "   'loss': 7.0120120548852535e-06,\n",
       "   'time_step': 0.0031801108722738177,\n",
       "   'td_error': 0.982881306147701,\n",
       "   'advantage': -0.11057738133555271,\n",
       "   'value_scale': 1.0711203961692182,\n",
       "   'environment': 152.6}),\n",
       " (8,\n",
       "  {'time_sample_batch': 0.00011502250506871473,\n",
       "   'time_algorithm_update': 0.003311586187213579,\n",
       "   'loss': 7.016652208064585e-06,\n",
       "   'time_step': 0.003509262180071314,\n",
       "   'td_error': 0.9860360994536276,\n",
       "   'advantage': -0.22346773301398976,\n",
       "   'value_scale': 1.0732343780454097,\n",
       "   'environment': 149.1}),\n",
       " (9,\n",
       "  {'time_sample_batch': 0.0001122112865396587,\n",
       "   'time_algorithm_update': 0.0031580108837939978,\n",
       "   'loss': 7.5880011481197564e-06,\n",
       "   'time_step': 0.003349788748029107,\n",
       "   'td_error': 0.9845790799986306,\n",
       "   'advantage': -0.17504556564075838,\n",
       "   'value_scale': 1.0736828844250994,\n",
       "   'environment': 169.0}),\n",
       " (10,\n",
       "  {'time_sample_batch': 0.00011082286783305782,\n",
       "   'time_algorithm_update': 0.0030986314835252785,\n",
       "   'loss': 7.565187162005304e-06,\n",
       "   'time_step': 0.0032873475005363198,\n",
       "   'td_error': 0.9839800890170002,\n",
       "   'advantage': -0.1490605409202769,\n",
       "   'value_scale': 1.0740309759892235,\n",
       "   'environment': 189.7})]"
      ]
     },
     "execution_count": 153,
     "metadata": {},
     "output_type": "execute_result"
    }
   ],
   "source": [
    "from d3rlpy.algos import DQN\n",
    "from d3rlpy.metrics.scorer import evaluate_on_environment\n",
    "from d3rlpy.metrics.scorer import discounted_sum_of_advantage_scorer\n",
    "\n",
    "# if you don't use GPU, set use_gpu=False instead.\n",
    "dqn = DQN(use_gpu=False)\n",
    "\n",
    "# initialize neural networks with the given observation shape and action size.\n",
    "# this is not necessary when you directly call fit or fit_online method.\n",
    "dqn.build_with_dataset(dataset_trained)\n",
    "\n",
    "# calculate metrics with test dataset\n",
    "td_error = td_error_scorer(dqn, test_episodes)\n",
    "\n",
    "# set environment in scorer function, returns mean return per episode\n",
    "evaluate_scorer = evaluate_on_environment(env)\n",
    "\n",
    "# evaluate algorithm on the environment\n",
    "rewards = evaluate_scorer(dqn)\n",
    "\n",
    "# Use the output of learning, this is the mean reward and the most useful metric to measure learning\n",
    "dqn.fit(train_episodes,\n",
    "        eval_episodes=test_episodes,\n",
    "        n_epochs=10,\n",
    "        scorers={\n",
    "            'td_error': td_error_scorer,\n",
    "            'advantage': discounted_sum_of_advantage_scorer,\n",
    "            'value_scale': average_value_estimation_scorer,\n",
    "            'environment': evaluate_scorer\n",
    "        })"
   ]
  },
  {
   "cell_type": "code",
   "execution_count": 154,
   "id": "99d07dc4",
   "metadata": {},
   "outputs": [
    {
     "data": {
      "text/plain": [
       "118.18"
      ]
     },
     "execution_count": 154,
     "metadata": {},
     "output_type": "execute_result"
    }
   ],
   "source": [
    "evaluate_mean_rewards(dqn)"
   ]
  },
  {
   "cell_type": "code",
   "execution_count": 155,
   "id": "55217b36",
   "metadata": {},
   "outputs": [],
   "source": [
    "train_episodes, test_episodes = train_test_split(dataset_random, test_size=0.2)"
   ]
  },
  {
   "cell_type": "code",
   "execution_count": 156,
   "id": "250e99bc",
   "metadata": {
    "scrolled": false
   },
   "outputs": [
    {
     "name": "stdout",
     "output_type": "stream",
     "text": [
      "2023-03-13 19:07:50 [debug    ] RoundIterator is selected.\n",
      "2023-03-13 19:07:50 [info     ] Directory is created at d3rlpy_logs/DQN_20230313190750\n",
      "2023-03-13 19:07:50 [warning  ] Skip building models since they're already built.\n",
      "2023-03-13 19:07:50 [info     ] Parameters are saved to d3rlpy_logs/DQN_20230313190750/params.json params={'action_scaler': None, 'batch_size': 32, 'encoder_factory': {'type': 'default', 'params': {'activation': 'relu', 'use_batch_norm': False, 'dropout_rate': None}}, 'gamma': 0.99, 'generated_maxlen': 100000, 'learning_rate': 6.25e-05, 'n_critics': 1, 'n_frames': 1, 'n_steps': 1, 'optim_factory': {'optim_cls': 'Adam', 'betas': (0.9, 0.999), 'eps': 1e-08, 'weight_decay': 0, 'amsgrad': False}, 'q_func_factory': {'type': 'mean', 'params': {'share_encoder': False}}, 'real_ratio': 1.0, 'reward_scaler': None, 'scaler': None, 'target_update_interval': 8000, 'use_gpu': None, 'algorithm': 'DQN', 'observation_shape': (4,), 'action_size': 2}\n"
     ]
    },
    {
     "data": {
      "application/vnd.jupyter.widget-view+json": {
       "model_id": "efe01562d8154796b6c6ebb3d8a67ead",
       "version_major": 2,
       "version_minor": 0
      },
      "text/plain": [
       "Epoch 1/10:   0%|          | 0/12473 [00:00<?, ?it/s]"
      ]
     },
     "metadata": {},
     "output_type": "display_data"
    },
    {
     "name": "stdout",
     "output_type": "stream",
     "text": [
      "2023-03-13 19:08:41 [info     ] DQN_20230313190750: epoch=1 step=12473 epoch=1 metrics={'time_sample_batch': 0.00010740599291637906, 'time_algorithm_update': 0.0029705155300059948, 'loss': 0.007300398724316957, 'time_step': 0.003226995257877132, 'td_error': 0.9154510430734613, 'value_scale': 1.989812987434266, 'environment': 13.1} step=12473\n",
      "2023-03-13 19:08:41 [info     ] Model parameters are saved to d3rlpy_logs/DQN_20230313190750/model_12473.pt\n"
     ]
    },
    {
     "data": {
      "application/vnd.jupyter.widget-view+json": {
       "model_id": "91e4b9a8d94d493aaaf6b5cda67bb8c8",
       "version_major": 2,
       "version_minor": 0
      },
      "text/plain": [
       "Epoch 2/10:   0%|          | 0/12473 [00:00<?, ?it/s]"
      ]
     },
     "metadata": {},
     "output_type": "display_data"
    },
    {
     "name": "stdout",
     "output_type": "stream",
     "text": [
      "2023-03-13 19:09:30 [info     ] DQN_20230313190750: epoch=2 step=24946 epoch=2 metrics={'time_sample_batch': 9.262298969949896e-05, 'time_algorithm_update': 0.002876004726972957, 'loss': 0.019224161197751933, 'time_step': 0.0030891139496015984, 'td_error': 0.8774920830094897, 'value_scale': 3.8550574445173433, 'environment': 165.1} step=24946\n",
      "2023-03-13 19:09:30 [info     ] Model parameters are saved to d3rlpy_logs/DQN_20230313190750/model_24946.pt\n"
     ]
    },
    {
     "data": {
      "application/vnd.jupyter.widget-view+json": {
       "model_id": "ac338a99a9b5418aa5288672f44c0c3a",
       "version_major": 2,
       "version_minor": 0
      },
      "text/plain": [
       "Epoch 3/10:   0%|          | 0/12473 [00:00<?, ?it/s]"
      ]
     },
     "metadata": {},
     "output_type": "display_data"
    },
    {
     "name": "stdout",
     "output_type": "stream",
     "text": [
      "2023-03-13 19:10:22 [info     ] DQN_20230313190750: epoch=3 step=37419 epoch=3 metrics={'time_sample_batch': 9.637766657400884e-05, 'time_algorithm_update': 0.002961667989141947, 'loss': 0.025945931547490222, 'time_step': 0.0031868134792734336, 'td_error': 0.8805363140884244, 'value_scale': 4.753485571590386, 'environment': 129.4} step=37419\n",
      "2023-03-13 19:10:22 [info     ] Model parameters are saved to d3rlpy_logs/DQN_20230313190750/model_37419.pt\n"
     ]
    },
    {
     "data": {
      "application/vnd.jupyter.widget-view+json": {
       "model_id": "8c5d18f427494b2f85b2280903053b91",
       "version_major": 2,
       "version_minor": 0
      },
      "text/plain": [
       "Epoch 4/10:   0%|          | 0/12473 [00:00<?, ?it/s]"
      ]
     },
     "metadata": {},
     "output_type": "display_data"
    },
    {
     "name": "stdout",
     "output_type": "stream",
     "text": [
      "2023-03-13 19:11:14 [info     ] DQN_20230313190750: epoch=4 step=49892 epoch=4 metrics={'time_sample_batch': 0.00010250079778033443, 'time_algorithm_update': 0.002999999839894651, 'loss': 0.029049355781752006, 'time_step': 0.0032261638990010904, 'td_error': 0.8977108749277593, 'value_scale': 6.4617853311665225, 'environment': 198.4} step=49892\n",
      "2023-03-13 19:11:14 [info     ] Model parameters are saved to d3rlpy_logs/DQN_20230313190750/model_49892.pt\n"
     ]
    },
    {
     "data": {
      "application/vnd.jupyter.widget-view+json": {
       "model_id": "c7edc0dccb614600b101074cc75228d1",
       "version_major": 2,
       "version_minor": 0
      },
      "text/plain": [
       "Epoch 5/10:   0%|          | 0/12473 [00:00<?, ?it/s]"
      ]
     },
     "metadata": {},
     "output_type": "display_data"
    },
    {
     "name": "stdout",
     "output_type": "stream",
     "text": [
      "2023-03-13 19:12:07 [info     ] DQN_20230313190750: epoch=5 step=62365 epoch=5 metrics={'time_sample_batch': 0.00010686229227788273, 'time_algorithm_update': 0.0030226505797627855, 'loss': 0.033463577602898954, 'time_step': 0.003262710104888571, 'td_error': 0.9232798758382001, 'value_scale': 7.402156132463645, 'environment': 189.9} step=62365\n",
      "2023-03-13 19:12:07 [info     ] Model parameters are saved to d3rlpy_logs/DQN_20230313190750/model_62365.pt\n"
     ]
    },
    {
     "data": {
      "application/vnd.jupyter.widget-view+json": {
       "model_id": "b9f4983dfdda426491f4833a6c22cc29",
       "version_major": 2,
       "version_minor": 0
      },
      "text/plain": [
       "Epoch 6/10:   0%|          | 0/12473 [00:00<?, ?it/s]"
      ]
     },
     "metadata": {},
     "output_type": "display_data"
    },
    {
     "name": "stdout",
     "output_type": "stream",
     "text": [
      "2023-03-13 19:13:02 [info     ] DQN_20230313190750: epoch=6 step=74838 epoch=6 metrics={'time_sample_batch': 0.00010990138846392583, 'time_algorithm_update': 0.0032613820294891166, 'loss': 0.04279645937602827, 'time_step': 0.003503515450275672, 'td_error': 1.022839158552869, 'value_scale': 9.176658419550185, 'environment': 148.8} step=74838\n",
      "2023-03-13 19:13:02 [info     ] Model parameters are saved to d3rlpy_logs/DQN_20230313190750/model_74838.pt\n"
     ]
    },
    {
     "data": {
      "application/vnd.jupyter.widget-view+json": {
       "model_id": "9d34bd6c6e0a4561b174bee85295c82c",
       "version_major": 2,
       "version_minor": 0
      },
      "text/plain": [
       "Epoch 7/10:   0%|          | 0/12473 [00:00<?, ?it/s]"
      ]
     },
     "metadata": {},
     "output_type": "display_data"
    },
    {
     "name": "stdout",
     "output_type": "stream",
     "text": [
      "2023-03-13 19:13:55 [info     ] DQN_20230313190750: epoch=7 step=87311 epoch=7 metrics={'time_sample_batch': 0.00010684241291267262, 'time_algorithm_update': 0.0031818968726171674, 'loss': 0.05209862822889459, 'time_step': 0.0034250694489905325, 'td_error': 1.0755130054085789, 'value_scale': 9.98658522042752, 'environment': 115.0} step=87311\n",
      "2023-03-13 19:13:55 [info     ] Model parameters are saved to d3rlpy_logs/DQN_20230313190750/model_87311.pt\n"
     ]
    },
    {
     "data": {
      "application/vnd.jupyter.widget-view+json": {
       "model_id": "b82d60f50492490da320dc333347f43b",
       "version_major": 2,
       "version_minor": 0
      },
      "text/plain": [
       "Epoch 8/10:   0%|          | 0/12473 [00:00<?, ?it/s]"
      ]
     },
     "metadata": {},
     "output_type": "display_data"
    },
    {
     "name": "stdout",
     "output_type": "stream",
     "text": [
      "2023-03-13 19:14:47 [info     ] DQN_20230313190750: epoch=8 step=99784 epoch=8 metrics={'time_sample_batch': 0.00010092547277607915, 'time_algorithm_update': 0.0030981286109368305, 'loss': 0.06506972424293393, 'time_step': 0.0033279058211293034, 'td_error': 1.195821588186276, 'value_scale': 11.665359968979724, 'environment': 122.1} step=99784\n",
      "2023-03-13 19:14:47 [info     ] Model parameters are saved to d3rlpy_logs/DQN_20230313190750/model_99784.pt\n"
     ]
    },
    {
     "data": {
      "application/vnd.jupyter.widget-view+json": {
       "model_id": "b17d4e4011894535baf94323eb6a5f87",
       "version_major": 2,
       "version_minor": 0
      },
      "text/plain": [
       "Epoch 9/10:   0%|          | 0/12473 [00:00<?, ?it/s]"
      ]
     },
     "metadata": {},
     "output_type": "display_data"
    },
    {
     "name": "stdout",
     "output_type": "stream",
     "text": [
      "2023-03-13 19:15:40 [info     ] DQN_20230313190750: epoch=9 step=112257 epoch=9 metrics={'time_sample_batch': 0.00010414751646637793, 'time_algorithm_update': 0.0031380276820295117, 'loss': 0.07419467414129627, 'time_step': 0.0033796215691983553, 'td_error': 1.3563738346002665, 'value_scale': 13.410262844828551, 'environment': 112.3} step=112257\n",
      "2023-03-13 19:15:40 [info     ] Model parameters are saved to d3rlpy_logs/DQN_20230313190750/model_112257.pt\n"
     ]
    },
    {
     "data": {
      "application/vnd.jupyter.widget-view+json": {
       "model_id": "8c0c311a3d494357802d011a2bb0e1c0",
       "version_major": 2,
       "version_minor": 0
      },
      "text/plain": [
       "Epoch 10/10:   0%|          | 0/12473 [00:00<?, ?it/s]"
      ]
     },
     "metadata": {},
     "output_type": "display_data"
    },
    {
     "name": "stdout",
     "output_type": "stream",
     "text": [
      "2023-03-13 19:16:33 [info     ] DQN_20230313190750: epoch=10 step=124730 epoch=10 metrics={'time_sample_batch': 0.0001025821884890504, 'time_algorithm_update': 0.003151704972015677, 'loss': 0.08543142601732101, 'time_step': 0.0033856501969608357, 'td_error': 1.3679511803102369, 'value_scale': 14.214068009820659, 'environment': 113.1} step=124730\n",
      "2023-03-13 19:16:33 [info     ] Model parameters are saved to d3rlpy_logs/DQN_20230313190750/model_124730.pt\n"
     ]
    },
    {
     "data": {
      "text/plain": [
       "[(1,\n",
       "  {'time_sample_batch': 0.00010740599291637906,\n",
       "   'time_algorithm_update': 0.0029705155300059948,\n",
       "   'loss': 0.007300398724316957,\n",
       "   'time_step': 0.003226995257877132,\n",
       "   'td_error': 0.9154510430734613,\n",
       "   'value_scale': 1.989812987434266,\n",
       "   'environment': 13.1}),\n",
       " (2,\n",
       "  {'time_sample_batch': 9.262298969949896e-05,\n",
       "   'time_algorithm_update': 0.002876004726972957,\n",
       "   'loss': 0.019224161197751933,\n",
       "   'time_step': 0.0030891139496015984,\n",
       "   'td_error': 0.8774920830094897,\n",
       "   'value_scale': 3.8550574445173433,\n",
       "   'environment': 165.1}),\n",
       " (3,\n",
       "  {'time_sample_batch': 9.637766657400884e-05,\n",
       "   'time_algorithm_update': 0.002961667989141947,\n",
       "   'loss': 0.025945931547490222,\n",
       "   'time_step': 0.0031868134792734336,\n",
       "   'td_error': 0.8805363140884244,\n",
       "   'value_scale': 4.753485571590386,\n",
       "   'environment': 129.4}),\n",
       " (4,\n",
       "  {'time_sample_batch': 0.00010250079778033443,\n",
       "   'time_algorithm_update': 0.002999999839894651,\n",
       "   'loss': 0.029049355781752006,\n",
       "   'time_step': 0.0032261638990010904,\n",
       "   'td_error': 0.8977108749277593,\n",
       "   'value_scale': 6.4617853311665225,\n",
       "   'environment': 198.4}),\n",
       " (5,\n",
       "  {'time_sample_batch': 0.00010686229227788273,\n",
       "   'time_algorithm_update': 0.0030226505797627855,\n",
       "   'loss': 0.033463577602898954,\n",
       "   'time_step': 0.003262710104888571,\n",
       "   'td_error': 0.9232798758382001,\n",
       "   'value_scale': 7.402156132463645,\n",
       "   'environment': 189.9}),\n",
       " (6,\n",
       "  {'time_sample_batch': 0.00010990138846392583,\n",
       "   'time_algorithm_update': 0.0032613820294891166,\n",
       "   'loss': 0.04279645937602827,\n",
       "   'time_step': 0.003503515450275672,\n",
       "   'td_error': 1.022839158552869,\n",
       "   'value_scale': 9.176658419550185,\n",
       "   'environment': 148.8}),\n",
       " (7,\n",
       "  {'time_sample_batch': 0.00010684241291267262,\n",
       "   'time_algorithm_update': 0.0031818968726171674,\n",
       "   'loss': 0.05209862822889459,\n",
       "   'time_step': 0.0034250694489905325,\n",
       "   'td_error': 1.0755130054085789,\n",
       "   'value_scale': 9.98658522042752,\n",
       "   'environment': 115.0}),\n",
       " (8,\n",
       "  {'time_sample_batch': 0.00010092547277607915,\n",
       "   'time_algorithm_update': 0.0030981286109368305,\n",
       "   'loss': 0.06506972424293393,\n",
       "   'time_step': 0.0033279058211293034,\n",
       "   'td_error': 1.195821588186276,\n",
       "   'value_scale': 11.665359968979724,\n",
       "   'environment': 122.1}),\n",
       " (9,\n",
       "  {'time_sample_batch': 0.00010414751646637793,\n",
       "   'time_algorithm_update': 0.0031380276820295117,\n",
       "   'loss': 0.07419467414129627,\n",
       "   'time_step': 0.0033796215691983553,\n",
       "   'td_error': 1.3563738346002665,\n",
       "   'value_scale': 13.410262844828551,\n",
       "   'environment': 112.3}),\n",
       " (10,\n",
       "  {'time_sample_batch': 0.0001025821884890504,\n",
       "   'time_algorithm_update': 0.003151704972015677,\n",
       "   'loss': 0.08543142601732101,\n",
       "   'time_step': 0.0033856501969608357,\n",
       "   'td_error': 1.3679511803102369,\n",
       "   'value_scale': 14.214068009820659,\n",
       "   'environment': 113.1})]"
      ]
     },
     "execution_count": 156,
     "metadata": {},
     "output_type": "execute_result"
    }
   ],
   "source": [
    "from d3rlpy.algos import DQN\n",
    "from d3rlpy.metrics.scorer import evaluate_on_environment\n",
    "\n",
    "# if you don't use GPU, set use_gpu=False instead.\n",
    "dqn = DQN(use_gpu=False)\n",
    "\n",
    "# initialize neural networks with the given observation shape and action size.\n",
    "# this is not necessary when you directly call fit or fit_online method.\n",
    "dqn.build_with_dataset(dataset_random)\n",
    "\n",
    "# calculate metrics with test dataset\n",
    "td_error = td_error_scorer(dqn, test_episodes)\n",
    "\n",
    "# set environment in scorer function, returns mean return per episode\n",
    "evaluate_scorer = evaluate_on_environment(env)\n",
    "\n",
    "# evaluate algorithm on the environment\n",
    "rewards = evaluate_scorer(dqn)\n",
    "\n",
    "# Use the output of learning, this is the mean reward and the most useful metric to measure learning\n",
    "dqn.fit(train_episodes,\n",
    "        eval_episodes=test_episodes,\n",
    "        n_epochs=10,\n",
    "        scorers={\n",
    "            'td_error': td_error_scorer,\n",
    "            'value_scale': average_value_estimation_scorer,\n",
    "            'environment': evaluate_scorer\n",
    "        })"
   ]
  },
  {
   "cell_type": "code",
   "execution_count": 157,
   "id": "5ef5cab3",
   "metadata": {},
   "outputs": [
    {
     "data": {
      "text/plain": [
       "112.54"
      ]
     },
     "execution_count": 157,
     "metadata": {},
     "output_type": "execute_result"
    }
   ],
   "source": [
    "evaluate_mean_rewards(dqn)"
   ]
  },
  {
   "cell_type": "markdown",
   "id": "500e0a7e",
   "metadata": {},
   "source": [
    "### Online learning"
   ]
  },
  {
   "cell_type": "code",
   "execution_count": 25,
   "id": "cd3f915b",
   "metadata": {
    "scrolled": false
   },
   "outputs": [
    {
     "name": "stdout",
     "output_type": "stream",
     "text": [
      "2023-03-13 21:20:49 [info     ] Directory is created at d3rlpy_logs/DQN_online_20230313212049\n",
      "2023-03-13 21:20:49 [debug    ] Building model...\n",
      "2023-03-13 21:20:49 [debug    ] Model has been built.\n",
      "2023-03-13 21:20:49 [info     ] Parameters are saved to d3rlpy_logs/DQN_online_20230313212049/params.json params={'action_scaler': None, 'batch_size': 32, 'encoder_factory': {'type': 'default', 'params': {'activation': 'relu', 'use_batch_norm': False, 'dropout_rate': None}}, 'gamma': 0.99, 'generated_maxlen': 100000, 'learning_rate': 0.00025, 'n_critics': 1, 'n_frames': 1, 'n_steps': 1, 'optim_factory': {'optim_cls': 'Adam', 'betas': (0.9, 0.999), 'eps': 1e-08, 'weight_decay': 0, 'amsgrad': False}, 'q_func_factory': {'type': 'mean', 'params': {'share_encoder': False}}, 'real_ratio': 1.0, 'reward_scaler': None, 'scaler': None, 'target_update_interval': 100, 'use_gpu': None, 'algorithm': 'DQN', 'observation_shape': (4,), 'action_size': 2}\n"
     ]
    },
    {
     "data": {
      "application/vnd.jupyter.widget-view+json": {
       "model_id": "e25c58d4d5494a33988844f0c83833ab",
       "version_major": 2,
       "version_minor": 0
      },
      "text/plain": [
       "  0%|          | 0/30000 [00:00<?, ?it/s]"
      ]
     },
     "metadata": {},
     "output_type": "display_data"
    },
    {
     "name": "stdout",
     "output_type": "stream",
     "text": [
      "2023-03-13 21:20:50 [info     ] Model parameters are saved to d3rlpy_logs/DQN_online_20230313212049/model_1000.pt\n",
      "2023-03-13 21:20:50 [info     ] DQN_online_20230313212049: epoch=1 step=1000 epoch=1 metrics={'time_inference': 0.0004169473648071289, 'time_environment_step': 2.602863311767578e-05, 'time_step': 0.0007641551494598389, 'rollout_return': 21.644444444444446, 'time_sample_batch': 9.524699338932627e-05, 'time_algorithm_update': 0.002843411927370681, 'loss': 0.08660790181752372, 'evaluation': 9.5} step=1000\n"
     ]
    },
    {
     "name": "stderr",
     "output_type": "stream",
     "text": [
      "/Users/srrajamohan/Library/Caches/pypoetry/virtualenvs/d3rlpy-test-sPPwEgcv-py3.8/lib/python3.8/site-packages/gym/logger.py:30: UserWarning: \u001b[33mWARN: You are calling 'step()' even though this environment has already returned done = True. You should always call 'reset()' once you receive 'done = True' -- any further steps are undefined behavior.\u001b[0m\n",
      "  warnings.warn(colorize('%s: %s'%('WARN', msg % args), 'yellow'))\n"
     ]
    },
    {
     "name": "stdout",
     "output_type": "stream",
     "text": [
      "2023-03-13 21:20:51 [info     ] Model parameters are saved to d3rlpy_logs/DQN_online_20230313212049/model_2000.pt\n",
      "2023-03-13 21:20:51 [info     ] DQN_online_20230313212049: epoch=2 step=2000 epoch=2 metrics={'time_inference': 0.0004888932704925537, 'time_environment_step': 3.517484664916992e-05, 'rollout_return': 17.379310344827587, 'time_step': 0.0009009079933166503, 'time_sample_batch': 0.00010745763778686523, 'time_algorithm_update': 0.003226022720336914, 'loss': 0.08970669858856127, 'evaluation': 9.9} step=2000\n",
      "2023-03-13 21:20:52 [info     ] Model parameters are saved to d3rlpy_logs/DQN_online_20230313212049/model_3000.pt\n",
      "2023-03-13 21:20:52 [info     ] DQN_online_20230313212049: epoch=3 step=3000 epoch=3 metrics={'time_inference': 0.0004937760829925537, 'time_environment_step': 3.0050039291381836e-05, 'rollout_return': 24.6, 'time_step': 0.0009081027507781982, 'time_sample_batch': 0.00011012792587280274, 'time_algorithm_update': 0.0033162784576416015, 'loss': 0.12341344485990703, 'evaluation': 22.5} step=3000\n",
      "2023-03-13 21:20:53 [info     ] Model parameters are saved to d3rlpy_logs/DQN_online_20230313212049/model_4000.pt\n",
      "2023-03-13 21:20:53 [info     ] DQN_online_20230313212049: epoch=4 step=4000 epoch=4 metrics={'time_inference': 0.00039680290222167966, 'time_environment_step': 2.4392843246459963e-05, 'rollout_return': 39.375, 'time_step': 0.0007317221164703369, 'time_sample_batch': 9.186506271362305e-05, 'time_algorithm_update': 0.0026699209213256834, 'loss': 0.1587106032297015, 'evaluation': 115.9} step=4000\n",
      "2023-03-13 21:20:54 [info     ] Model parameters are saved to d3rlpy_logs/DQN_online_20230313212049/model_5000.pt\n",
      "2023-03-13 21:20:54 [info     ] DQN_online_20230313212049: epoch=5 step=5000 epoch=5 metrics={'time_inference': 0.00037738728523254393, 'time_environment_step': 2.3194074630737305e-05, 'rollout_return': 43.04, 'time_step': 0.0007027053833007813, 'time_sample_batch': 8.992910385131836e-05, 'time_algorithm_update': 0.0026053357124328613, 'loss': 0.1851460728328675, 'evaluation': 59.8} step=5000\n",
      "2023-03-13 21:20:55 [info     ] Model parameters are saved to d3rlpy_logs/DQN_online_20230313212049/model_6000.pt\n",
      "2023-03-13 21:20:55 [info     ] DQN_online_20230313212049: epoch=6 step=6000 epoch=6 metrics={'time_inference': 0.00036832380294799807, 'time_environment_step': 2.2469997406005858e-05, 'rollout_return': 43.42857142857143, 'time_step': 0.0006804184913635254, 'time_sample_batch': 8.925199508666993e-05, 'time_algorithm_update': 0.0024966883659362795, 'loss': 0.2566970557812601, 'evaluation': 179.3} step=6000\n",
      "2023-03-13 21:20:57 [info     ] Model parameters are saved to d3rlpy_logs/DQN_online_20230313212049/model_7000.pt\n",
      "2023-03-13 21:20:57 [info     ] DQN_online_20230313212049: epoch=7 step=7000 epoch=7 metrics={'time_inference': 0.00037499046325683595, 'time_environment_step': 2.326393127441406e-05, 'rollout_return': 88.33333333333333, 'time_step': 0.0007009890079498291, 'time_sample_batch': 8.821725845336914e-05, 'time_algorithm_update': 0.002621469497680664, 'loss': 0.2196395999379456, 'evaluation': 177.2} step=7000\n",
      "2023-03-13 21:20:58 [info     ] Model parameters are saved to d3rlpy_logs/DQN_online_20230313212049/model_8000.pt\n",
      "2023-03-13 21:20:58 [info     ] DQN_online_20230313212049: epoch=8 step=8000 epoch=8 metrics={'time_inference': 0.0004158153533935547, 'time_environment_step': 2.5305986404418947e-05, 'rollout_return': 101.88888888888889, 'time_step': 0.0007796688079833985, 'time_sample_batch': 9.7503662109375e-05, 'time_algorithm_update': 0.002941100597381592, 'loss': 0.2910364247299731, 'evaluation': 121.4} step=8000\n",
      "2023-03-13 21:21:00 [info     ] Model parameters are saved to d3rlpy_logs/DQN_online_20230313212049/model_9000.pt\n",
      "2023-03-13 21:21:00 [info     ] DQN_online_20230313212049: epoch=9 step=9000 epoch=9 metrics={'time_inference': 0.0004074845314025879, 'time_environment_step': 2.5250673294067384e-05, 'rollout_return': 152.28571428571428, 'time_step': 0.0007772648334503174, 'time_sample_batch': 9.60230827331543e-05, 'time_algorithm_update': 0.003006598949432373, 'loss': 0.28787865286692976, 'evaluation': 200.0} step=9000\n",
      "2023-03-13 21:21:01 [info     ] Model parameters are saved to d3rlpy_logs/DQN_online_20230313212049/model_10000.pt\n",
      "2023-03-13 21:21:01 [info     ] DQN_online_20230313212049: epoch=10 step=10000 epoch=10 metrics={'time_inference': 0.0004094808101654053, 'time_environment_step': 2.5128602981567384e-05, 'rollout_return': 170.6, 'time_step': 0.0007756297588348388, 'time_sample_batch': 9.691476821899414e-05, 'time_algorithm_update': 0.0029679131507873535, 'loss': 0.3123802712280303, 'evaluation': 200.0} step=10000\n",
      "2023-03-13 21:21:03 [info     ] Model parameters are saved to d3rlpy_logs/DQN_online_20230313212049/model_11000.pt\n",
      "2023-03-13 21:21:03 [info     ] DQN_online_20230313212049: epoch=11 step=11000 epoch=11 metrics={'time_inference': 0.00040919041633605957, 'time_environment_step': 2.5083303451538084e-05, 'rollout_return': 191.16666666666666, 'time_step': 0.0007765817642211914, 'time_sample_batch': 9.860754013061523e-05, 'time_algorithm_update': 0.0029806923866271973, 'loss': 0.30387485122308133, 'evaluation': 181.4} step=11000\n",
      "2023-03-13 21:21:04 [info     ] Model parameters are saved to d3rlpy_logs/DQN_online_20230313212049/model_12000.pt\n",
      "2023-03-13 21:21:04 [info     ] DQN_online_20230313212049: epoch=12 step=12000 epoch=12 metrics={'time_inference': 0.0004790945053100586, 'time_environment_step': 2.9973268508911133e-05, 'rollout_return': 163.83333333333334, 'time_step': 0.0009153466224670411, 'time_sample_batch': 0.00011214494705200195, 'time_algorithm_update': 0.0035391497611999513, 'loss': 0.2937081304262392, 'evaluation': 193.7} step=12000\n",
      "2023-03-13 21:21:06 [info     ] Model parameters are saved to d3rlpy_logs/DQN_online_20230313212049/model_13000.pt\n",
      "2023-03-13 21:21:06 [info     ] DQN_online_20230313212049: epoch=13 step=13000 epoch=13 metrics={'time_inference': 0.00045797538757324217, 'time_environment_step': 2.846360206604004e-05, 'rollout_return': 174.0, 'time_step': 0.0008645246028900147, 'time_sample_batch': 0.00010692119598388671, 'time_algorithm_update': 0.003285510540008545, 'loss': 0.2688919360516593, 'evaluation': 200.0} step=13000\n",
      "2023-03-13 21:21:07 [info     ] Model parameters are saved to d3rlpy_logs/DQN_online_20230313212049/model_14000.pt\n",
      "2023-03-13 21:21:07 [info     ] DQN_online_20230313212049: epoch=14 step=14000 epoch=14 metrics={'time_inference': 0.00041005969047546386, 'time_environment_step': 2.5229215621948243e-05, 'rollout_return': 200.0, 'time_step': 0.0007827694416046142, 'time_sample_batch': 9.992122650146485e-05, 'time_algorithm_update': 0.00303300142288208, 'loss': 0.3116208965564147, 'evaluation': 200.0} step=14000\n",
      "2023-03-13 21:21:09 [info     ] Model parameters are saved to d3rlpy_logs/DQN_online_20230313212049/model_15000.pt\n",
      "2023-03-13 21:21:09 [info     ] DQN_online_20230313212049: epoch=15 step=15000 epoch=15 metrics={'time_inference': 0.0003935477733612061, 'time_environment_step': 2.428460121154785e-05, 'rollout_return': 200.0, 'time_step': 0.0007480278015136719, 'time_sample_batch': 9.773969650268554e-05, 'time_algorithm_update': 0.002872452735900879, 'loss': 0.30284565056674184, 'evaluation': 200.0} step=15000\n",
      "2023-03-13 21:21:10 [info     ] Model parameters are saved to d3rlpy_logs/DQN_online_20230313212049/model_16000.pt\n",
      "2023-03-13 21:21:11 [info     ] DQN_online_20230313212049: epoch=16 step=16000 epoch=16 metrics={'time_inference': 0.00044177770614624025, 'time_environment_step': 2.7106285095214842e-05, 'rollout_return': 200.0, 'time_step': 0.0008438766002655029, 'time_sample_batch': 0.00010128498077392578, 'time_algorithm_update': 0.0032790255546569823, 'loss': 0.417624188750051, 'evaluation': 200.0} step=16000\n",
      "2023-03-13 21:21:12 [info     ] Model parameters are saved to d3rlpy_logs/DQN_online_20230313212049/model_17000.pt\n",
      "2023-03-13 21:21:12 [info     ] DQN_online_20230313212049: epoch=17 step=17000 epoch=17 metrics={'time_inference': 0.0004048631191253662, 'time_environment_step': 2.4890661239624024e-05, 'rollout_return': 185.83333333333334, 'time_step': 0.0007799403667449951, 'time_sample_batch': 9.693861007690429e-05, 'time_algorithm_update': 0.003063347339630127, 'loss': 0.3104957369761541, 'evaluation': 194.1} step=17000\n"
     ]
    },
    {
     "name": "stdout",
     "output_type": "stream",
     "text": [
      "2023-03-13 21:21:14 [info     ] Model parameters are saved to d3rlpy_logs/DQN_online_20230313212049/model_18000.pt\n",
      "2023-03-13 21:21:14 [info     ] DQN_online_20230313212049: epoch=18 step=18000 epoch=18 metrics={'time_inference': 0.000451561450958252, 'time_environment_step': 2.7823448181152344e-05, 'rollout_return': 168.83333333333334, 'time_step': 0.0008637833595275878, 'time_sample_batch': 0.00010782241821289063, 'time_algorithm_update': 0.003356950283050537, 'loss': 0.26459000358823687, 'evaluation': 191.5} step=18000\n",
      "2023-03-13 21:21:15 [info     ] Model parameters are saved to d3rlpy_logs/DQN_online_20230313212049/model_19000.pt\n",
      "2023-03-13 21:21:15 [info     ] DQN_online_20230313212049: epoch=19 step=19000 epoch=19 metrics={'time_inference': 0.0004463624954223633, 'time_environment_step': 2.752518653869629e-05, 'rollout_return': 174.83333333333334, 'time_step': 0.0008587243556976319, 'time_sample_batch': 0.0001045536994934082, 'time_algorithm_update': 0.0033627605438232423, 'loss': 0.3369281088234857, 'evaluation': 186.3} step=19000\n",
      "2023-03-13 21:21:17 [info     ] Model parameters are saved to d3rlpy_logs/DQN_online_20230313212049/model_20000.pt\n",
      "2023-03-13 21:21:17 [info     ] DQN_online_20230313212049: epoch=20 step=20000 epoch=20 metrics={'time_inference': 0.000387556791305542, 'time_environment_step': 2.4289608001708984e-05, 'rollout_return': 157.5, 'time_step': 0.0007456836700439453, 'time_sample_batch': 9.68337059020996e-05, 'time_algorithm_update': 0.0029161596298217774, 'loss': 0.41932186658959836, 'evaluation': 183.5} step=20000\n",
      "2023-03-13 21:21:18 [info     ] Model parameters are saved to d3rlpy_logs/DQN_online_20230313212049/model_21000.pt\n",
      "2023-03-13 21:21:18 [info     ] DQN_online_20230313212049: epoch=21 step=21000 epoch=21 metrics={'time_inference': 0.0004354562759399414, 'time_environment_step': 2.657055854797363e-05, 'rollout_return': 158.66666666666666, 'time_step': 0.0008853561878204346, 'time_sample_batch': 0.00010500192642211915, 'time_algorithm_update': 0.003758852481842041, 'loss': 0.35114392790943383, 'evaluation': 187.1} step=21000\n",
      "2023-03-13 21:21:20 [info     ] Model parameters are saved to d3rlpy_logs/DQN_online_20230313212049/model_22000.pt\n",
      "2023-03-13 21:21:20 [info     ] DQN_online_20230313212049: epoch=22 step=22000 epoch=22 metrics={'time_inference': 0.0003940305709838867, 'time_environment_step': 2.411937713623047e-05, 'rollout_return': 183.16666666666666, 'time_step': 0.0007547640800476074, 'time_sample_batch': 9.514093399047852e-05, 'time_algorithm_update': 0.002937602996826172, 'loss': 0.3804772054310888, 'evaluation': 194.1} step=22000\n",
      "2023-03-13 21:21:21 [info     ] Model parameters are saved to d3rlpy_logs/DQN_online_20230313212049/model_23000.pt\n",
      "2023-03-13 21:21:21 [info     ] DQN_online_20230313212049: epoch=23 step=23000 epoch=23 metrics={'time_inference': 0.0004425539970397949, 'time_environment_step': 2.7155399322509765e-05, 'rollout_return': 164.6, 'time_step': 0.0008418586254119873, 'time_sample_batch': 0.00010515213012695313, 'time_algorithm_update': 0.0032447552680969238, 'loss': 0.32932840515393763, 'evaluation': 199.9} step=23000\n",
      "2023-03-13 21:21:23 [info     ] Model parameters are saved to d3rlpy_logs/DQN_online_20230313212049/model_24000.pt\n",
      "2023-03-13 21:21:23 [info     ] DQN_online_20230313212049: epoch=24 step=24000 epoch=24 metrics={'time_inference': 0.0004222497940063477, 'time_environment_step': 2.607274055480957e-05, 'rollout_return': 199.5, 'time_step': 0.0008097007274627685, 'time_sample_batch': 0.0001036834716796875, 'time_algorithm_update': 0.00315443754196167, 'loss': 0.380274838891346, 'evaluation': 200.0} step=24000\n",
      "2023-03-13 21:21:24 [info     ] Model parameters are saved to d3rlpy_logs/DQN_online_20230313212049/model_25000.pt\n",
      "2023-03-13 21:21:24 [info     ] DQN_online_20230313212049: epoch=25 step=25000 epoch=25 metrics={'time_inference': 0.00038103747367858884, 'time_environment_step': 2.3535013198852538e-05, 'rollout_return': 160.4, 'time_step': 0.000733215093612671, 'time_sample_batch': 9.305953979492187e-05, 'time_algorithm_update': 0.0028717374801635743, 'loss': 0.35307536261621864, 'evaluation': 200.0} step=25000\n",
      "2023-03-13 21:21:25 [info     ] Model parameters are saved to d3rlpy_logs/DQN_online_20230313212049/model_26000.pt\n",
      "2023-03-13 21:21:25 [info     ] DQN_online_20230313212049: epoch=26 step=26000 epoch=26 metrics={'time_inference': 0.0003817741870880127, 'time_environment_step': 2.340221405029297e-05, 'rollout_return': 199.16666666666666, 'time_step': 0.0007359673976898194, 'time_sample_batch': 9.34457778930664e-05, 'time_algorithm_update': 0.0028917956352233886, 'loss': 0.34632835208904, 'evaluation': 197.2} step=26000\n",
      "2023-03-13 21:21:27 [info     ] Model parameters are saved to d3rlpy_logs/DQN_online_20230313212049/model_27000.pt\n",
      "2023-03-13 21:21:27 [info     ] DQN_online_20230313212049: epoch=27 step=27000 epoch=27 metrics={'time_inference': 0.00038112854957580565, 'time_environment_step': 2.3773193359375e-05, 'rollout_return': 166.66666666666666, 'time_step': 0.0007317197322845459, 'time_sample_batch': 9.568691253662109e-05, 'time_algorithm_update': 0.0028505468368530272, 'loss': 0.36880348140373825, 'evaluation': 193.7} step=27000\n",
      "2023-03-13 21:21:29 [info     ] Model parameters are saved to d3rlpy_logs/DQN_online_20230313212049/model_28000.pt\n",
      "2023-03-13 21:21:29 [info     ] DQN_online_20230313212049: epoch=28 step=28000 epoch=28 metrics={'time_inference': 0.0004219551086425781, 'time_environment_step': 2.616429328918457e-05, 'rollout_return': 160.16666666666666, 'time_step': 0.0008124234676361084, 'time_sample_batch': 0.00010146617889404296, 'time_algorithm_update': 0.0031813240051269532, 'loss': 0.46043989757075904, 'evaluation': 200.0} step=28000\n",
      "2023-03-13 21:21:30 [info     ] Model parameters are saved to d3rlpy_logs/DQN_online_20230313212049/model_29000.pt\n",
      "2023-03-13 21:21:30 [info     ] DQN_online_20230313212049: epoch=29 step=29000 epoch=29 metrics={'time_inference': 0.0003983769416809082, 'time_environment_step': 2.4865150451660157e-05, 'rollout_return': 170.33333333333334, 'time_step': 0.0007668654918670655, 'time_sample_batch': 9.835243225097656e-05, 'time_algorithm_update': 0.0030022525787353517, 'loss': 0.43666765252593903, 'evaluation': 197.6} step=29000\n",
      "2023-03-13 21:21:31 [info     ] Model parameters are saved to d3rlpy_logs/DQN_online_20230313212049/model_30000.pt\n",
      "2023-03-13 21:21:31 [info     ] DQN_online_20230313212049: epoch=30 step=30000 epoch=30 metrics={'time_inference': 0.0004047737121582031, 'time_environment_step': 2.5048017501831054e-05, 'rollout_return': 160.0, 'time_step': 0.000778257131576538, 'time_sample_batch': 9.827852249145507e-05, 'time_algorithm_update': 0.003046224117279053, 'loss': 0.49020408479962496, 'evaluation': 199.1} step=30000\n"
     ]
    }
   ],
   "source": [
    "from d3rlpy.algos import DQN\n",
    "from d3rlpy.online.buffers import ReplayBuffer\n",
    "from d3rlpy.online.explorers import LinearDecayEpsilonGreedy\n",
    "\n",
    "eval_env = gym.make('CartPole-v0')\n",
    "\n",
    "# setup algorithm\n",
    "dqn = DQN(batch_size=32,\n",
    "          learning_rate=2.5e-4,\n",
    "          target_update_interval=100,\n",
    "          use_gpu=False)\n",
    "\n",
    "# setup replay buffer\n",
    "buffer = ReplayBuffer(maxlen=100000, env=env)\n",
    "\n",
    "# setup explorers\n",
    "explorer = LinearDecayEpsilonGreedy(start_epsilon=1.0,\n",
    "                                    end_epsilon=0.1,\n",
    "                                    duration=10000)\n",
    "\n",
    "# start training\n",
    "dqn.fit_online(env,\n",
    "               buffer,\n",
    "               explorer=explorer, # you don't need this with probablistic policy algorithms\n",
    "               eval_env=env,\n",
    "               n_steps=30000, # the number of total steps to train.\n",
    "               n_steps_per_epoch=1000,\n",
    "               update_interval=10) # update parameters every 10 steps."
   ]
  },
  {
   "cell_type": "code",
   "execution_count": 26,
   "id": "0493391f",
   "metadata": {},
   "outputs": [
    {
     "data": {
      "text/plain": [
       "198.12"
      ]
     },
     "execution_count": 26,
     "metadata": {},
     "output_type": "execute_result"
    }
   ],
   "source": [
    "evaluate_mean_rewards(dqn)"
   ]
  },
  {
   "cell_type": "markdown",
   "id": "cae04b0f",
   "metadata": {},
   "source": [
    "### Summary\n",
    "\n",
    "Samples from the random set do not result in good learning. You always want to generate samples using a trained policy. About 30000 samples (151 episodes) from a well trained policy gets better results than 500000 samples (22000 episodes) from a random policy. About 10x more samples and and more than 100x more samples in the random sampling. *More episodes are necessary for random samples because the mean length of these samples are small since they do not take ideal actions in this environment*. This behavior depends on the environment, the corridor example might have longer episodes in the random sampling case. The reward is really the only good metric to measure the performance of a learned algorithm.\n",
    "\n",
    "Use the dataset summary to estimate the mean reward in both cases. The mean reward in trained is close to 200 while the random scenario is close to 110."
   ]
  },
  {
   "cell_type": "code",
   "execution_count": 3,
   "id": "ec1bfdbc",
   "metadata": {},
   "outputs": [],
   "source": [
    "from d3rlpy.dataset import MDPDataset\n",
    "from d3rlpy.algos import DiscreteCQL\n",
    "from d3rlpy.datasets import get_cartpole\n",
    "from sklearn.model_selection import train_test_split\n",
    "\n",
    "dataset, env = get_cartpole()\n",
    "\n",
    "# setup CQL algorithm (discrete version)\n",
    "cql = DiscreteCQL(n_frames=4, scaler='pixel', use_gpu=False)\n",
    "\n",
    "# split train and test episodes\n",
    "dataset_trained = dataset.load(\"trained_policy_dataset_80000.h5\")\n",
    "train_episodes, test_episodes = train_test_split(dataset_trained, test_size=0.2)"
   ]
  },
  {
   "cell_type": "code",
   "execution_count": 11,
   "id": "994884aa",
   "metadata": {
    "scrolled": false
   },
   "outputs": [
    {
     "name": "stdout",
     "output_type": "stream",
     "text": [
      "2023-03-13 21:04:12 [debug    ] RoundIterator is selected.\n",
      "2023-03-13 21:04:12 [info     ] Directory is created at d3rlpy_logs/DiscreteCQL_20230313210412\n",
      "2023-03-13 21:04:12 [debug    ] Fitting scaler...              scaler=pixel\n",
      "2023-03-13 21:04:12 [warning  ] Skip building models since they're already built.\n",
      "2023-03-13 21:04:12 [info     ] Parameters are saved to d3rlpy_logs/DiscreteCQL_20230313210412/params.json params={'action_scaler': None, 'alpha': 1.0, 'batch_size': 32, 'encoder_factory': {'type': 'default', 'params': {'activation': 'relu', 'use_batch_norm': False, 'dropout_rate': None}}, 'gamma': 0.99, 'generated_maxlen': 100000, 'learning_rate': 6.25e-05, 'n_critics': 1, 'n_frames': 4, 'n_steps': 1, 'optim_factory': {'optim_cls': 'Adam', 'betas': (0.9, 0.999), 'eps': 1e-08, 'weight_decay': 0, 'amsgrad': False}, 'q_func_factory': {'type': 'mean', 'params': {'share_encoder': False}}, 'real_ratio': 1.0, 'reward_scaler': None, 'scaler': {'type': 'pixel', 'params': {}}, 'target_update_interval': 8000, 'use_gpu': None, 'algorithm': 'DiscreteCQL', 'observation_shape': (4,), 'action_size': 2}\n"
     ]
    },
    {
     "data": {
      "application/vnd.jupyter.widget-view+json": {
       "model_id": "1857150cc511448bbe11ffb24efa14a3",
       "version_major": 2,
       "version_minor": 0
      },
      "text/plain": [
       "Epoch 1/20:   0%|          | 0/2001 [00:00<?, ?it/s]"
      ]
     },
     "metadata": {},
     "output_type": "display_data"
    },
    {
     "name": "stdout",
     "output_type": "stream",
     "text": [
      "2023-03-13 21:04:22 [info     ] DiscreteCQL_20230313210412: epoch=1 step=2001 epoch=1 metrics={'time_sample_batch': 0.00010203898161545448, 'time_algorithm_update': 0.004655260732327623, 'loss': 0.6651579062680135, 'time_step': 0.0048200375196160465, 'environment': 91.8, 'advantage': -1.3254388459985096, 'td_error': 1.012708564675948, 'value_scale': 2.9697224840318843} step=2001\n",
      "2023-03-13 21:04:22 [info     ] Model parameters are saved to d3rlpy_logs/DiscreteCQL_20230313210412/model_2001.pt\n"
     ]
    },
    {
     "data": {
      "application/vnd.jupyter.widget-view+json": {
       "model_id": "833912cc973042b9adc59caf627937df",
       "version_major": 2,
       "version_minor": 0
      },
      "text/plain": [
       "Epoch 2/20:   0%|          | 0/2001 [00:00<?, ?it/s]"
      ]
     },
     "metadata": {},
     "output_type": "display_data"
    },
    {
     "name": "stdout",
     "output_type": "stream",
     "text": [
      "2023-03-13 21:04:34 [info     ] DiscreteCQL_20230313210412: epoch=2 step=4002 epoch=2 metrics={'time_sample_batch': 0.00010622411534406137, 'time_algorithm_update': 0.004999962525031734, 'loss': 0.6580394860924869, 'time_step': 0.005170689410772519, 'environment': 48.6, 'advantage': -1.7185287662152486, 'td_error': 1.041537286662498, 'value_scale': 3.276492657850776} step=4002\n",
      "2023-03-13 21:04:34 [info     ] Model parameters are saved to d3rlpy_logs/DiscreteCQL_20230313210412/model_4002.pt\n"
     ]
    },
    {
     "data": {
      "application/vnd.jupyter.widget-view+json": {
       "model_id": "461198ed8f4645afa5aec502e7af6178",
       "version_major": 2,
       "version_minor": 0
      },
      "text/plain": [
       "Epoch 3/20:   0%|          | 0/2001 [00:00<?, ?it/s]"
      ]
     },
     "metadata": {},
     "output_type": "display_data"
    },
    {
     "name": "stdout",
     "output_type": "stream",
     "text": [
      "2023-03-13 21:04:44 [info     ] DiscreteCQL_20230313210412: epoch=3 step=6003 epoch=3 metrics={'time_sample_batch': 9.791294614533553e-05, 'time_algorithm_update': 0.004438420166557041, 'loss': 0.654462726934739, 'time_step': 0.004598321466669924, 'environment': 50.8, 'advantage': -2.2919969226923813, 'td_error': 1.070809157988891, 'value_scale': 4.001533606646148} step=6003\n",
      "2023-03-13 21:04:44 [info     ] Model parameters are saved to d3rlpy_logs/DiscreteCQL_20230313210412/model_6003.pt\n"
     ]
    },
    {
     "data": {
      "application/vnd.jupyter.widget-view+json": {
       "model_id": "b53c223ae0474a15a710ab6208652813",
       "version_major": 2,
       "version_minor": 0
      },
      "text/plain": [
       "Epoch 4/20:   0%|          | 0/2001 [00:00<?, ?it/s]"
      ]
     },
     "metadata": {},
     "output_type": "display_data"
    },
    {
     "name": "stdout",
     "output_type": "stream",
     "text": [
      "2023-03-13 21:04:53 [info     ] DiscreteCQL_20230313210412: epoch=4 step=8004 epoch=4 metrics={'time_sample_batch': 9.198500953990778e-05, 'time_algorithm_update': 0.004164894719769632, 'loss': 0.6477935842309577, 'time_step': 0.00431484237186674, 'environment': 54.5, 'advantage': -2.5615374092175927, 'td_error': 1.0971446822715032, 'value_scale': 4.006084045708808} step=8004\n",
      "2023-03-13 21:04:53 [info     ] Model parameters are saved to d3rlpy_logs/DiscreteCQL_20230313210412/model_8004.pt\n"
     ]
    },
    {
     "data": {
      "application/vnd.jupyter.widget-view+json": {
       "model_id": "87c25c72ec094c0eaabd446cdaf6cfce",
       "version_major": 2,
       "version_minor": 0
      },
      "text/plain": [
       "Epoch 5/20:   0%|          | 0/2001 [00:00<?, ?it/s]"
      ]
     },
     "metadata": {},
     "output_type": "display_data"
    },
    {
     "name": "stdout",
     "output_type": "stream",
     "text": [
      "2023-03-13 21:05:03 [info     ] DiscreteCQL_20230313210412: epoch=5 step=10005 epoch=5 metrics={'time_sample_batch': 9.994004024141493e-05, 'time_algorithm_update': 0.004436529498884286, 'loss': 0.6438178669387612, 'time_step': 0.004598664736997956, 'environment': 61.6, 'advantage': -2.9490042279112116, 'td_error': 1.1298979617343161, 'value_scale': 4.018743174957206} step=10005\n",
      "2023-03-13 21:05:03 [info     ] Model parameters are saved to d3rlpy_logs/DiscreteCQL_20230313210412/model_10005.pt\n"
     ]
    },
    {
     "data": {
      "application/vnd.jupyter.widget-view+json": {
       "model_id": "6b7c8c606f7148a087fd976d12e75100",
       "version_major": 2,
       "version_minor": 0
      },
      "text/plain": [
       "Epoch 6/20:   0%|          | 0/2001 [00:00<?, ?it/s]"
      ]
     },
     "metadata": {},
     "output_type": "display_data"
    },
    {
     "name": "stdout",
     "output_type": "stream",
     "text": [
      "2023-03-13 21:05:15 [info     ] DiscreteCQL_20230313210412: epoch=6 step=12006 epoch=6 metrics={'time_sample_batch': 0.00010785420259078225, 'time_algorithm_update': 0.005008210544881673, 'loss': 0.6437593708033564, 'time_step': 0.005184543901297642, 'environment': 160.1, 'advantage': -3.4741918671047007, 'td_error': 1.1553515195846558, 'value_scale': 4.449090934020331} step=12006\n",
      "2023-03-13 21:05:15 [info     ] Model parameters are saved to d3rlpy_logs/DiscreteCQL_20230313210412/model_12006.pt\n"
     ]
    },
    {
     "data": {
      "application/vnd.jupyter.widget-view+json": {
       "model_id": "b465cf59c2e24fcea09c8a42cb9b82d3",
       "version_major": 2,
       "version_minor": 0
      },
      "text/plain": [
       "Epoch 7/20:   0%|          | 0/2001 [00:00<?, ?it/s]"
      ]
     },
     "metadata": {},
     "output_type": "display_data"
    },
    {
     "name": "stdout",
     "output_type": "stream",
     "text": [
      "2023-03-13 21:05:26 [info     ] DiscreteCQL_20230313210412: epoch=7 step=14007 epoch=7 metrics={'time_sample_batch': 0.00010124794665960477, 'time_algorithm_update': 0.004560264809497412, 'loss': 0.6558089409989754, 'time_step': 0.0047253140921833395, 'environment': 74.9, 'advantage': -3.3955624228666887, 'td_error': 1.1625632649999418, 'value_scale': 5.0369551028913655} step=14007\n",
      "2023-03-13 21:05:26 [info     ] Model parameters are saved to d3rlpy_logs/DiscreteCQL_20230313210412/model_14007.pt\n"
     ]
    },
    {
     "data": {
      "application/vnd.jupyter.widget-view+json": {
       "model_id": "e516701189734c4ca91f4ead12e74fec",
       "version_major": 2,
       "version_minor": 0
      },
      "text/plain": [
       "Epoch 8/20:   0%|          | 0/2001 [00:00<?, ?it/s]"
      ]
     },
     "metadata": {},
     "output_type": "display_data"
    },
    {
     "name": "stdout",
     "output_type": "stream",
     "text": [
      "2023-03-13 21:05:36 [info     ] DiscreteCQL_20230313210412: epoch=8 step=16008 epoch=8 metrics={'time_sample_batch': 0.00010204493910118915, 'time_algorithm_update': 0.004615444710467947, 'loss': 0.6547771691382378, 'time_step': 0.004783043797048314, 'environment': 79.1, 'advantage': -3.4426075962385885, 'td_error': 1.1583253843018095, 'value_scale': 5.062358342323656} step=16008\n",
      "2023-03-13 21:05:36 [info     ] Model parameters are saved to d3rlpy_logs/DiscreteCQL_20230313210412/model_16008.pt\n"
     ]
    },
    {
     "data": {
      "application/vnd.jupyter.widget-view+json": {
       "model_id": "4335977d0b0c42d7b0f9bf7d9b8209b0",
       "version_major": 2,
       "version_minor": 0
      },
      "text/plain": [
       "Epoch 9/20:   0%|          | 0/2001 [00:00<?, ?it/s]"
      ]
     },
     "metadata": {},
     "output_type": "display_data"
    },
    {
     "name": "stdout",
     "output_type": "stream",
     "text": [
      "2023-03-13 21:05:47 [info     ] DiscreteCQL_20230313210412: epoch=9 step=18009 epoch=9 metrics={'time_sample_batch': 9.496708859925506e-05, 'time_algorithm_update': 0.004242173080024929, 'loss': 0.6546474769972135, 'time_step': 0.004397149207531244, 'environment': 116.5, 'advantage': -3.6174741675999904, 'td_error': 1.1636514291760855, 'value_scale': 5.05985494430192} step=18009\n",
      "2023-03-13 21:05:47 [info     ] Model parameters are saved to d3rlpy_logs/DiscreteCQL_20230313210412/model_18009.pt\n"
     ]
    },
    {
     "data": {
      "application/vnd.jupyter.widget-view+json": {
       "model_id": "912c4e4cb15d4e15ba60d072896b75d2",
       "version_major": 2,
       "version_minor": 0
      },
      "text/plain": [
       "Epoch 10/20:   0%|          | 0/2001 [00:00<?, ?it/s]"
      ]
     },
     "metadata": {},
     "output_type": "display_data"
    },
    {
     "name": "stdout",
     "output_type": "stream",
     "text": [
      "2023-03-13 21:05:57 [info     ] DiscreteCQL_20230313210412: epoch=10 step=20010 epoch=10 metrics={'time_sample_batch': 9.65741799510401e-05, 'time_algorithm_update': 0.004375766718882075, 'loss': 0.6570942673547335, 'time_step': 0.0045329779758863245, 'environment': 59.8, 'advantage': -3.494755354516521, 'td_error': 1.1580796078598092, 'value_scale': 5.706066122492553} step=20010\n",
      "2023-03-13 21:05:57 [info     ] Model parameters are saved to d3rlpy_logs/DiscreteCQL_20230313210412/model_20010.pt\n"
     ]
    },
    {
     "data": {
      "application/vnd.jupyter.widget-view+json": {
       "model_id": "cf6bf09ae1cc4ccb868fae5dd1a6ae5b",
       "version_major": 2,
       "version_minor": 0
      },
      "text/plain": [
       "Epoch 11/20:   0%|          | 0/2001 [00:00<?, ?it/s]"
      ]
     },
     "metadata": {},
     "output_type": "display_data"
    },
    {
     "name": "stdout",
     "output_type": "stream",
     "text": [
      "2023-03-13 21:06:06 [info     ] DiscreteCQL_20230313210412: epoch=11 step=22011 epoch=11 metrics={'time_sample_batch': 9.489857751330634e-05, 'time_algorithm_update': 0.004219963930655217, 'loss': 0.6557715606653708, 'time_step': 0.004376385820799622, 'environment': 90.0, 'advantage': -3.516830491984502, 'td_error': 1.149193980818434, 'value_scale': 6.098671748288276} step=22011\n",
      "2023-03-13 21:06:06 [info     ] Model parameters are saved to d3rlpy_logs/DiscreteCQL_20230313210412/model_22011.pt\n"
     ]
    },
    {
     "data": {
      "application/vnd.jupyter.widget-view+json": {
       "model_id": "b902c25494334519a4d03979def518c2",
       "version_major": 2,
       "version_minor": 0
      },
      "text/plain": [
       "Epoch 12/20:   0%|          | 0/2001 [00:00<?, ?it/s]"
      ]
     },
     "metadata": {},
     "output_type": "display_data"
    },
    {
     "name": "stdout",
     "output_type": "stream",
     "text": [
      "2023-03-13 21:06:16 [info     ] DiscreteCQL_20230313210412: epoch=12 step=24012 epoch=12 metrics={'time_sample_batch': 9.453957942293502e-05, 'time_algorithm_update': 0.004163691426800942, 'loss': 0.6550528301351491, 'time_step': 0.0043188941770646045, 'environment': 75.1, 'advantage': -3.4802442269634843, 'td_error': 1.152473978815058, 'value_scale': 6.090322522968782} step=24012\n",
      "2023-03-13 21:06:16 [info     ] Model parameters are saved to d3rlpy_logs/DiscreteCQL_20230313210412/model_24012.pt\n"
     ]
    },
    {
     "data": {
      "application/vnd.jupyter.widget-view+json": {
       "model_id": "1d2a21518cac49208f3744944e38a7cc",
       "version_major": 2,
       "version_minor": 0
      },
      "text/plain": [
       "Epoch 13/20:   0%|          | 0/2001 [00:00<?, ?it/s]"
      ]
     },
     "metadata": {},
     "output_type": "display_data"
    },
    {
     "name": "stdout",
     "output_type": "stream",
     "text": [
      "2023-03-13 21:06:26 [info     ] DiscreteCQL_20230313210412: epoch=13 step=26013 epoch=13 metrics={'time_sample_batch': 9.184929801487196e-05, 'time_algorithm_update': 0.004145039015564544, 'loss': 0.6546901913060956, 'time_step': 0.004295159077298814, 'environment': 168.3, 'advantage': -3.9572124279550267, 'td_error': 1.16177161744492, 'value_scale': 6.0912839666303835} step=26013\n",
      "2023-03-13 21:06:26 [info     ] Model parameters are saved to d3rlpy_logs/DiscreteCQL_20230313210412/model_26013.pt\n"
     ]
    },
    {
     "data": {
      "application/vnd.jupyter.widget-view+json": {
       "model_id": "9aadbcaeaec74d3ca20ae498e5f50453",
       "version_major": 2,
       "version_minor": 0
      },
      "text/plain": [
       "Epoch 14/20:   0%|          | 0/2001 [00:00<?, ?it/s]"
      ]
     },
     "metadata": {},
     "output_type": "display_data"
    },
    {
     "name": "stdout",
     "output_type": "stream",
     "text": [
      "2023-03-13 21:06:36 [info     ] DiscreteCQL_20230313210412: epoch=14 step=28014 epoch=14 metrics={'time_sample_batch': 9.532680158791454e-05, 'time_algorithm_update': 0.00424109799214925, 'loss': 0.6572653990814175, 'time_step': 0.004397864820717693, 'environment': 131.6, 'advantage': -3.77304807076431, 'td_error': 1.1422299892552803, 'value_scale': 6.9785152498476615} step=28014\n",
      "2023-03-13 21:06:36 [info     ] Model parameters are saved to d3rlpy_logs/DiscreteCQL_20230313210412/model_28014.pt\n"
     ]
    },
    {
     "data": {
      "application/vnd.jupyter.widget-view+json": {
       "model_id": "f0317ad2fa80482d9d05313b217eaeab",
       "version_major": 2,
       "version_minor": 0
      },
      "text/plain": [
       "Epoch 15/20:   0%|          | 0/2001 [00:00<?, ?it/s]"
      ]
     },
     "metadata": {},
     "output_type": "display_data"
    },
    {
     "name": "stdout",
     "output_type": "stream",
     "text": [
      "2023-03-13 21:06:45 [info     ] DiscreteCQL_20230313210412: epoch=15 step=30015 epoch=15 metrics={'time_sample_batch': 9.432487163705745e-05, 'time_algorithm_update': 0.004216125641746083, 'loss': 0.6558399749719638, 'time_step': 0.004371163727104038, 'environment': 59.8, 'advantage': -4.402484999871009, 'td_error': 1.1669758997572262, 'value_scale': 7.141058743229809} step=30015\n",
      "2023-03-13 21:06:45 [info     ] Model parameters are saved to d3rlpy_logs/DiscreteCQL_20230313210412/model_30015.pt\n"
     ]
    },
    {
     "data": {
      "application/vnd.jupyter.widget-view+json": {
       "model_id": "5929383848eb487ca565d284c19001d5",
       "version_major": 2,
       "version_minor": 0
      },
      "text/plain": [
       "Epoch 16/20:   0%|          | 0/2001 [00:00<?, ?it/s]"
      ]
     },
     "metadata": {},
     "output_type": "display_data"
    },
    {
     "name": "stdout",
     "output_type": "stream",
     "text": [
      "2023-03-13 21:06:55 [info     ] DiscreteCQL_20230313210412: epoch=16 step=32016 epoch=16 metrics={'time_sample_batch': 9.242967627514368e-05, 'time_algorithm_update': 0.0041752900557777755, 'loss': 0.6555246020304686, 'time_step': 0.004328037011271891, 'environment': 180.5, 'advantage': -3.6602515807923086, 'td_error': 1.1357332365532302, 'value_scale': 7.134073428248599} step=32016\n",
      "2023-03-13 21:06:55 [info     ] Model parameters are saved to d3rlpy_logs/DiscreteCQL_20230313210412/model_32016.pt\n"
     ]
    },
    {
     "data": {
      "application/vnd.jupyter.widget-view+json": {
       "model_id": "49b06dff1e114bfe8bd2b724ccd6e89a",
       "version_major": 2,
       "version_minor": 0
      },
      "text/plain": [
       "Epoch 17/20:   0%|          | 0/2001 [00:00<?, ?it/s]"
      ]
     },
     "metadata": {},
     "output_type": "display_data"
    },
    {
     "name": "stdout",
     "output_type": "stream",
     "text": [
      "2023-03-13 21:07:05 [info     ] DiscreteCQL_20230313210412: epoch=17 step=34017 epoch=17 metrics={'time_sample_batch': 9.44128041265012e-05, 'time_algorithm_update': 0.00420643912739065, 'loss': 0.6556290535852946, 'time_step': 0.004362281354173072, 'environment': 73.8, 'advantage': -3.4769954149638505, 'td_error': 1.1380020248988727, 'value_scale': 7.1318801294038545} step=34017\n",
      "2023-03-13 21:07:05 [info     ] Model parameters are saved to d3rlpy_logs/DiscreteCQL_20230313210412/model_34017.pt\n"
     ]
    },
    {
     "data": {
      "application/vnd.jupyter.widget-view+json": {
       "model_id": "7cf2a2c62fdf4fb99176535c84c0df69",
       "version_major": 2,
       "version_minor": 0
      },
      "text/plain": [
       "Epoch 18/20:   0%|          | 0/2001 [00:00<?, ?it/s]"
      ]
     },
     "metadata": {},
     "output_type": "display_data"
    },
    {
     "name": "stdout",
     "output_type": "stream",
     "text": [
      "2023-03-13 21:07:15 [info     ] DiscreteCQL_20230313210412: epoch=18 step=36018 epoch=18 metrics={'time_sample_batch': 9.2512723626285e-05, 'time_algorithm_update': 0.004176651222118433, 'loss': 0.6575932697258491, 'time_step': 0.004328266374472676, 'environment': 134.1, 'advantage': -3.6510411273301324, 'td_error': 1.121822730928422, 'value_scale': 8.15351369600926} step=36018\n",
      "2023-03-13 21:07:15 [info     ] Model parameters are saved to d3rlpy_logs/DiscreteCQL_20230313210412/model_36018.pt\n"
     ]
    },
    {
     "data": {
      "application/vnd.jupyter.widget-view+json": {
       "model_id": "80013789ba354a7a815bbe7a856cef99",
       "version_major": 2,
       "version_minor": 0
      },
      "text/plain": [
       "Epoch 19/20:   0%|          | 0/2001 [00:00<?, ?it/s]"
      ]
     },
     "metadata": {},
     "output_type": "display_data"
    },
    {
     "name": "stdout",
     "output_type": "stream",
     "text": [
      "2023-03-13 21:07:25 [info     ] DiscreteCQL_20230313210412: epoch=19 step=38019 epoch=19 metrics={'time_sample_batch': 9.792605261395181e-05, 'time_algorithm_update': 0.004505704010444424, 'loss': 0.6548346184838241, 'time_step': 0.00466829559196537, 'environment': 75.2, 'advantage': -3.476283405126625, 'td_error': 1.1227879632916373, 'value_scale': 8.129488967617567} step=38019\n",
      "2023-03-13 21:07:25 [info     ] Model parameters are saved to d3rlpy_logs/DiscreteCQL_20230313210412/model_38019.pt\n"
     ]
    },
    {
     "data": {
      "application/vnd.jupyter.widget-view+json": {
       "model_id": "a4687031147f46cdb723818556f0b8d4",
       "version_major": 2,
       "version_minor": 0
      },
      "text/plain": [
       "Epoch 20/20:   0%|          | 0/2001 [00:00<?, ?it/s]"
      ]
     },
     "metadata": {},
     "output_type": "display_data"
    },
    {
     "name": "stdout",
     "output_type": "stream",
     "text": [
      "2023-03-13 21:07:35 [info     ] DiscreteCQL_20230313210412: epoch=20 step=40020 epoch=20 metrics={'time_sample_batch': 9.327992863919603e-05, 'time_algorithm_update': 0.004155320444445441, 'loss': 0.6543315184944454, 'time_step': 0.004309251867253324, 'environment': 61.1, 'advantage': -3.4743390531193312, 'td_error': 1.122848876645926, 'value_scale': 8.118136255179234} step=40020\n",
      "2023-03-13 21:07:35 [info     ] Model parameters are saved to d3rlpy_logs/DiscreteCQL_20230313210412/model_40020.pt\n"
     ]
    },
    {
     "data": {
      "text/plain": [
       "[(1,\n",
       "  {'time_sample_batch': 0.00010203898161545448,\n",
       "   'time_algorithm_update': 0.004655260732327623,\n",
       "   'loss': 0.6651579062680135,\n",
       "   'time_step': 0.0048200375196160465,\n",
       "   'environment': 91.8,\n",
       "   'advantage': -1.3254388459985096,\n",
       "   'td_error': 1.012708564675948,\n",
       "   'value_scale': 2.9697224840318843}),\n",
       " (2,\n",
       "  {'time_sample_batch': 0.00010622411534406137,\n",
       "   'time_algorithm_update': 0.004999962525031734,\n",
       "   'loss': 0.6580394860924869,\n",
       "   'time_step': 0.005170689410772519,\n",
       "   'environment': 48.6,\n",
       "   'advantage': -1.7185287662152486,\n",
       "   'td_error': 1.041537286662498,\n",
       "   'value_scale': 3.276492657850776}),\n",
       " (3,\n",
       "  {'time_sample_batch': 9.791294614533553e-05,\n",
       "   'time_algorithm_update': 0.004438420166557041,\n",
       "   'loss': 0.654462726934739,\n",
       "   'time_step': 0.004598321466669924,\n",
       "   'environment': 50.8,\n",
       "   'advantage': -2.2919969226923813,\n",
       "   'td_error': 1.070809157988891,\n",
       "   'value_scale': 4.001533606646148}),\n",
       " (4,\n",
       "  {'time_sample_batch': 9.198500953990778e-05,\n",
       "   'time_algorithm_update': 0.004164894719769632,\n",
       "   'loss': 0.6477935842309577,\n",
       "   'time_step': 0.00431484237186674,\n",
       "   'environment': 54.5,\n",
       "   'advantage': -2.5615374092175927,\n",
       "   'td_error': 1.0971446822715032,\n",
       "   'value_scale': 4.006084045708808}),\n",
       " (5,\n",
       "  {'time_sample_batch': 9.994004024141493e-05,\n",
       "   'time_algorithm_update': 0.004436529498884286,\n",
       "   'loss': 0.6438178669387612,\n",
       "   'time_step': 0.004598664736997956,\n",
       "   'environment': 61.6,\n",
       "   'advantage': -2.9490042279112116,\n",
       "   'td_error': 1.1298979617343161,\n",
       "   'value_scale': 4.018743174957206}),\n",
       " (6,\n",
       "  {'time_sample_batch': 0.00010785420259078225,\n",
       "   'time_algorithm_update': 0.005008210544881673,\n",
       "   'loss': 0.6437593708033564,\n",
       "   'time_step': 0.005184543901297642,\n",
       "   'environment': 160.1,\n",
       "   'advantage': -3.4741918671047007,\n",
       "   'td_error': 1.1553515195846558,\n",
       "   'value_scale': 4.449090934020331}),\n",
       " (7,\n",
       "  {'time_sample_batch': 0.00010124794665960477,\n",
       "   'time_algorithm_update': 0.004560264809497412,\n",
       "   'loss': 0.6558089409989754,\n",
       "   'time_step': 0.0047253140921833395,\n",
       "   'environment': 74.9,\n",
       "   'advantage': -3.3955624228666887,\n",
       "   'td_error': 1.1625632649999418,\n",
       "   'value_scale': 5.0369551028913655}),\n",
       " (8,\n",
       "  {'time_sample_batch': 0.00010204493910118915,\n",
       "   'time_algorithm_update': 0.004615444710467947,\n",
       "   'loss': 0.6547771691382378,\n",
       "   'time_step': 0.004783043797048314,\n",
       "   'environment': 79.1,\n",
       "   'advantage': -3.4426075962385885,\n",
       "   'td_error': 1.1583253843018095,\n",
       "   'value_scale': 5.062358342323656}),\n",
       " (9,\n",
       "  {'time_sample_batch': 9.496708859925506e-05,\n",
       "   'time_algorithm_update': 0.004242173080024929,\n",
       "   'loss': 0.6546474769972135,\n",
       "   'time_step': 0.004397149207531244,\n",
       "   'environment': 116.5,\n",
       "   'advantage': -3.6174741675999904,\n",
       "   'td_error': 1.1636514291760855,\n",
       "   'value_scale': 5.05985494430192}),\n",
       " (10,\n",
       "  {'time_sample_batch': 9.65741799510401e-05,\n",
       "   'time_algorithm_update': 0.004375766718882075,\n",
       "   'loss': 0.6570942673547335,\n",
       "   'time_step': 0.0045329779758863245,\n",
       "   'environment': 59.8,\n",
       "   'advantage': -3.494755354516521,\n",
       "   'td_error': 1.1580796078598092,\n",
       "   'value_scale': 5.706066122492553}),\n",
       " (11,\n",
       "  {'time_sample_batch': 9.489857751330634e-05,\n",
       "   'time_algorithm_update': 0.004219963930655217,\n",
       "   'loss': 0.6557715606653708,\n",
       "   'time_step': 0.004376385820799622,\n",
       "   'environment': 90.0,\n",
       "   'advantage': -3.516830491984502,\n",
       "   'td_error': 1.149193980818434,\n",
       "   'value_scale': 6.098671748288276}),\n",
       " (12,\n",
       "  {'time_sample_batch': 9.453957942293502e-05,\n",
       "   'time_algorithm_update': 0.004163691426800942,\n",
       "   'loss': 0.6550528301351491,\n",
       "   'time_step': 0.0043188941770646045,\n",
       "   'environment': 75.1,\n",
       "   'advantage': -3.4802442269634843,\n",
       "   'td_error': 1.152473978815058,\n",
       "   'value_scale': 6.090322522968782}),\n",
       " (13,\n",
       "  {'time_sample_batch': 9.184929801487196e-05,\n",
       "   'time_algorithm_update': 0.004145039015564544,\n",
       "   'loss': 0.6546901913060956,\n",
       "   'time_step': 0.004295159077298814,\n",
       "   'environment': 168.3,\n",
       "   'advantage': -3.9572124279550267,\n",
       "   'td_error': 1.16177161744492,\n",
       "   'value_scale': 6.0912839666303835}),\n",
       " (14,\n",
       "  {'time_sample_batch': 9.532680158791454e-05,\n",
       "   'time_algorithm_update': 0.00424109799214925,\n",
       "   'loss': 0.6572653990814175,\n",
       "   'time_step': 0.004397864820717693,\n",
       "   'environment': 131.6,\n",
       "   'advantage': -3.77304807076431,\n",
       "   'td_error': 1.1422299892552803,\n",
       "   'value_scale': 6.9785152498476615}),\n",
       " (15,\n",
       "  {'time_sample_batch': 9.432487163705745e-05,\n",
       "   'time_algorithm_update': 0.004216125641746083,\n",
       "   'loss': 0.6558399749719638,\n",
       "   'time_step': 0.004371163727104038,\n",
       "   'environment': 59.8,\n",
       "   'advantage': -4.402484999871009,\n",
       "   'td_error': 1.1669758997572262,\n",
       "   'value_scale': 7.141058743229809}),\n",
       " (16,\n",
       "  {'time_sample_batch': 9.242967627514368e-05,\n",
       "   'time_algorithm_update': 0.0041752900557777755,\n",
       "   'loss': 0.6555246020304686,\n",
       "   'time_step': 0.004328037011271891,\n",
       "   'environment': 180.5,\n",
       "   'advantage': -3.6602515807923086,\n",
       "   'td_error': 1.1357332365532302,\n",
       "   'value_scale': 7.134073428248599}),\n",
       " (17,\n",
       "  {'time_sample_batch': 9.44128041265012e-05,\n",
       "   'time_algorithm_update': 0.00420643912739065,\n",
       "   'loss': 0.6556290535852946,\n",
       "   'time_step': 0.004362281354173072,\n",
       "   'environment': 73.8,\n",
       "   'advantage': -3.4769954149638505,\n",
       "   'td_error': 1.1380020248988727,\n",
       "   'value_scale': 7.1318801294038545}),\n",
       " (18,\n",
       "  {'time_sample_batch': 9.2512723626285e-05,\n",
       "   'time_algorithm_update': 0.004176651222118433,\n",
       "   'loss': 0.6575932697258491,\n",
       "   'time_step': 0.004328266374472676,\n",
       "   'environment': 134.1,\n",
       "   'advantage': -3.6510411273301324,\n",
       "   'td_error': 1.121822730928422,\n",
       "   'value_scale': 8.15351369600926}),\n",
       " (19,\n",
       "  {'time_sample_batch': 9.792605261395181e-05,\n",
       "   'time_algorithm_update': 0.004505704010444424,\n",
       "   'loss': 0.6548346184838241,\n",
       "   'time_step': 0.00466829559196537,\n",
       "   'environment': 75.2,\n",
       "   'advantage': -3.476283405126625,\n",
       "   'td_error': 1.1227879632916373,\n",
       "   'value_scale': 8.129488967617567}),\n",
       " (20,\n",
       "  {'time_sample_batch': 9.327992863919603e-05,\n",
       "   'time_algorithm_update': 0.004155320444445441,\n",
       "   'loss': 0.6543315184944454,\n",
       "   'time_step': 0.004309251867253324,\n",
       "   'environment': 61.1,\n",
       "   'advantage': -3.4743390531193312,\n",
       "   'td_error': 1.122848876645926,\n",
       "   'value_scale': 8.118136255179234})]"
      ]
     },
     "execution_count": 11,
     "metadata": {},
     "output_type": "execute_result"
    }
   ],
   "source": [
    "from d3rlpy.metrics.scorer import discounted_sum_of_advantage_scorer\n",
    "from d3rlpy.metrics.scorer import evaluate_on_environment\n",
    "from d3rlpy.metrics.scorer import td_error_scorer\n",
    "from d3rlpy.metrics.scorer import average_value_estimation_scorer\n",
    "\n",
    "# start training\n",
    "cql.fit(train_episodes,\n",
    "        eval_episodes=test_episodes,\n",
    "        n_epochs=20,\n",
    "        scorers={\n",
    "            'environment': evaluate_on_environment(env), # Cartpole environment\n",
    "            'advantage': discounted_sum_of_advantage_scorer, # smaller is better\n",
    "            'td_error': td_error_scorer, # smaller is better\n",
    "            'value_scale': average_value_estimation_scorer # smaller is better\n",
    "        })"
   ]
  },
  {
   "cell_type": "code",
   "execution_count": 13,
   "id": "3276000a",
   "metadata": {},
   "outputs": [
    {
     "data": {
      "text/plain": [
       "79.22"
      ]
     },
     "execution_count": 13,
     "metadata": {},
     "output_type": "execute_result"
    }
   ],
   "source": [
    "evaluate_scorer = evaluate_on_environment(env, n_trials=50)\n",
    "mean_episode_return = evaluate_scorer(cql)\n",
    "mean_episode_return"
   ]
  },
  {
   "cell_type": "markdown",
   "id": "d5d8d24d",
   "metadata": {},
   "source": [
    "### Custom environment"
   ]
  },
  {
   "cell_type": "code",
   "execution_count": 14,
   "id": "f5cf5691",
   "metadata": {},
   "outputs": [],
   "source": [
    "import gym\n",
    "from gym.spaces import Discrete, Box\n",
    "import numpy as np\n",
    "import os\n",
    "import random\n",
    "\n",
    "class SimpleCorridor_d3rlpy(gym.Env):\n",
    "    \"\"\"Example of a custom env in which you have to walk down a corridor.\n",
    "    Get a reward of -0.1 if you are not at the end, a random reward that is positive if you do.\n",
    "    Move +1 if you move forward, -1 if you move backward. The total length is 5.\n",
    "    We should want to reach the end in 5 steps in the perfectly trained world. \n",
    "    You can configure the length of the corridor via the env config.\"\"\"\n",
    "\n",
    "    def __init__(self, config):\n",
    "        self.end_pos = config[\"corridor_length\"]\n",
    "        self.cur_pos = 0\n",
    "        self.action_space = Discrete(5)\n",
    "        self.observation_space = Box(0.0, self.end_pos, shape=(1,), dtype=np.float32)\n",
    "        # Set the seed. This is only used for the final (reach goal) reward.\n",
    "        self.reset()\n",
    "\n",
    "    def reset(self, *, seed=None, options=None):\n",
    "        random.seed(seed)\n",
    "        self.cur_pos = 0\n",
    "        return np.array([self.cur_pos])\n",
    "\n",
    "    def step(self, action):\n",
    "        assert action in [0, 1, 2, 3, 4], action\n",
    "        # backward step\n",
    "        if action == 0 and self.cur_pos > 0:\n",
    "            self.cur_pos -= 1\n",
    "            reward = -0.2\n",
    "        # forward step\n",
    "        elif action == 1:\n",
    "            self.cur_pos += 1\n",
    "            if(self.check_if_water()):\n",
    "                reward = -0.5\n",
    "            else:\n",
    "                reward = 0.1\n",
    "        # double speed\n",
    "        elif action == 4:\n",
    "            if(self.cur_pos <= 3):\n",
    "                self.cur_pos += 2\n",
    "            else:\n",
    "                self.cur_pos += 1\n",
    "            if(self.check_if_water()):\n",
    "                reward = -0.5\n",
    "            else:\n",
    "                reward = 0.2\n",
    "        # left or right\n",
    "        else:\n",
    "            self.cur_pos = self.cur_pos\n",
    "            reward = -0.05\n",
    "            \n",
    "        done = truncated = self.cur_pos >= self.end_pos\n",
    "        if(done):\n",
    "            reward = 2\n",
    "        # Produce a random reward when we reach the goal.\n",
    "        return (\n",
    "            np.array([self.cur_pos]),\n",
    "            reward, # Setting to 2 instead of random reward has no real impact\n",
    "            done,\n",
    "            {},\n",
    "        )\n",
    "    \n",
    "    def check_if_water(self):\n",
    "        # This is water and will get a negative reward\n",
    "        if(self.cur_pos == 3):\n",
    "            return True\n",
    "        else:\n",
    "            return False\n",
    "\n",
    "config={\"corridor_length\": 5}\n",
    "env = SimpleCorridor_d3rlpy(config=config)"
   ]
  },
  {
   "cell_type": "code",
   "execution_count": 15,
   "id": "68f18ad0",
   "metadata": {},
   "outputs": [
    {
     "data": {
      "text/plain": [
       "<__main__.SimpleCorridor_d3rlpy at 0x14010dd00>"
      ]
     },
     "execution_count": 15,
     "metadata": {},
     "output_type": "execute_result"
    }
   ],
   "source": [
    "env"
   ]
  },
  {
   "cell_type": "code",
   "execution_count": 16,
   "id": "c06bbc47",
   "metadata": {},
   "outputs": [
    {
     "data": {
      "text/plain": [
       "array([0])"
      ]
     },
     "execution_count": 16,
     "metadata": {},
     "output_type": "execute_result"
    }
   ],
   "source": [
    "env.reset()"
   ]
  },
  {
   "cell_type": "code",
   "execution_count": 17,
   "id": "4e05fde3",
   "metadata": {},
   "outputs": [],
   "source": [
    "action = env.action_space.sample()\n",
    "obs, reward, done, info = env.step(action)"
   ]
  },
  {
   "cell_type": "code",
   "execution_count": 18,
   "id": "de70f14d",
   "metadata": {},
   "outputs": [
    {
     "data": {
      "text/plain": [
       "-0.05"
      ]
     },
     "execution_count": 18,
     "metadata": {},
     "output_type": "execute_result"
    }
   ],
   "source": [
    "reward"
   ]
  },
  {
   "cell_type": "code",
   "execution_count": 19,
   "id": "0cbf149b",
   "metadata": {},
   "outputs": [
    {
     "data": {
      "text/plain": [
       "<function ndarray.astype>"
      ]
     },
     "execution_count": 19,
     "metadata": {},
     "output_type": "execute_result"
    }
   ],
   "source": [
    "obs.astype"
   ]
  },
  {
   "cell_type": "code",
   "execution_count": 138,
   "id": "c828cf9e",
   "metadata": {},
   "outputs": [
    {
     "name": "stdout",
     "output_type": "stream",
     "text": [
      "2023-03-10 15:47:33 [debug    ] Building model...\n",
      "2023-03-10 15:47:33 [debug    ] Model has been built.\n"
     ]
    },
    {
     "data": {
      "application/vnd.jupyter.widget-view+json": {
       "model_id": "84727962fb99401d84f084a329e3a041",
       "version_major": 2,
       "version_minor": 0
      },
      "text/plain": [
       "  0%|          | 0/100000 [00:00<?, ?it/s]"
      ]
     },
     "metadata": {},
     "output_type": "display_data"
    }
   ],
   "source": [
    "# setup algorithm\n",
    "random_policy = d3rlpy.algos.DiscreteRandomPolicy()\n",
    "\n",
    "# prepare experience replay buffer\n",
    "buffer = d3rlpy.online.buffers.ReplayBuffer(maxlen=100000, env=env)\n",
    "\n",
    "# start data collection\n",
    "random_policy.collect(env, buffer, n_steps=100000)\n",
    "\n",
    "# export as MDPDataset\n",
    "dataset = buffer.to_mdp_dataset()\n",
    "\n",
    "# save MDPDataset\n",
    "dataset.dump(\"random_policy_corridor_dataset.h5\")"
   ]
  },
  {
   "cell_type": "markdown",
   "id": "feee588c",
   "metadata": {},
   "source": [
    "### Fit online with custom environment"
   ]
  },
  {
   "cell_type": "code",
   "execution_count": 113,
   "id": "f6959bee",
   "metadata": {},
   "outputs": [
    {
     "name": "stdout",
     "output_type": "stream",
     "text": [
      "2023-03-10 14:47:32 [info     ] Directory is created at d3rlpy_logs/DQN_online_20230310144732\n",
      "2023-03-10 14:47:32 [debug    ] Building model...\n",
      "2023-03-10 14:47:32 [debug    ] Model has been built.\n",
      "2023-03-10 14:47:32 [info     ] Parameters are saved to d3rlpy_logs/DQN_online_20230310144732/params.json params={'action_scaler': None, 'batch_size': 32, 'encoder_factory': {'type': 'default', 'params': {'activation': 'relu', 'use_batch_norm': False, 'dropout_rate': None}}, 'gamma': 0.99, 'generated_maxlen': 100000, 'learning_rate': 6.25e-05, 'n_critics': 1, 'n_frames': 1, 'n_steps': 1, 'optim_factory': {'optim_cls': 'Adam', 'betas': (0.9, 0.999), 'eps': 1e-08, 'weight_decay': 0, 'amsgrad': False}, 'q_func_factory': {'type': 'mean', 'params': {'share_encoder': False}}, 'real_ratio': 1.0, 'reward_scaler': None, 'scaler': None, 'target_update_interval': 8000, 'use_gpu': None, 'algorithm': 'DQN', 'observation_shape': (1,), 'action_size': 5}\n"
     ]
    },
    {
     "data": {
      "application/vnd.jupyter.widget-view+json": {
       "model_id": "797b0da7218946f6bcf69808e179d275",
       "version_major": 2,
       "version_minor": 0
      },
      "text/plain": [
       "  0%|          | 0/100000 [00:00<?, ?it/s]"
      ]
     },
     "metadata": {},
     "output_type": "display_data"
    },
    {
     "name": "stdout",
     "output_type": "stream",
     "text": [
      "2023-03-10 14:48:12 [info     ] Model parameters are saved to d3rlpy_logs/DQN_online_20230310144732/model_10000.pt\n",
      "2023-03-10 14:48:12 [info     ] DQN_online_20230310144732: epoch=1 step=10000 epoch=1 metrics={'time_inference': 0.0005066035032272339, 'time_environment_step': 1.2087106704711915e-05, 'time_step': 0.003947368121147155, 'time_sample_batch': 0.0001312981424975613, 'time_algorithm_update': 0.00323518305445813, 'loss': 1.49070639037667e-06} step=10000\n",
      "2023-03-10 14:48:50 [info     ] Model parameters are saved to d3rlpy_logs/DQN_online_20230310144732/model_20000.pt\n",
      "2023-03-10 14:48:50 [info     ] DQN_online_20230310144732: epoch=2 step=20000 epoch=2 metrics={'time_inference': 0.0004898247003555298, 'time_environment_step': 1.1702489852905273e-05, 'time_sample_batch': 0.00012943384647369385, 'time_algorithm_update': 0.003080199909210205, 'loss': 7.911302969334136e-07, 'time_step': 0.0037821149587631228} step=20000\n",
      "2023-03-10 14:49:30 [info     ] Model parameters are saved to d3rlpy_logs/DQN_online_20230310144732/model_30000.pt\n",
      "2023-03-10 14:49:30 [info     ] DQN_online_20230310144732: epoch=3 step=30000 epoch=3 metrics={'time_inference': 0.0005103825092315674, 'time_environment_step': 1.2085795402526855e-05, 'time_sample_batch': 0.0001346837043762207, 'time_algorithm_update': 0.003143997097015381, 'loss': 8.42025691046951e-07, 'time_step': 0.003875115656852722} step=30000\n",
      "2023-03-10 14:50:09 [info     ] Model parameters are saved to d3rlpy_logs/DQN_online_20230310144732/model_40000.pt\n",
      "2023-03-10 14:50:09 [info     ] DQN_online_20230310144732: epoch=4 step=40000 epoch=4 metrics={'time_inference': 0.0005104709148406983, 'time_environment_step': 1.2467360496520996e-05, 'time_sample_batch': 0.00013533463478088378, 'time_algorithm_update': 0.003176293635368347, 'loss': 0.0004690735481705424, 'time_step': 0.003914886403083801, 'rollout_return': 0.7194666666674564} step=40000\n",
      "2023-03-10 14:50:47 [info     ] Model parameters are saved to d3rlpy_logs/DQN_online_20230310144732/model_50000.pt\n",
      "2023-03-10 14:50:47 [info     ] DQN_online_20230310144732: epoch=5 step=50000 epoch=5 metrics={'time_inference': 0.0004827022314071655, 'time_environment_step': 1.263582706451416e-05, 'time_sample_batch': 0.00012940218448638917, 'time_algorithm_update': 0.0030653353214263918, 'loss': 0.0010805361879599117, 'time_step': 0.003776245045661926, 'rollout_return': 2.3130197322056847} step=50000\n",
      "2023-03-10 14:51:26 [info     ] Model parameters are saved to d3rlpy_logs/DQN_online_20230310144732/model_60000.pt\n",
      "2023-03-10 14:51:26 [info     ] DQN_online_20230310144732: epoch=6 step=60000 epoch=6 metrics={'time_inference': 0.0004883769989013672, 'time_environment_step': 1.1980128288269043e-05, 'time_sample_batch': 0.0001310688018798828, 'time_algorithm_update': 0.003159639859199524, 'loss': 0.002559800237938646, 'time_step': 0.003866295385360718, 'rollout_return': 1.7569841269841195} step=60000\n",
      "2023-03-10 14:52:04 [info     ] Model parameters are saved to d3rlpy_logs/DQN_online_20230310144732/model_70000.pt\n",
      "2023-03-10 14:52:05 [info     ] DQN_online_20230310144732: epoch=7 step=70000 epoch=7 metrics={'time_inference': 0.0004793863534927368, 'time_environment_step': 1.2026333808898927e-05, 'time_sample_batch': 0.00012890136241912843, 'time_algorithm_update': 0.0030699628114700317, 'loss': 0.002170517750098319, 'time_step': 0.0037676092386245727, 'rollout_return': 2.216377358490613} step=70000\n",
      "2023-03-10 14:52:44 [info     ] Model parameters are saved to d3rlpy_logs/DQN_online_20230310144732/model_80000.pt\n",
      "2023-03-10 14:52:44 [info     ] DQN_online_20230310144732: epoch=8 step=80000 epoch=8 metrics={'time_inference': 0.000489849328994751, 'time_environment_step': 1.1982011795043945e-05, 'time_sample_batch': 0.00013124711513519288, 'time_algorithm_update': 0.003173575735092163, 'loss': 0.0019677448421249657, 'time_step': 0.003880767393112183, 'rollout_return': 1.5686597938144147} step=80000\n",
      "2023-03-10 14:53:22 [info     ] Model parameters are saved to d3rlpy_logs/DQN_online_20230310144732/model_90000.pt\n",
      "2023-03-10 14:53:22 [info     ] DQN_online_20230310144732: epoch=9 step=90000 epoch=9 metrics={'time_inference': 0.00048170599937438964, 'time_environment_step': 1.2723684310913085e-05, 'time_sample_batch': 0.0001297175407409668, 'time_algorithm_update': 0.003121890091896057, 'loss': 0.0018237544351961692, 'time_step': 0.0038332035303115844, 'rollout_return': 2.387026671056844} step=90000\n",
      "2023-03-10 14:54:02 [info     ] Model parameters are saved to d3rlpy_logs/DQN_online_20230310144732/model_100000.pt\n",
      "2023-03-10 14:54:02 [info     ] DQN_online_20230310144732: epoch=10 step=100000 epoch=10 metrics={'time_inference': 0.0004819150924682617, 'time_environment_step': 1.252591609954834e-05, 'time_sample_batch': 0.00012938268184661865, 'time_algorithm_update': 0.0031712656021118165, 'loss': 0.001521866709845731, 'time_step': 0.003876972126960754, 'rollout_return': 2.3648156789547183} step=100000\n"
     ]
    }
   ],
   "source": [
    "# setup algorithm\n",
    "dqn = d3rlpy.algos.DQN()\n",
    "\n",
    "# prepare experience replay buffer\n",
    "buffer = d3rlpy.online.buffers.ReplayBuffer(maxlen=100000, env=env)\n",
    "\n",
    "# prepare exploration strategy if necessary\n",
    "explorer = d3rlpy.online.explorers.ConstantEpsilonGreedy(0.3)\n",
    "\n",
    "# start data collection\n",
    "dqn.fit_online(env, buffer, n_steps=100000)"
   ]
  },
  {
   "cell_type": "code",
   "execution_count": 146,
   "id": "e1bcf523",
   "metadata": {},
   "outputs": [],
   "source": [
    "for i in range(5):\n",
    "    obs = np.array([i])\n",
    "    action = dqn.predict([obs])[0]\n",
    "    print(action)"
   ]
  },
  {
   "cell_type": "markdown",
   "id": "25f17db1",
   "metadata": {},
   "source": [
    "### Fit on offline data generated from custom environment"
   ]
  },
  {
   "cell_type": "code",
   "execution_count": 147,
   "id": "9cad9c94",
   "metadata": {},
   "outputs": [],
   "source": [
    "#initialize the algorithm\n",
    "dqn = d3rlpy.algos.DQN()\n",
    "\n",
    "dataset2 = d3rlpy.online.buffers.ReplayBuffer(maxlen=100000, env=env)\n",
    "dataset2 = buffer.to_mdp_dataset()\n",
    "dataset2.load(\"random_policy_corridor_dataset.h5\")\n",
    "\n",
    "train_episodes, test_episodes = train_test_split(dataset2, test_size=0.2)"
   ]
  },
  {
   "cell_type": "code",
   "execution_count": null,
   "id": "85cb4503",
   "metadata": {},
   "outputs": [],
   "source": [
    "# start training\n",
    "dqn.fit(train_episodes,\n",
    "        eval_episodes=test_episodes,\n",
    "        n_epochs=5,\n",
    "        scorers={\n",
    "            'environment': evaluate_on_environment(env), # Cartpole environment\n",
    "            'advantage': discounted_sum_of_advantage_scorer, # smaller is better\n",
    "            'td_error': td_error_scorer, # smaller is better\n",
    "            'value_scale': average_value_estimation_scorer # smaller is better\n",
    "        })"
   ]
  },
  {
   "cell_type": "code",
   "execution_count": 148,
   "id": "edd91575",
   "metadata": {
    "scrolled": false
   },
   "outputs": [],
   "source": [
    "dqn.fit(\n",
    "    train_episodes,\n",
    "    n_epochs=10,\n",
    "    #scorers=metrics,\n",
    "    eval_episodes=test_episodes,\n",
    ")"
   ]
  },
  {
   "cell_type": "code",
   "execution_count": null,
   "id": "c0a9dfe0",
   "metadata": {},
   "outputs": [],
   "source": []
  }
 ],
 "metadata": {
  "kernelspec": {
   "display_name": "Python 3 (ipykernel)",
   "language": "python",
   "name": "python3"
  },
  "language_info": {
   "codemirror_mode": {
    "name": "ipython",
    "version": 3
   },
   "file_extension": ".py",
   "mimetype": "text/x-python",
   "name": "python",
   "nbconvert_exporter": "python",
   "pygments_lexer": "ipython3",
   "version": "3.8.9"
  }
 },
 "nbformat": 4,
 "nbformat_minor": 5
}
