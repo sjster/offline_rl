{
 "cells": [
  {
   "cell_type": "code",
   "execution_count": 1,
   "id": "9ffeb3ba",
   "metadata": {},
   "outputs": [],
   "source": [
    "from d3rlpy.datasets import get_cartpole"
   ]
  },
  {
   "cell_type": "code",
   "execution_count": 106,
   "id": "8f634e8f",
   "metadata": {},
   "outputs": [],
   "source": [
    "dataset, env = get_cartpole()"
   ]
  },
  {
   "cell_type": "code",
   "execution_count": 88,
   "id": "3e387203",
   "metadata": {},
   "outputs": [
    {
     "data": {
      "text/plain": [
       "1582"
      ]
     },
     "execution_count": 88,
     "metadata": {},
     "output_type": "execute_result"
    }
   ],
   "source": [
    "dataset.size()"
   ]
  },
  {
   "cell_type": "code",
   "execution_count": 89,
   "id": "19984082",
   "metadata": {},
   "outputs": [
    {
     "data": {
      "text/plain": [
       "99866"
      ]
     },
     "execution_count": 89,
     "metadata": {},
     "output_type": "execute_result"
    }
   ],
   "source": [
    "len(dataset.rewards)"
   ]
  },
  {
   "cell_type": "code",
   "execution_count": 90,
   "id": "f45774ad",
   "metadata": {},
   "outputs": [
    {
     "data": {
      "text/plain": [
       "1582"
      ]
     },
     "execution_count": 90,
     "metadata": {},
     "output_type": "execute_result"
    }
   ],
   "source": [
    "len(dataset.episodes)"
   ]
  },
  {
   "cell_type": "code",
   "execution_count": 91,
   "id": "2d46442b",
   "metadata": {},
   "outputs": [
    {
     "data": {
      "text/plain": [
       "99866"
      ]
     },
     "execution_count": 91,
     "metadata": {},
     "output_type": "execute_result"
    }
   ],
   "source": [
    "len(dataset.actions)"
   ]
  },
  {
   "cell_type": "code",
   "execution_count": 107,
   "id": "1986f50a",
   "metadata": {},
   "outputs": [],
   "source": [
    "from sklearn.model_selection import train_test_split\n",
    "\n",
    "train_episodes, test_episodes = train_test_split(dataset, test_size=0.2)"
   ]
  },
  {
   "cell_type": "code",
   "execution_count": 108,
   "id": "bd4f6554",
   "metadata": {},
   "outputs": [],
   "source": [
    "from d3rlpy.algos import DQN\n",
    "\n",
    "# if you don't use GPU, set use_gpu=False instead.\n",
    "dqn = DQN(use_gpu=False)\n",
    "\n",
    "# initialize neural networks with the given observation shape and action size.\n",
    "# this is not necessary when you directly call fit or fit_online method.\n",
    "dqn.build_with_dataset(dataset)"
   ]
  },
  {
   "cell_type": "code",
   "execution_count": 109,
   "id": "2a41b39a",
   "metadata": {},
   "outputs": [],
   "source": [
    "from d3rlpy.metrics.scorer import td_error_scorer\n",
    "from d3rlpy.metrics.scorer import average_value_estimation_scorer\n",
    "\n",
    "# calculate metrics with test dataset\n",
    "td_error = td_error_scorer(dqn, test_episodes)\n",
    "\n",
    "from d3rlpy.metrics.scorer import evaluate_on_environment\n",
    "\n",
    "# set environment in scorer function, returns mean return per episode\n",
    "evaluate_scorer = evaluate_on_environment(env)\n",
    "\n",
    "# evaluate algorithm on the environment\n",
    "rewards = evaluate_scorer(dqn)"
   ]
  },
  {
   "cell_type": "code",
   "execution_count": 30,
   "id": "4fbe9cdc",
   "metadata": {},
   "outputs": [
    {
     "data": {
      "text/plain": [
       "<TimeLimit<CartPoleEnv<CartPole-v0>>>"
      ]
     },
     "execution_count": 30,
     "metadata": {},
     "output_type": "execute_result"
    }
   ],
   "source": [
    "env"
   ]
  },
  {
   "cell_type": "code",
   "execution_count": null,
   "id": "68aa9458",
   "metadata": {
    "scrolled": false
   },
   "outputs": [
    {
     "name": "stdout",
     "output_type": "stream",
     "text": [
      "2023-03-13 17:56:23 [debug    ] RoundIterator is selected.\n",
      "2023-03-13 17:56:23 [info     ] Directory is created at d3rlpy_logs/DQN_20230313175623\n",
      "2023-03-13 17:56:23 [warning  ] Skip building models since they're already built.\n",
      "2023-03-13 17:56:23 [info     ] Parameters are saved to d3rlpy_logs/DQN_20230313175623/params.json params={'action_scaler': None, 'batch_size': 32, 'encoder_factory': {'type': 'default', 'params': {'activation': 'relu', 'use_batch_norm': False, 'dropout_rate': None}}, 'gamma': 0.99, 'generated_maxlen': 100000, 'learning_rate': 6.25e-05, 'n_critics': 1, 'n_frames': 1, 'n_steps': 1, 'optim_factory': {'optim_cls': 'Adam', 'betas': (0.9, 0.999), 'eps': 1e-08, 'weight_decay': 0, 'amsgrad': False}, 'q_func_factory': {'type': 'mean', 'params': {'share_encoder': False}}, 'real_ratio': 1.0, 'reward_scaler': None, 'scaler': None, 'target_update_interval': 8000, 'use_gpu': None, 'algorithm': 'DQN', 'observation_shape': (4,), 'action_size': 2}\n"
     ]
    },
    {
     "data": {
      "application/vnd.jupyter.widget-view+json": {
       "model_id": "14b352432a3449cf956e973838def417",
       "version_major": 2,
       "version_minor": 0
      },
      "text/plain": [
       "Epoch 1/10:   0%|          | 0/2528 [00:00<?, ?it/s]"
      ]
     },
     "metadata": {},
     "output_type": "display_data"
    },
    {
     "name": "stdout",
     "output_type": "stream",
     "text": [
      "2023-03-13 17:56:33 [info     ] DQN_20230313175623: epoch=1 step=2528 epoch=1 metrics={'time_sample_batch': 0.0001117969992794568, 'time_algorithm_update': 0.0031310268972493424, 'loss': 0.01063033081293939, 'time_step': 0.0033301781815818594, 'td_error': 0.9904131825877159, 'value_scale': 1.0364578913338531, 'environment': 9.7} step=2528\n",
      "2023-03-13 17:56:33 [info     ] Model parameters are saved to d3rlpy_logs/DQN_20230313175623/model_2528.pt\n"
     ]
    },
    {
     "data": {
      "application/vnd.jupyter.widget-view+json": {
       "model_id": "ed87e0fcc2fc42199d382266ffd7edc2",
       "version_major": 2,
       "version_minor": 0
      },
      "text/plain": [
       "Epoch 2/10:   0%|          | 0/2528 [00:00<?, ?it/s]"
      ]
     },
     "metadata": {},
     "output_type": "display_data"
    },
    {
     "name": "stdout",
     "output_type": "stream",
     "text": [
      "2023-03-13 17:56:43 [info     ] DQN_20230313175623: epoch=2 step=5056 epoch=2 metrics={'time_sample_batch': 0.00011344885901559757, 'time_algorithm_update': 0.00319484008263938, 'loss': 6.80640560042637e-05, 'time_step': 0.003397284806529178, 'td_error': 0.9925155655115155, 'value_scale': 1.0407329301160686, 'environment': 9.6} step=5056\n",
      "2023-03-13 17:56:43 [info     ] Model parameters are saved to d3rlpy_logs/DQN_20230313175623/model_5056.pt\n"
     ]
    },
    {
     "data": {
      "application/vnd.jupyter.widget-view+json": {
       "model_id": "1f13a08d040c4899a47708ae466a3aa0",
       "version_major": 2,
       "version_minor": 0
      },
      "text/plain": [
       "Epoch 3/10:   0%|          | 0/2528 [00:00<?, ?it/s]"
      ]
     },
     "metadata": {},
     "output_type": "display_data"
    },
    {
     "name": "stdout",
     "output_type": "stream",
     "text": [
      "2023-03-13 17:56:51 [info     ] DQN_20230313175623: epoch=3 step=7584 epoch=3 metrics={'time_sample_batch': 0.00010484966296183912, 'time_algorithm_update': 0.0029256843690630757, 'loss': 6.448426144561237e-05, 'time_step': 0.003113959031768992, 'td_error': 0.9924916739550745, 'value_scale': 1.0387473063789188, 'environment': 9.3} step=7584\n",
      "2023-03-13 17:56:51 [info     ] Model parameters are saved to d3rlpy_logs/DQN_20230313175623/model_7584.pt\n"
     ]
    },
    {
     "data": {
      "application/vnd.jupyter.widget-view+json": {
       "model_id": "9510f584aa124c0995706aee7995f71d",
       "version_major": 2,
       "version_minor": 0
      },
      "text/plain": [
       "Epoch 4/10:   0%|          | 0/2528 [00:00<?, ?it/s]"
      ]
     },
     "metadata": {},
     "output_type": "display_data"
    },
    {
     "name": "stdout",
     "output_type": "stream",
     "text": [
      "2023-03-13 17:57:00 [info     ] DQN_20230313175623: epoch=4 step=10112 epoch=4 metrics={'time_sample_batch': 0.00010360767946967596, 'time_algorithm_update': 0.0029494544561905196, 'loss': 0.007633788344929161, 'time_step': 0.0031352091250540334, 'td_error': 0.9922751425525888, 'value_scale': 2.0111745741059113, 'environment': 13.0} step=10112\n",
      "2023-03-13 17:57:00 [info     ] Model parameters are saved to d3rlpy_logs/DQN_20230313175623/model_10112.pt\n"
     ]
    },
    {
     "data": {
      "application/vnd.jupyter.widget-view+json": {
       "model_id": "3c014939a3314a0ab5bbbad243597249",
       "version_major": 2,
       "version_minor": 0
      },
      "text/plain": [
       "Epoch 5/10:   0%|          | 0/2528 [00:00<?, ?it/s]"
      ]
     },
     "metadata": {},
     "output_type": "display_data"
    },
    {
     "name": "stdout",
     "output_type": "stream",
     "text": [
      "2023-03-13 17:57:09 [info     ] DQN_20230313175623: epoch=5 step=12640 epoch=5 metrics={'time_sample_batch': 0.00010387307103676133, 'time_algorithm_update': 0.0030028281521193587, 'loss': 0.006742560020579213, 'time_step': 0.0031877269473256946, 'td_error': 0.9891154735236134, 'value_scale': 2.0174748979198354, 'environment': 15.9} step=12640\n",
      "2023-03-13 17:57:09 [info     ] Model parameters are saved to d3rlpy_logs/DQN_20230313175623/model_12640.pt\n"
     ]
    },
    {
     "data": {
      "application/vnd.jupyter.widget-view+json": {
       "model_id": "5fb21a4b7ed64f5487e365e27c309f9c",
       "version_major": 2,
       "version_minor": 0
      },
      "text/plain": [
       "Epoch 6/10:   0%|          | 0/2528 [00:00<?, ?it/s]"
      ]
     },
     "metadata": {},
     "output_type": "display_data"
    }
   ],
   "source": [
    "# Use the output of learning, this is the mean reward and the most useful metric to measure learning\n",
    "dqn.fit(train_episodes,\n",
    "        eval_episodes=test_episodes,\n",
    "        n_epochs=10,\n",
    "        scorers={\n",
    "            'td_error': td_error_scorer,\n",
    "            'value_scale': average_value_estimation_scorer,\n",
    "            'environment': evaluate_scorer\n",
    "        })"
   ]
  },
  {
   "cell_type": "markdown",
   "id": "ef346d7d",
   "metadata": {},
   "source": [
    "### Metrics\n",
    "\n",
    "**td_error** - larger td error means that the estimated state values are too far from the correct state values\n",
    "The TD error is the difference between the correct reward based value and our estimate of the reward based value. The policy is the actor and the value function is the critic, with the ‘criticism’ being the TD error. If the TD error is positive the value of the action was greater than expected, suggesting the chosen action should be taken more often. If the TD error was negative the action had a lower value than expected, and so will be done less often in future states which are similar.\n",
    "\n",
    "**discounted sum of average** - This is the discounted sum of advantage of the _**selected actions**_. This should be small to indicate that the policy selects actions with larger estimated values. This is the difference between the Q values of the dataset actions or the actions selected in each state and the max Q value according to the policy.  https://github.com/takuseno/d3rlpy/issues/99\n",
    "\n"
   ]
  },
  {
   "cell_type": "code",
   "execution_count": 51,
   "id": "4d773934",
   "metadata": {},
   "outputs": [],
   "source": [
    "observation = env.reset()\n",
    "\n",
    "print(observation)\n",
    "\n",
    "# return actions based on the greedy-policy\n",
    "action = dqn.predict([observation])[0]\n",
    "\n",
    "# estimate action-values\n",
    "value = dqn.predict_value([observation], [action])"
   ]
  },
  {
   "cell_type": "code",
   "execution_count": 81,
   "id": "876faf2a",
   "metadata": {},
   "outputs": [
    {
     "data": {
      "text/plain": [
       "200.0"
      ]
     },
     "execution_count": 81,
     "metadata": {},
     "output_type": "execute_result"
    }
   ],
   "source": [
    "# This is the most useful metric for evaluating the progress of learning\n",
    "def evaluate_mean_rewards(dqn):\n",
    "    evaluate_scorer = evaluate_on_environment(env, n_trials=50)\n",
    "    mean_episode_return = evaluate_scorer(dqn)\n",
    "    return(mean_episode_return)\n",
    "\n",
    "evaluate_mean_rewards(dqn)"
   ]
  },
  {
   "cell_type": "code",
   "execution_count": 54,
   "id": "9117c122",
   "metadata": {},
   "outputs": [],
   "source": [
    "value"
   ]
  },
  {
   "cell_type": "code",
   "execution_count": 49,
   "id": "9b5f48ff",
   "metadata": {},
   "outputs": [
    {
     "data": {
      "text/plain": [
       "array([0])"
      ]
     },
     "execution_count": 49,
     "metadata": {},
     "output_type": "execute_result"
    }
   ],
   "source": [
    "dqn.predict([observation])"
   ]
  },
  {
   "cell_type": "markdown",
   "id": "189489bf",
   "metadata": {},
   "source": [
    "### Generate offline data"
   ]
  },
  {
   "cell_type": "code",
   "execution_count": 105,
   "id": "42c49b70",
   "metadata": {},
   "outputs": [
    {
     "name": "stdout",
     "output_type": "stream",
     "text": [
      "2023-03-13 17:55:26 [debug    ] Building model...\n",
      "2023-03-13 17:55:26 [debug    ] Model has been built.\n"
     ]
    },
    {
     "data": {
      "application/vnd.jupyter.widget-view+json": {
       "model_id": "f51318d30eb34961aac76abeeae87a43",
       "version_major": 2,
       "version_minor": 0
      },
      "text/plain": [
       "  0%|          | 0/500000 [00:00<?, ?it/s]"
      ]
     },
     "metadata": {},
     "output_type": "display_data"
    }
   ],
   "source": [
    "import d3rlpy\n",
    "\n",
    "# setup algorithm\n",
    "random_policy = d3rlpy.algos.DiscreteRandomPolicy()\n",
    "\n",
    "# prepare experience replay buffer\n",
    "buffer = d3rlpy.online.buffers.ReplayBuffer(maxlen=500000, env=env)\n",
    "\n",
    "# start data collection\n",
    "random_policy.collect(env, buffer, n_steps=500000)\n",
    "\n",
    "# export as MDPDataset\n",
    "dataset = buffer.to_mdp_dataset()\n",
    "\n",
    "# save MDPDataset\n",
    "dataset.dump(\"random_policy_dataset_500000.h5\")"
   ]
  },
  {
   "cell_type": "code",
   "execution_count": 33,
   "id": "9eb88c7b",
   "metadata": {},
   "outputs": [
    {
     "name": "stdout",
     "output_type": "stream",
     "text": [
      "Intro_d3rlpy.ipynb                 random_policy_corridor_dataset.h5\r\n",
      "\u001b[34md3rlpy_data\u001b[m\u001b[m/                       random_policy_dataset.h5\r\n",
      "\u001b[34md3rlpy_logs\u001b[m\u001b[m/                       random_policy_dataset_80000.h5\r\n",
      "poetry.lock                        trained_policy_dataset.h5\r\n",
      "pyproject.toml                     trained_policy_dataset_80000.h5\r\n"
     ]
    }
   ],
   "source": [
    "ls"
   ]
  },
  {
   "cell_type": "code",
   "execution_count": 96,
   "id": "14d60a69",
   "metadata": {},
   "outputs": [
    {
     "name": "stdout",
     "output_type": "stream",
     "text": [
      "2023-03-13 17:53:00 [warning  ] Skip building models since they're already built.\n"
     ]
    },
    {
     "data": {
      "application/vnd.jupyter.widget-view+json": {
       "model_id": "f9ebd1072446409892fb3c27616d9f8b",
       "version_major": 2,
       "version_minor": 0
      },
      "text/plain": [
       "  0%|          | 0/10000 [00:00<?, ?it/s]"
      ]
     },
     "metadata": {},
     "output_type": "display_data"
    }
   ],
   "source": [
    "# prepare experience replay buffer\n",
    "buffer = d3rlpy.online.buffers.ReplayBuffer(maxlen=30000, env=env)\n",
    "\n",
    "# start data collection\n",
    "dqn.collect(env, buffer, n_steps=30000)\n",
    "\n",
    "# export as MDPDataset\n",
    "dataset = buffer.to_mdp_dataset()\n",
    "\n",
    "# save MDPDataset\n",
    "dataset.dump(\"trained_policy_dataset_30000.h5\")"
   ]
  },
  {
   "cell_type": "markdown",
   "id": "013920fb",
   "metadata": {},
   "source": [
    "import numpy as np\n",
    "\n",
    "buffer = d3rlpy.online.buffers.ReplayBuffer(maxlen=80000, env=env)\n",
    "dataset2 = buffer.to_mdp_dataset()\n",
    "dataset2.load(\"random_policy_dataset_80000.h5\")\n",
    "\n",
    "buffer = d3rlpy.online.buffers.ReplayBuffer(maxlen=80000, env=env)\n",
    "dataset3 = buffer.to_mdp_dataset()\n",
    "dataset3.load(\"trained_policy_dataset_80000.h5\")"
   ]
  },
  {
   "cell_type": "code",
   "execution_count": 97,
   "id": "05b5761e",
   "metadata": {},
   "outputs": [],
   "source": [
    "dataset_trained = dataset.load(\"trained_policy_dataset_10000.h5\")\n",
    "dataset_random = dataset.load(\"random_policy_dataset_80000.h5\")"
   ]
  },
  {
   "cell_type": "code",
   "execution_count": 98,
   "id": "9c705f25",
   "metadata": {},
   "outputs": [],
   "source": [
    "train_episodes, test_episodes = train_test_split(dataset_trained, test_size=0.2)"
   ]
  },
  {
   "cell_type": "code",
   "execution_count": 99,
   "id": "cd521733",
   "metadata": {},
   "outputs": [
    {
     "data": {
      "text/plain": [
       "{'return': {'mean': 199.0,\n",
       "  'std': 0.0,\n",
       "  'min': 199.0,\n",
       "  'max': 199.0,\n",
       "  'histogram': (array([ 0,  0,  0,  0,  0,  0,  0,  0,  0,  0, 50,  0,  0,  0,  0,  0,  0,\n",
       "           0,  0,  0]),\n",
       "   array([198.5 , 198.55, 198.6 , 198.65, 198.7 , 198.75, 198.8 , 198.85,\n",
       "          198.9 , 198.95, 199.  , 199.05, 199.1 , 199.15, 199.2 , 199.25,\n",
       "          199.3 , 199.35, 199.4 , 199.45, 199.5 ], dtype=float32))},\n",
       " 'reward': {'mean': 1.0,\n",
       "  'std': 0.0,\n",
       "  'min': 1.0,\n",
       "  'max': 1.0,\n",
       "  'histogram': (array([   0,    0,    0,    0,    0,    0,    0,    0,    0,    0, 9950,\n",
       "             0,    0,    0,    0,    0,    0,    0,    0,    0]),\n",
       "   array([0.5 , 0.55, 0.6 , 0.65, 0.7 , 0.75, 0.8 , 0.85, 0.9 , 0.95, 1.  ,\n",
       "          1.05, 1.1 , 1.15, 1.2 , 1.25, 1.3 , 1.35, 1.4 , 1.45, 1.5 ],\n",
       "         dtype=float32))},\n",
       " 'action': {'histogram': [[4941, 5009], array([0, 1])]},\n",
       " 'observation': {'mean': array([0.13213772, 0.10073607, 0.00543183, 0.00063963], dtype=float32),\n",
       "  'std': array([0.18628809, 0.62040365, 0.0758401 , 0.81132436], dtype=float32),\n",
       "  'min': array([-0.18966007, -1.020066  , -0.17113099, -1.5084128 ], dtype=float32),\n",
       "  'max': array([0.95243585, 1.2053849 , 0.1615229 , 1.4395962 ], dtype=float32)}}"
      ]
     },
     "execution_count": 99,
     "metadata": {},
     "output_type": "execute_result"
    }
   ],
   "source": [
    "dataset_trained.compute_stats()"
   ]
  },
  {
   "cell_type": "code",
   "execution_count": 100,
   "id": "cc36c1d1",
   "metadata": {},
   "outputs": [
    {
     "data": {
      "text/plain": [
       "{'return': {'mean': 22.129738,\n",
       "  'std': 11.648639,\n",
       "  'min': 8.0,\n",
       "  'max': 94.0,\n",
       "  'histogram': (array([570, 835, 679, 547, 284, 187, 175,  95,  75,  56,  43,  15,  15,\n",
       "           12,  11,   3,   7,   2,   2,   2]),\n",
       "   array([ 8. , 12.3, 16.6, 20.9, 25.2, 29.5, 33.8, 38.1, 42.4, 46.7, 51. ,\n",
       "          55.3, 59.6, 63.9, 68.2, 72.5, 76.8, 81.1, 85.4, 89.7, 94. ],\n",
       "         dtype=float32))},\n",
       " 'reward': {'mean': 1.0,\n",
       "  'std': 0.0,\n",
       "  'min': 1.0,\n",
       "  'max': 1.0,\n",
       "  'histogram': (array([    0,     0,     0,     0,     0,     0,     0,     0,     0,\n",
       "              0, 79999,     0,     0,     0,     0,     0,     0,     0,\n",
       "              0,     0]),\n",
       "   array([0.5 , 0.55, 0.6 , 0.65, 0.7 , 0.75, 0.8 , 0.85, 0.9 , 0.95, 1.  ,\n",
       "          1.05, 1.1 , 1.15, 1.2 , 1.25, 1.3 , 1.35, 1.4 , 1.45, 1.5 ],\n",
       "         dtype=float32))},\n",
       " 'action': {'histogram': [[40042, 39957], array([0, 1])]},\n",
       " 'observation': {'mean': array([ 0.00129826,  0.00506058,  0.00047018, -0.00162286], dtype=float32),\n",
       "  'std': array([0.09455813, 0.5348742 , 0.0920864 , 0.7846495 ], dtype=float32),\n",
       "  'min': array([-1.3381875 , -2.6659951 , -0.20943037, -3.0011234 ], dtype=float32),\n",
       "  'max': array([1.2027072 , 2.8750641 , 0.20937578, 2.9360461 ], dtype=float32)}}"
      ]
     },
     "execution_count": 100,
     "metadata": {},
     "output_type": "execute_result"
    }
   ],
   "source": [
    "dataset_random.compute_stats()"
   ]
  },
  {
   "cell_type": "code",
   "execution_count": 101,
   "id": "cc3556fb",
   "metadata": {},
   "outputs": [
    {
     "data": {
      "text/plain": [
       "array([0, 0, 0, ..., 1, 0, 0], dtype=int32)"
      ]
     },
     "execution_count": 101,
     "metadata": {},
     "output_type": "execute_result"
    }
   ],
   "source": [
    "dataset_trained.actions"
   ]
  },
  {
   "cell_type": "code",
   "execution_count": 76,
   "id": "11d2fbf4",
   "metadata": {},
   "outputs": [
    {
     "data": {
      "text/plain": [
       "array([1, 1, 1, ..., 0, 0, 0], dtype=int32)"
      ]
     },
     "execution_count": 76,
     "metadata": {},
     "output_type": "execute_result"
    }
   ],
   "source": [
    "dataset_random.actions"
   ]
  },
  {
   "cell_type": "code",
   "execution_count": 57,
   "id": "0a680c1d",
   "metadata": {},
   "outputs": [
    {
     "data": {
      "text/plain": [
       "array([1., 1., 1., ..., 1., 1., 1.], dtype=float32)"
      ]
     },
     "execution_count": 57,
     "metadata": {},
     "output_type": "execute_result"
    }
   ],
   "source": [
    "dataset_trained.rewards"
   ]
  },
  {
   "cell_type": "code",
   "execution_count": 102,
   "id": "3a610519",
   "metadata": {},
   "outputs": [
    {
     "data": {
      "text/plain": [
       "50"
      ]
     },
     "execution_count": 102,
     "metadata": {},
     "output_type": "execute_result"
    }
   ],
   "source": [
    "len(dataset_trained.episodes)"
   ]
  },
  {
   "cell_type": "code",
   "execution_count": 78,
   "id": "0abfd822",
   "metadata": {},
   "outputs": [
    {
     "data": {
      "text/plain": [
       "3615"
      ]
     },
     "execution_count": 78,
     "metadata": {},
     "output_type": "execute_result"
    }
   ],
   "source": [
    "len(dataset_random.episodes)"
   ]
  },
  {
   "cell_type": "code",
   "execution_count": 79,
   "id": "a5b40baf",
   "metadata": {},
   "outputs": [
    {
     "data": {
      "text/plain": [
       "array([[ 0.02962353, -0.0323091 , -0.03679555,  0.03139311],\n",
       "       [ 0.02897735, -0.22688459, -0.03616769,  0.31224334],\n",
       "       [ 0.02443966, -0.42147312, -0.02992282,  0.5933043 ],\n",
       "       ...,\n",
       "       [ 0.2347083 ,  0.5337355 , -0.13025276, -0.45787495],\n",
       "       [ 0.24538301,  0.34067228, -0.13941026, -0.20891936],\n",
       "       [ 0.25219646,  0.14779048, -0.14358865,  0.03674239]],\n",
       "      dtype=float32)"
      ]
     },
     "execution_count": 79,
     "metadata": {},
     "output_type": "execute_result"
    }
   ],
   "source": [
    "dataset_trained.observations"
   ]
  },
  {
   "cell_type": "markdown",
   "id": "fc05e2bf",
   "metadata": {},
   "source": [
    "### Train on offline data"
   ]
  },
  {
   "cell_type": "code",
   "execution_count": 103,
   "id": "a3bd981e",
   "metadata": {
    "scrolled": false
   },
   "outputs": [
    {
     "name": "stdout",
     "output_type": "stream",
     "text": [
      "2023-03-13 17:53:44 [debug    ] RoundIterator is selected.\n",
      "2023-03-13 17:53:44 [info     ] Directory is created at d3rlpy_logs/DQN_20230313175344\n",
      "2023-03-13 17:53:44 [warning  ] Skip building models since they're already built.\n",
      "2023-03-13 17:53:44 [info     ] Parameters are saved to d3rlpy_logs/DQN_20230313175344/params.json params={'action_scaler': None, 'batch_size': 32, 'encoder_factory': {'type': 'default', 'params': {'activation': 'relu', 'use_batch_norm': False, 'dropout_rate': None}}, 'gamma': 0.99, 'generated_maxlen': 100000, 'learning_rate': 6.25e-05, 'n_critics': 1, 'n_frames': 1, 'n_steps': 1, 'optim_factory': {'optim_cls': 'Adam', 'betas': (0.9, 0.999), 'eps': 1e-08, 'weight_decay': 0, 'amsgrad': False}, 'q_func_factory': {'type': 'mean', 'params': {'share_encoder': False}}, 'real_ratio': 1.0, 'reward_scaler': None, 'scaler': None, 'target_update_interval': 8000, 'use_gpu': None, 'algorithm': 'DQN', 'observation_shape': (4,), 'action_size': 2}\n"
     ]
    },
    {
     "data": {
      "application/vnd.jupyter.widget-view+json": {
       "model_id": "ffdf6a7619334e298094039ce6bf3d38",
       "version_major": 2,
       "version_minor": 0
      },
      "text/plain": [
       "Epoch 1/10:   0%|          | 0/247 [00:00<?, ?it/s]"
      ]
     },
     "metadata": {},
     "output_type": "display_data"
    },
    {
     "name": "stdout",
     "output_type": "stream",
     "text": [
      "2023-03-13 17:53:45 [info     ] DQN_20230313175344: epoch=1 step=247 epoch=1 metrics={'time_sample_batch': 0.00010931733166157959, 'time_algorithm_update': 0.0029924823204998062, 'loss': 0.09647901264030623, 'time_step': 0.003175637017377475, 'td_error': 1.0875713358021746, 'value_scale': 1.21059853401449, 'environment': 9.4} step=247\n",
      "2023-03-13 17:53:45 [info     ] Model parameters are saved to d3rlpy_logs/DQN_20230313175344/model_247.pt\n"
     ]
    },
    {
     "data": {
      "application/vnd.jupyter.widget-view+json": {
       "model_id": "a1924ab8a4dd48a4929b8c1f9a40e12d",
       "version_major": 2,
       "version_minor": 0
      },
      "text/plain": [
       "Epoch 2/10:   0%|          | 0/247 [00:00<?, ?it/s]"
      ]
     },
     "metadata": {},
     "output_type": "display_data"
    },
    {
     "name": "stdout",
     "output_type": "stream",
     "text": [
      "2023-03-13 17:53:46 [info     ] DQN_20230313175344: epoch=2 step=494 epoch=2 metrics={'time_sample_batch': 0.00010588391107103603, 'time_algorithm_update': 0.0029034875182487705, 'loss': 0.0025412102405694484, 'time_step': 0.003082730026862882, 'td_error': 1.0419111711208267, 'value_scale': 1.2066537923283047, 'environment': 9.6} step=494\n",
      "2023-03-13 17:53:46 [info     ] Model parameters are saved to d3rlpy_logs/DQN_20230313175344/model_494.pt\n"
     ]
    },
    {
     "data": {
      "application/vnd.jupyter.widget-view+json": {
       "model_id": "a37993f20e8a4d64994c6d7bac32348c",
       "version_major": 2,
       "version_minor": 0
      },
      "text/plain": [
       "Epoch 3/10:   0%|          | 0/247 [00:00<?, ?it/s]"
      ]
     },
     "metadata": {},
     "output_type": "display_data"
    },
    {
     "name": "stdout",
     "output_type": "stream",
     "text": [
      "2023-03-13 17:53:47 [info     ] DQN_20230313175344: epoch=3 step=741 epoch=3 metrics={'time_sample_batch': 0.000105486225020065, 'time_algorithm_update': 0.0029719281293119977, 'loss': 0.0004847896664058375, 'time_step': 0.003149926421130717, 'td_error': 1.0239347641817247, 'value_scale': 1.203045593668716, 'environment': 9.7} step=741\n",
      "2023-03-13 17:53:47 [info     ] Model parameters are saved to d3rlpy_logs/DQN_20230313175344/model_741.pt\n"
     ]
    },
    {
     "data": {
      "application/vnd.jupyter.widget-view+json": {
       "model_id": "3ed7829e9f40461088a173bd532e6491",
       "version_major": 2,
       "version_minor": 0
      },
      "text/plain": [
       "Epoch 4/10:   0%|          | 0/247 [00:00<?, ?it/s]"
      ]
     },
     "metadata": {},
     "output_type": "display_data"
    },
    {
     "name": "stdout",
     "output_type": "stream",
     "text": [
      "2023-03-13 17:53:48 [info     ] DQN_20230313175344: epoch=4 step=988 epoch=4 metrics={'time_sample_batch': 0.00011140518342917747, 'time_algorithm_update': 0.0031462458946444243, 'loss': 0.0001318362137165603, 'time_step': 0.0033343523620111256, 'td_error': 1.018758237361908, 'value_scale': 1.1978413529468306, 'environment': 9.0} step=988\n",
      "2023-03-13 17:53:48 [info     ] Model parameters are saved to d3rlpy_logs/DQN_20230313175344/model_988.pt\n"
     ]
    },
    {
     "data": {
      "application/vnd.jupyter.widget-view+json": {
       "model_id": "80559731941a499f84bc196b37f1f43a",
       "version_major": 2,
       "version_minor": 0
      },
      "text/plain": [
       "Epoch 5/10:   0%|          | 0/247 [00:00<?, ?it/s]"
      ]
     },
     "metadata": {},
     "output_type": "display_data"
    },
    {
     "name": "stdout",
     "output_type": "stream",
     "text": [
      "2023-03-13 17:53:49 [info     ] DQN_20230313175344: epoch=5 step=1235 epoch=5 metrics={'time_sample_batch': 0.00011581834028606955, 'time_algorithm_update': 0.00327252665994621, 'loss': 6.862798694385449e-05, 'time_step': 0.0034672818203204075, 'td_error': 1.0144563158052136, 'value_scale': 1.194837223038529, 'environment': 9.7} step=1235\n",
      "2023-03-13 17:53:49 [info     ] Model parameters are saved to d3rlpy_logs/DQN_20230313175344/model_1235.pt\n"
     ]
    },
    {
     "data": {
      "application/vnd.jupyter.widget-view+json": {
       "model_id": "b8832e86485d4b92ad0d1f88026a5c15",
       "version_major": 2,
       "version_minor": 0
      },
      "text/plain": [
       "Epoch 6/10:   0%|          | 0/247 [00:00<?, ?it/s]"
      ]
     },
     "metadata": {},
     "output_type": "display_data"
    },
    {
     "name": "stdout",
     "output_type": "stream",
     "text": [
      "2023-03-13 17:53:50 [info     ] DQN_20230313175344: epoch=6 step=1482 epoch=6 metrics={'time_sample_batch': 0.0001034176784005725, 'time_algorithm_update': 0.0029782051982184653, 'loss': 5.0835522290388486e-05, 'time_step': 0.0031542150597823294, 'td_error': 1.0120382318593035, 'value_scale': 1.195711729321817, 'environment': 9.9} step=1482\n",
      "2023-03-13 17:53:50 [info     ] Model parameters are saved to d3rlpy_logs/DQN_20230313175344/model_1482.pt\n"
     ]
    },
    {
     "data": {
      "application/vnd.jupyter.widget-view+json": {
       "model_id": "ee59d4c4366e466dbbdc9fa77ba30abc",
       "version_major": 2,
       "version_minor": 0
      },
      "text/plain": [
       "Epoch 7/10:   0%|          | 0/247 [00:00<?, ?it/s]"
      ]
     },
     "metadata": {},
     "output_type": "display_data"
    },
    {
     "name": "stdout",
     "output_type": "stream",
     "text": [
      "2023-03-13 17:53:50 [info     ] DQN_20230313175344: epoch=7 step=1729 epoch=7 metrics={'time_sample_batch': 0.00010324393206762398, 'time_algorithm_update': 0.0029864697321223825, 'loss': 3.9984738121325524e-05, 'time_step': 0.0031596340148555124, 'td_error': 1.0131008351993078, 'value_scale': 1.194240144467113, 'environment': 9.9} step=1729\n",
      "2023-03-13 17:53:50 [info     ] Model parameters are saved to d3rlpy_logs/DQN_20230313175344/model_1729.pt\n"
     ]
    },
    {
     "data": {
      "application/vnd.jupyter.widget-view+json": {
       "model_id": "d0de6421615848e9b981ded3f59c0172",
       "version_major": 2,
       "version_minor": 0
      },
      "text/plain": [
       "Epoch 8/10:   0%|          | 0/247 [00:00<?, ?it/s]"
      ]
     },
     "metadata": {},
     "output_type": "display_data"
    },
    {
     "name": "stdout",
     "output_type": "stream",
     "text": [
      "2023-03-13 17:53:51 [info     ] DQN_20230313175344: epoch=8 step=1976 epoch=8 metrics={'time_sample_batch': 0.00010310976128829153, 'time_algorithm_update': 0.0030097411229060246, 'loss': 3.141530283858956e-05, 'time_step': 0.003184291515273121, 'td_error': 1.012402426564332, 'value_scale': 1.1949137575096553, 'environment': 9.8} step=1976\n",
      "2023-03-13 17:53:51 [info     ] Model parameters are saved to d3rlpy_logs/DQN_20230313175344/model_1976.pt\n"
     ]
    },
    {
     "data": {
      "application/vnd.jupyter.widget-view+json": {
       "model_id": "61a080cc725c41e2802329fda1439b6a",
       "version_major": 2,
       "version_minor": 0
      },
      "text/plain": [
       "Epoch 9/10:   0%|          | 0/247 [00:00<?, ?it/s]"
      ]
     },
     "metadata": {},
     "output_type": "display_data"
    },
    {
     "name": "stdout",
     "output_type": "stream",
     "text": [
      "2023-03-13 17:53:52 [info     ] DQN_20230313175344: epoch=9 step=2223 epoch=9 metrics={'time_sample_batch': 0.00010311748334753369, 'time_algorithm_update': 0.0030107671915278263, 'loss': 2.4545441545946202e-05, 'time_step': 0.0031812162051799327, 'td_error': 1.0122608189329956, 'value_scale': 1.194244753832769, 'environment': 9.7} step=2223\n",
      "2023-03-13 17:53:52 [info     ] Model parameters are saved to d3rlpy_logs/DQN_20230313175344/model_2223.pt\n"
     ]
    },
    {
     "data": {
      "application/vnd.jupyter.widget-view+json": {
       "model_id": "ad5e9474d56b4f39824aa06aeb3f100d",
       "version_major": 2,
       "version_minor": 0
      },
      "text/plain": [
       "Epoch 10/10:   0%|          | 0/247 [00:00<?, ?it/s]"
      ]
     },
     "metadata": {},
     "output_type": "display_data"
    },
    {
     "name": "stdout",
     "output_type": "stream",
     "text": [
      "2023-03-13 17:53:53 [info     ] DQN_20230313175344: epoch=10 step=2470 epoch=10 metrics={'time_sample_batch': 0.00010251033643961919, 'time_algorithm_update': 0.002960612416750024, 'loss': 1.917358991954919e-05, 'time_step': 0.003131594252489839, 'td_error': 1.011475711519068, 'value_scale': 1.1941286064157581, 'environment': 9.3} step=2470\n",
      "2023-03-13 17:53:53 [info     ] Model parameters are saved to d3rlpy_logs/DQN_20230313175344/model_2470.pt\n"
     ]
    },
    {
     "data": {
      "text/plain": [
       "[(1,\n",
       "  {'time_sample_batch': 0.00010931733166157959,\n",
       "   'time_algorithm_update': 0.0029924823204998062,\n",
       "   'loss': 0.09647901264030623,\n",
       "   'time_step': 0.003175637017377475,\n",
       "   'td_error': 1.0875713358021746,\n",
       "   'value_scale': 1.21059853401449,\n",
       "   'environment': 9.4}),\n",
       " (2,\n",
       "  {'time_sample_batch': 0.00010588391107103603,\n",
       "   'time_algorithm_update': 0.0029034875182487705,\n",
       "   'loss': 0.0025412102405694484,\n",
       "   'time_step': 0.003082730026862882,\n",
       "   'td_error': 1.0419111711208267,\n",
       "   'value_scale': 1.2066537923283047,\n",
       "   'environment': 9.6}),\n",
       " (3,\n",
       "  {'time_sample_batch': 0.000105486225020065,\n",
       "   'time_algorithm_update': 0.0029719281293119977,\n",
       "   'loss': 0.0004847896664058375,\n",
       "   'time_step': 0.003149926421130717,\n",
       "   'td_error': 1.0239347641817247,\n",
       "   'value_scale': 1.203045593668716,\n",
       "   'environment': 9.7}),\n",
       " (4,\n",
       "  {'time_sample_batch': 0.00011140518342917747,\n",
       "   'time_algorithm_update': 0.0031462458946444243,\n",
       "   'loss': 0.0001318362137165603,\n",
       "   'time_step': 0.0033343523620111256,\n",
       "   'td_error': 1.018758237361908,\n",
       "   'value_scale': 1.1978413529468306,\n",
       "   'environment': 9.0}),\n",
       " (5,\n",
       "  {'time_sample_batch': 0.00011581834028606955,\n",
       "   'time_algorithm_update': 0.00327252665994621,\n",
       "   'loss': 6.862798694385449e-05,\n",
       "   'time_step': 0.0034672818203204075,\n",
       "   'td_error': 1.0144563158052136,\n",
       "   'value_scale': 1.194837223038529,\n",
       "   'environment': 9.7}),\n",
       " (6,\n",
       "  {'time_sample_batch': 0.0001034176784005725,\n",
       "   'time_algorithm_update': 0.0029782051982184653,\n",
       "   'loss': 5.0835522290388486e-05,\n",
       "   'time_step': 0.0031542150597823294,\n",
       "   'td_error': 1.0120382318593035,\n",
       "   'value_scale': 1.195711729321817,\n",
       "   'environment': 9.9}),\n",
       " (7,\n",
       "  {'time_sample_batch': 0.00010324393206762398,\n",
       "   'time_algorithm_update': 0.0029864697321223825,\n",
       "   'loss': 3.9984738121325524e-05,\n",
       "   'time_step': 0.0031596340148555124,\n",
       "   'td_error': 1.0131008351993078,\n",
       "   'value_scale': 1.194240144467113,\n",
       "   'environment': 9.9}),\n",
       " (8,\n",
       "  {'time_sample_batch': 0.00010310976128829153,\n",
       "   'time_algorithm_update': 0.0030097411229060246,\n",
       "   'loss': 3.141530283858956e-05,\n",
       "   'time_step': 0.003184291515273121,\n",
       "   'td_error': 1.012402426564332,\n",
       "   'value_scale': 1.1949137575096553,\n",
       "   'environment': 9.8}),\n",
       " (9,\n",
       "  {'time_sample_batch': 0.00010311748334753369,\n",
       "   'time_algorithm_update': 0.0030107671915278263,\n",
       "   'loss': 2.4545441545946202e-05,\n",
       "   'time_step': 0.0031812162051799327,\n",
       "   'td_error': 1.0122608189329956,\n",
       "   'value_scale': 1.194244753832769,\n",
       "   'environment': 9.7}),\n",
       " (10,\n",
       "  {'time_sample_batch': 0.00010251033643961919,\n",
       "   'time_algorithm_update': 0.002960612416750024,\n",
       "   'loss': 1.917358991954919e-05,\n",
       "   'time_step': 0.003131594252489839,\n",
       "   'td_error': 1.011475711519068,\n",
       "   'value_scale': 1.1941286064157581,\n",
       "   'environment': 9.3})]"
      ]
     },
     "execution_count": 103,
     "metadata": {},
     "output_type": "execute_result"
    }
   ],
   "source": [
    "from d3rlpy.algos import DQN\n",
    "from d3rlpy.metrics.scorer import evaluate_on_environment\n",
    "\n",
    "# if you don't use GPU, set use_gpu=False instead.\n",
    "dqn = DQN(use_gpu=False)\n",
    "\n",
    "# initialize neural networks with the given observation shape and action size.\n",
    "# this is not necessary when you directly call fit or fit_online method.\n",
    "dqn.build_with_dataset(dataset_trained)\n",
    "\n",
    "# calculate metrics with test dataset\n",
    "td_error = td_error_scorer(dqn, test_episodes)\n",
    "\n",
    "# set environment in scorer function, returns mean return per episode\n",
    "evaluate_scorer = evaluate_on_environment(env)\n",
    "\n",
    "# evaluate algorithm on the environment\n",
    "rewards = evaluate_scorer(dqn)\n",
    "\n",
    "# Use the output of learning, this is the mean reward and the most useful metric to measure learning\n",
    "dqn.fit(train_episodes,\n",
    "        eval_episodes=test_episodes,\n",
    "        n_epochs=10,\n",
    "        scorers={\n",
    "            'td_error': td_error_scorer,\n",
    "            'value_scale': average_value_estimation_scorer,\n",
    "            'environment': evaluate_scorer\n",
    "        })"
   ]
  },
  {
   "cell_type": "code",
   "execution_count": 104,
   "id": "2ce8b304",
   "metadata": {},
   "outputs": [
    {
     "data": {
      "text/plain": [
       "9.44"
      ]
     },
     "execution_count": 104,
     "metadata": {},
     "output_type": "execute_result"
    }
   ],
   "source": [
    "evaluate_mean_rewards(dqn)"
   ]
  },
  {
   "cell_type": "code",
   "execution_count": 84,
   "id": "e993eff6",
   "metadata": {},
   "outputs": [],
   "source": [
    "train_episodes, test_episodes = train_test_split(dataset_random, test_size=0.2)"
   ]
  },
  {
   "cell_type": "code",
   "execution_count": 85,
   "id": "40d5ca38",
   "metadata": {
    "scrolled": false
   },
   "outputs": [
    {
     "name": "stdout",
     "output_type": "stream",
     "text": [
      "2023-03-13 17:34:57 [debug    ] RoundIterator is selected.\n",
      "2023-03-13 17:34:57 [info     ] Directory is created at d3rlpy_logs/DQN_20230313173457\n",
      "2023-03-13 17:34:57 [warning  ] Skip building models since they're already built.\n",
      "2023-03-13 17:34:57 [info     ] Parameters are saved to d3rlpy_logs/DQN_20230313173457/params.json params={'action_scaler': None, 'batch_size': 32, 'encoder_factory': {'type': 'default', 'params': {'activation': 'relu', 'use_batch_norm': False, 'dropout_rate': None}}, 'gamma': 0.99, 'generated_maxlen': 100000, 'learning_rate': 6.25e-05, 'n_critics': 1, 'n_frames': 1, 'n_steps': 1, 'optim_factory': {'optim_cls': 'Adam', 'betas': (0.9, 0.999), 'eps': 1e-08, 'weight_decay': 0, 'amsgrad': False}, 'q_func_factory': {'type': 'mean', 'params': {'share_encoder': False}}, 'real_ratio': 1.0, 'reward_scaler': None, 'scaler': None, 'target_update_interval': 8000, 'use_gpu': None, 'algorithm': 'DQN', 'observation_shape': (4,), 'action_size': 2}\n"
     ]
    },
    {
     "data": {
      "application/vnd.jupyter.widget-view+json": {
       "model_id": "759c00941da9486983f3e2f690080abf",
       "version_major": 2,
       "version_minor": 0
      },
      "text/plain": [
       "Epoch 1/10:   0%|          | 0/1995 [00:00<?, ?it/s]"
      ]
     },
     "metadata": {},
     "output_type": "display_data"
    },
    {
     "name": "stdout",
     "output_type": "stream",
     "text": [
      "2023-03-13 17:35:05 [info     ] DQN_20230313173457: epoch=1 step=1995 epoch=1 metrics={'time_sample_batch': 0.00010886168420165403, 'time_algorithm_update': 0.002959556866409187, 'loss': 0.014313800445492882, 'time_step': 0.0031524298483865303, 'td_error': 0.978216586846662, 'value_scale': 1.0589266722826343, 'environment': 9.0} step=1995\n",
      "2023-03-13 17:35:05 [info     ] Model parameters are saved to d3rlpy_logs/DQN_20230313173457/model_1995.pt\n"
     ]
    },
    {
     "data": {
      "application/vnd.jupyter.widget-view+json": {
       "model_id": "5d04940647514a1bb769875edc9a29eb",
       "version_major": 2,
       "version_minor": 0
      },
      "text/plain": [
       "Epoch 2/10:   0%|          | 0/1995 [00:00<?, ?it/s]"
      ]
     },
     "metadata": {},
     "output_type": "display_data"
    },
    {
     "name": "stdout",
     "output_type": "stream",
     "text": [
      "2023-03-13 17:35:13 [info     ] DQN_20230313173457: epoch=2 step=3990 epoch=2 metrics={'time_sample_batch': 9.834784314148408e-05, 'time_algorithm_update': 0.0028192679087320964, 'loss': 0.000291367196469926, 'time_step': 0.0029867383770476605, 'td_error': 0.9701512011910716, 'value_scale': 1.0643255414203694, 'environment': 10.3} step=3990\n",
      "2023-03-13 17:35:13 [info     ] Model parameters are saved to d3rlpy_logs/DQN_20230313173457/model_3990.pt\n"
     ]
    },
    {
     "data": {
      "application/vnd.jupyter.widget-view+json": {
       "model_id": "2526b14cf31845da91435b23cd32802d",
       "version_major": 2,
       "version_minor": 0
      },
      "text/plain": [
       "Epoch 3/10:   0%|          | 0/1995 [00:00<?, ?it/s]"
      ]
     },
     "metadata": {},
     "output_type": "display_data"
    },
    {
     "name": "stdout",
     "output_type": "stream",
     "text": [
      "2023-03-13 17:35:21 [info     ] DQN_20230313173457: epoch=3 step=5985 epoch=3 metrics={'time_sample_batch': 0.00010003075563817992, 'time_algorithm_update': 0.002889738704327653, 'loss': 0.0002578747330350818, 'time_step': 0.0030609396167267534, 'td_error': 0.9703398817385191, 'value_scale': 1.062563999074589, 'environment': 9.7} step=5985\n",
      "2023-03-13 17:35:21 [info     ] Model parameters are saved to d3rlpy_logs/DQN_20230313173457/model_5985.pt\n"
     ]
    },
    {
     "data": {
      "application/vnd.jupyter.widget-view+json": {
       "model_id": "35ba4940a60d4369b324f21e44361388",
       "version_major": 2,
       "version_minor": 0
      },
      "text/plain": [
       "Epoch 4/10:   0%|          | 0/1995 [00:00<?, ?it/s]"
      ]
     },
     "metadata": {},
     "output_type": "display_data"
    },
    {
     "name": "stdout",
     "output_type": "stream",
     "text": [
      "2023-03-13 17:35:28 [info     ] DQN_20230313173457: epoch=4 step=7980 epoch=4 metrics={'time_sample_batch': 9.771516747343212e-05, 'time_algorithm_update': 0.0028324815563689496, 'loss': 0.00023306020324215886, 'time_step': 0.002999182392780046, 'td_error': 0.9794813734559903, 'value_scale': 1.0660120074316712, 'environment': 13.3} step=7980\n",
      "2023-03-13 17:35:28 [info     ] Model parameters are saved to d3rlpy_logs/DQN_20230313173457/model_7980.pt\n"
     ]
    },
    {
     "data": {
      "application/vnd.jupyter.widget-view+json": {
       "model_id": "2c591228b06e49bb8cfc06d68d7c62e9",
       "version_major": 2,
       "version_minor": 0
      },
      "text/plain": [
       "Epoch 5/10:   0%|          | 0/1995 [00:00<?, ?it/s]"
      ]
     },
     "metadata": {},
     "output_type": "display_data"
    },
    {
     "name": "stdout",
     "output_type": "stream",
     "text": [
      "2023-03-13 17:35:36 [info     ] DQN_20230313173457: epoch=5 step=9975 epoch=5 metrics={'time_sample_batch': 9.783754372656494e-05, 'time_algorithm_update': 0.002884395140454285, 'loss': 0.01768109599737668, 'time_step': 0.003051576877297614, 'td_error': 0.9405802728373429, 'value_scale': 2.032548883373756, 'environment': 11.5} step=9975\n",
      "2023-03-13 17:35:36 [info     ] Model parameters are saved to d3rlpy_logs/DQN_20230313173457/model_9975.pt\n"
     ]
    },
    {
     "data": {
      "application/vnd.jupyter.widget-view+json": {
       "model_id": "b09682bf5a90428b8f9a4b112da2ec2d",
       "version_major": 2,
       "version_minor": 0
      },
      "text/plain": [
       "Epoch 6/10:   0%|          | 0/1995 [00:00<?, ?it/s]"
      ]
     },
     "metadata": {},
     "output_type": "display_data"
    },
    {
     "name": "stdout",
     "output_type": "stream",
     "text": [
      "2023-03-13 17:35:44 [info     ] DQN_20230313173457: epoch=6 step=11970 epoch=6 metrics={'time_sample_batch': 9.19016979093241e-05, 'time_algorithm_update': 0.0028482257871699514, 'loss': 0.01348649567968497, 'time_step': 0.0030017690252241934, 'td_error': 0.9651308028829698, 'value_scale': 2.035894104555085, 'environment': 9.7} step=11970\n",
      "2023-03-13 17:35:44 [info     ] Model parameters are saved to d3rlpy_logs/DQN_20230313173457/model_11970.pt\n"
     ]
    },
    {
     "data": {
      "application/vnd.jupyter.widget-view+json": {
       "model_id": "cac903ea6a624a31916a1571b2f80090",
       "version_major": 2,
       "version_minor": 0
      },
      "text/plain": [
       "Epoch 7/10:   0%|          | 0/1995 [00:00<?, ?it/s]"
      ]
     },
     "metadata": {},
     "output_type": "display_data"
    },
    {
     "name": "stdout",
     "output_type": "stream",
     "text": [
      "2023-03-13 17:35:52 [info     ] DQN_20230313173457: epoch=7 step=13965 epoch=7 metrics={'time_sample_batch': 9.319632872005453e-05, 'time_algorithm_update': 0.0029096635660730806, 'loss': 0.012340723378887227, 'time_step': 0.0030651372178156573, 'td_error': 0.9162572047515058, 'value_scale': 2.0004651960955484, 'environment': 11.5} step=13965\n",
      "2023-03-13 17:35:52 [info     ] Model parameters are saved to d3rlpy_logs/DQN_20230313173457/model_13965.pt\n"
     ]
    },
    {
     "data": {
      "application/vnd.jupyter.widget-view+json": {
       "model_id": "745e2d6dc3f84467aba413fb57f7e006",
       "version_major": 2,
       "version_minor": 0
      },
      "text/plain": [
       "Epoch 8/10:   0%|          | 0/1995 [00:00<?, ?it/s]"
      ]
     },
     "metadata": {},
     "output_type": "display_data"
    },
    {
     "name": "stdout",
     "output_type": "stream",
     "text": [
      "2023-03-13 17:36:00 [info     ] DQN_20230313173457: epoch=8 step=15960 epoch=8 metrics={'time_sample_batch': 9.00054635260637e-05, 'time_algorithm_update': 0.0027645108693823183, 'loss': 0.011448570002727608, 'time_step': 0.002915068796105253, 'td_error': 0.925025285600246, 'value_scale': 2.0062189445773058, 'environment': 9.7} step=15960\n",
      "2023-03-13 17:36:00 [info     ] Model parameters are saved to d3rlpy_logs/DQN_20230313173457/model_15960.pt\n"
     ]
    },
    {
     "data": {
      "application/vnd.jupyter.widget-view+json": {
       "model_id": "897936e29f1d4c2c982072b5a32cc34b",
       "version_major": 2,
       "version_minor": 0
      },
      "text/plain": [
       "Epoch 9/10:   0%|          | 0/1995 [00:00<?, ?it/s]"
      ]
     },
     "metadata": {},
     "output_type": "display_data"
    },
    {
     "name": "stdout",
     "output_type": "stream",
     "text": [
      "2023-03-13 17:36:07 [info     ] DQN_20230313173457: epoch=9 step=17955 epoch=9 metrics={'time_sample_batch': 9.976795741489955e-05, 'time_algorithm_update': 0.002914592436979289, 'loss': 0.026899029059819342, 'time_step': 0.0030874456678118022, 'td_error': 0.9212762029593982, 'value_scale': 2.977290669963741, 'environment': 9.8} step=17955\n",
      "2023-03-13 17:36:07 [info     ] Model parameters are saved to d3rlpy_logs/DQN_20230313173457/model_17955.pt\n"
     ]
    },
    {
     "data": {
      "application/vnd.jupyter.widget-view+json": {
       "model_id": "47319572f7634bc39273d9423ae2bced",
       "version_major": 2,
       "version_minor": 0
      },
      "text/plain": [
       "Epoch 10/10:   0%|          | 0/1995 [00:00<?, ?it/s]"
      ]
     },
     "metadata": {},
     "output_type": "display_data"
    },
    {
     "name": "stdout",
     "output_type": "stream",
     "text": [
      "2023-03-13 17:36:15 [info     ] DQN_20230313173457: epoch=10 step=19950 epoch=10 metrics={'time_sample_batch': 9.591442002987204e-05, 'time_algorithm_update': 0.002864971376003179, 'loss': 0.02173981322823174, 'time_step': 0.003028388847982077, 'td_error': 0.9045235252656997, 'value_scale': 2.955735904216205, 'environment': 10.2} step=19950\n",
      "2023-03-13 17:36:15 [info     ] Model parameters are saved to d3rlpy_logs/DQN_20230313173457/model_19950.pt\n"
     ]
    },
    {
     "data": {
      "text/plain": [
       "[(1,\n",
       "  {'time_sample_batch': 0.00010886168420165403,\n",
       "   'time_algorithm_update': 0.002959556866409187,\n",
       "   'loss': 0.014313800445492882,\n",
       "   'time_step': 0.0031524298483865303,\n",
       "   'td_error': 0.978216586846662,\n",
       "   'value_scale': 1.0589266722826343,\n",
       "   'environment': 9.0}),\n",
       " (2,\n",
       "  {'time_sample_batch': 9.834784314148408e-05,\n",
       "   'time_algorithm_update': 0.0028192679087320964,\n",
       "   'loss': 0.000291367196469926,\n",
       "   'time_step': 0.0029867383770476605,\n",
       "   'td_error': 0.9701512011910716,\n",
       "   'value_scale': 1.0643255414203694,\n",
       "   'environment': 10.3}),\n",
       " (3,\n",
       "  {'time_sample_batch': 0.00010003075563817992,\n",
       "   'time_algorithm_update': 0.002889738704327653,\n",
       "   'loss': 0.0002578747330350818,\n",
       "   'time_step': 0.0030609396167267534,\n",
       "   'td_error': 0.9703398817385191,\n",
       "   'value_scale': 1.062563999074589,\n",
       "   'environment': 9.7}),\n",
       " (4,\n",
       "  {'time_sample_batch': 9.771516747343212e-05,\n",
       "   'time_algorithm_update': 0.0028324815563689496,\n",
       "   'loss': 0.00023306020324215886,\n",
       "   'time_step': 0.002999182392780046,\n",
       "   'td_error': 0.9794813734559903,\n",
       "   'value_scale': 1.0660120074316712,\n",
       "   'environment': 13.3}),\n",
       " (5,\n",
       "  {'time_sample_batch': 9.783754372656494e-05,\n",
       "   'time_algorithm_update': 0.002884395140454285,\n",
       "   'loss': 0.01768109599737668,\n",
       "   'time_step': 0.003051576877297614,\n",
       "   'td_error': 0.9405802728373429,\n",
       "   'value_scale': 2.032548883373756,\n",
       "   'environment': 11.5}),\n",
       " (6,\n",
       "  {'time_sample_batch': 9.19016979093241e-05,\n",
       "   'time_algorithm_update': 0.0028482257871699514,\n",
       "   'loss': 0.01348649567968497,\n",
       "   'time_step': 0.0030017690252241934,\n",
       "   'td_error': 0.9651308028829698,\n",
       "   'value_scale': 2.035894104555085,\n",
       "   'environment': 9.7}),\n",
       " (7,\n",
       "  {'time_sample_batch': 9.319632872005453e-05,\n",
       "   'time_algorithm_update': 0.0029096635660730806,\n",
       "   'loss': 0.012340723378887227,\n",
       "   'time_step': 0.0030651372178156573,\n",
       "   'td_error': 0.9162572047515058,\n",
       "   'value_scale': 2.0004651960955484,\n",
       "   'environment': 11.5}),\n",
       " (8,\n",
       "  {'time_sample_batch': 9.00054635260637e-05,\n",
       "   'time_algorithm_update': 0.0027645108693823183,\n",
       "   'loss': 0.011448570002727608,\n",
       "   'time_step': 0.002915068796105253,\n",
       "   'td_error': 0.925025285600246,\n",
       "   'value_scale': 2.0062189445773058,\n",
       "   'environment': 9.7}),\n",
       " (9,\n",
       "  {'time_sample_batch': 9.976795741489955e-05,\n",
       "   'time_algorithm_update': 0.002914592436979289,\n",
       "   'loss': 0.026899029059819342,\n",
       "   'time_step': 0.0030874456678118022,\n",
       "   'td_error': 0.9212762029593982,\n",
       "   'value_scale': 2.977290669963741,\n",
       "   'environment': 9.8}),\n",
       " (10,\n",
       "  {'time_sample_batch': 9.591442002987204e-05,\n",
       "   'time_algorithm_update': 0.002864971376003179,\n",
       "   'loss': 0.02173981322823174,\n",
       "   'time_step': 0.003028388847982077,\n",
       "   'td_error': 0.9045235252656997,\n",
       "   'value_scale': 2.955735904216205,\n",
       "   'environment': 10.2})]"
      ]
     },
     "execution_count": 85,
     "metadata": {},
     "output_type": "execute_result"
    }
   ],
   "source": [
    "from d3rlpy.algos import DQN\n",
    "from d3rlpy.metrics.scorer import evaluate_on_environment\n",
    "\n",
    "# if you don't use GPU, set use_gpu=False instead.\n",
    "dqn = DQN(use_gpu=False)\n",
    "\n",
    "# initialize neural networks with the given observation shape and action size.\n",
    "# this is not necessary when you directly call fit or fit_online method.\n",
    "dqn.build_with_dataset(dataset_random)\n",
    "\n",
    "# calculate metrics with test dataset\n",
    "td_error = td_error_scorer(dqn, test_episodes)\n",
    "\n",
    "# set environment in scorer function, returns mean return per episode\n",
    "evaluate_scorer = evaluate_on_environment(env)\n",
    "\n",
    "# evaluate algorithm on the environment\n",
    "rewards = evaluate_scorer(dqn)\n",
    "\n",
    "# Use the output of learning, this is the mean reward and the most useful metric to measure learning\n",
    "dqn.fit(train_episodes,\n",
    "        eval_episodes=test_episodes,\n",
    "        n_epochs=10,\n",
    "        scorers={\n",
    "            'td_error': td_error_scorer,\n",
    "            'value_scale': average_value_estimation_scorer,\n",
    "            'environment': evaluate_scorer\n",
    "        })"
   ]
  },
  {
   "cell_type": "code",
   "execution_count": 86,
   "id": "b5d71ab5",
   "metadata": {},
   "outputs": [
    {
     "data": {
      "text/plain": [
       "10.86"
      ]
     },
     "execution_count": 86,
     "metadata": {},
     "output_type": "execute_result"
    }
   ],
   "source": [
    "evaluate_mean_rewards(dqn)"
   ]
  },
  {
   "cell_type": "markdown",
   "id": "b37006e7",
   "metadata": {},
   "source": [
    "### Samples from the random set do not result in good learning. You always want to generate samples using a trained policy"
   ]
  },
  {
   "cell_type": "code",
   "execution_count": 46,
   "id": "ec1bfdbc",
   "metadata": {},
   "outputs": [],
   "source": [
    "from d3rlpy.dataset import MDPDataset\n",
    "from d3rlpy.algos import DiscreteCQL\n",
    "\n",
    "# setup CQL algorithm (discrete version)\n",
    "cql = DiscreteCQL(n_frames=4, scaler='pixel', use_gpu=False)\n",
    "\n",
    "# split train and test episodes\n",
    "train_episodes, test_episodes = train_test_split(dataset2, test_size=0.2)"
   ]
  },
  {
   "cell_type": "code",
   "execution_count": 47,
   "id": "994884aa",
   "metadata": {
    "scrolled": false
   },
   "outputs": [
    {
     "name": "stdout",
     "output_type": "stream",
     "text": [
      "2023-03-10 13:58:19 [debug    ] RoundIterator is selected.\n",
      "2023-03-10 13:58:19 [info     ] Directory is created at d3rlpy_logs/DiscreteCQL_20230310135819\n",
      "2023-03-10 13:58:19 [debug    ] Fitting scaler...              scaler=pixel\n",
      "2023-03-10 13:58:19 [debug    ] Building models...\n",
      "2023-03-10 13:58:19 [debug    ] Models have been built.\n",
      "2023-03-10 13:58:19 [info     ] Parameters are saved to d3rlpy_logs/DiscreteCQL_20230310135819/params.json params={'action_scaler': None, 'alpha': 1.0, 'batch_size': 32, 'encoder_factory': {'type': 'default', 'params': {'activation': 'relu', 'use_batch_norm': False, 'dropout_rate': None}}, 'gamma': 0.99, 'generated_maxlen': 100000, 'learning_rate': 6.25e-05, 'n_critics': 1, 'n_frames': 4, 'n_steps': 1, 'optim_factory': {'optim_cls': 'Adam', 'betas': (0.9, 0.999), 'eps': 1e-08, 'weight_decay': 0, 'amsgrad': False}, 'q_func_factory': {'type': 'mean', 'params': {'share_encoder': False}}, 'real_ratio': 1.0, 'reward_scaler': None, 'scaler': {'type': 'pixel', 'params': {}}, 'target_update_interval': 8000, 'use_gpu': None, 'algorithm': 'DiscreteCQL', 'observation_shape': (4,), 'action_size': 2}\n"
     ]
    },
    {
     "data": {
      "application/vnd.jupyter.widget-view+json": {
       "model_id": "3c85500d16d74a5286434f5b22d9b1b9",
       "version_major": 2,
       "version_minor": 0
      },
      "text/plain": [
       "Epoch 1/10:   0%|          | 0/2475 [00:00<?, ?it/s]"
      ]
     },
     "metadata": {},
     "output_type": "display_data"
    },
    {
     "name": "stdout",
     "output_type": "stream",
     "text": [
      "2023-03-10 13:58:33 [info     ] DiscreteCQL_20230310135819: epoch=1 step=2475 epoch=1 metrics={'time_sample_batch': 0.00011373096042209202, 'time_algorithm_update': 0.0048319306999746, 'loss': 0.7044372973056755, 'time_step': 0.005021619122437757, 'environment': 9.7, 'advantage': -0.7184256813428528, 'td_error': 1.003873027455517, 'value_scale': 1.0141254830004633} step=2475\n",
      "2023-03-10 13:58:33 [info     ] Model parameters are saved to d3rlpy_logs/DiscreteCQL_20230310135819/model_2475.pt\n"
     ]
    },
    {
     "data": {
      "application/vnd.jupyter.widget-view+json": {
       "model_id": "846b1a0081dd4174bdebdcf76eb52b3b",
       "version_major": 2,
       "version_minor": 0
      },
      "text/plain": [
       "Epoch 2/10:   0%|          | 0/2475 [00:00<?, ?it/s]"
      ]
     },
     "metadata": {},
     "output_type": "display_data"
    },
    {
     "name": "stdout",
     "output_type": "stream",
     "text": [
      "2023-03-10 13:58:47 [info     ] DiscreteCQL_20230310135819: epoch=2 step=4950 epoch=2 metrics={'time_sample_batch': 0.00010732737454501066, 'time_algorithm_update': 0.004808726936879784, 'loss': 0.6926807059904542, 'time_step': 0.004982993386008523, 'environment': 9.6, 'advantage': -0.8237623272107137, 'td_error': 1.0083632118101098, 'value_scale': 1.016894909017989} step=4950\n",
      "2023-03-10 13:58:47 [info     ] Model parameters are saved to d3rlpy_logs/DiscreteCQL_20230310135819/model_4950.pt\n"
     ]
    },
    {
     "data": {
      "application/vnd.jupyter.widget-view+json": {
       "model_id": "6f21c720cab6487f97b69cab46d4164f",
       "version_major": 2,
       "version_minor": 0
      },
      "text/plain": [
       "Epoch 3/10:   0%|          | 0/2475 [00:00<?, ?it/s]"
      ]
     },
     "metadata": {},
     "output_type": "display_data"
    },
    {
     "name": "stdout",
     "output_type": "stream",
     "text": [
      "2023-03-10 13:58:59 [info     ] DiscreteCQL_20230310135819: epoch=3 step=7425 epoch=3 metrics={'time_sample_batch': 0.0001019903626104798, 'time_algorithm_update': 0.004526491646814828, 'loss': 0.692025963369042, 'time_step': 0.0046929629162104445, 'environment': 9.2, 'advantage': -1.4125308991548584, 'td_error': 1.0304378637299039, 'value_scale': 1.0262357572453116} step=7425\n",
      "2023-03-10 13:58:59 [info     ] Model parameters are saved to d3rlpy_logs/DiscreteCQL_20230310135819/model_7425.pt\n"
     ]
    },
    {
     "data": {
      "application/vnd.jupyter.widget-view+json": {
       "model_id": "e043f2af2dc84d6885ac7c39175e2838",
       "version_major": 2,
       "version_minor": 0
      },
      "text/plain": [
       "Epoch 4/10:   0%|          | 0/2475 [00:00<?, ?it/s]"
      ]
     },
     "metadata": {},
     "output_type": "display_data"
    },
    {
     "name": "stdout",
     "output_type": "stream",
     "text": [
      "2023-03-10 13:59:13 [info     ] DiscreteCQL_20230310135819: epoch=4 step=9900 epoch=4 metrics={'time_sample_batch': 0.00010997589188392716, 'time_algorithm_update': 0.004905999308884746, 'loss': 0.6936927360236043, 'time_step': 0.005086273906206844, 'environment': 22.6, 'advantage': -0.3006639996273257, 'td_error': 0.9743382934822494, 'value_scale': 2.0003800274591748} step=9900\n",
      "2023-03-10 13:59:13 [info     ] Model parameters are saved to d3rlpy_logs/DiscreteCQL_20230310135819/model_9900.pt\n"
     ]
    },
    {
     "data": {
      "application/vnd.jupyter.widget-view+json": {
       "model_id": "b37eb5ef3bcf40c9b5a571e84c3b6bc6",
       "version_major": 2,
       "version_minor": 0
      },
      "text/plain": [
       "Epoch 5/10:   0%|          | 0/2475 [00:00<?, ?it/s]"
      ]
     },
     "metadata": {},
     "output_type": "display_data"
    },
    {
     "name": "stdout",
     "output_type": "stream",
     "text": [
      "2023-03-10 13:59:27 [info     ] DiscreteCQL_20230310135819: epoch=5 step=12375 epoch=5 metrics={'time_sample_batch': 0.0001084217880711411, 'time_algorithm_update': 0.004895942187068438, 'loss': 0.6897469291542515, 'time_step': 0.00507350459243312, 'environment': 11.9, 'advantage': -1.7485878148839962, 'td_error': 1.0283506860403937, 'value_scale': 2.0208384595941564} step=12375\n",
      "2023-03-10 13:59:27 [info     ] Model parameters are saved to d3rlpy_logs/DiscreteCQL_20230310135819/model_12375.pt\n"
     ]
    },
    {
     "data": {
      "application/vnd.jupyter.widget-view+json": {
       "model_id": "f9466287af9142a1bc0d040de67e7e57",
       "version_major": 2,
       "version_minor": 0
      },
      "text/plain": [
       "Epoch 6/10:   0%|          | 0/2475 [00:00<?, ?it/s]"
      ]
     },
     "metadata": {},
     "output_type": "display_data"
    },
    {
     "name": "stdout",
     "output_type": "stream",
     "text": [
      "2023-03-10 13:59:40 [info     ] DiscreteCQL_20230310135819: epoch=6 step=14850 epoch=6 metrics={'time_sample_batch': 0.00010091974277688999, 'time_algorithm_update': 0.004574159757055418, 'loss': 0.686699037840872, 'time_step': 0.004739959119546293, 'environment': 25.9, 'advantage': -0.8160245403421296, 'td_error': 1.0020592841492546, 'value_scale': 2.0106483820014636} step=14850\n",
      "2023-03-10 13:59:40 [info     ] Model parameters are saved to d3rlpy_logs/DiscreteCQL_20230310135819/model_14850.pt\n"
     ]
    },
    {
     "data": {
      "application/vnd.jupyter.widget-view+json": {
       "model_id": "080254babfe94ea3b37f0596e5e4f87e",
       "version_major": 2,
       "version_minor": 0
      },
      "text/plain": [
       "Epoch 7/10:   0%|          | 0/2475 [00:00<?, ?it/s]"
      ]
     },
     "metadata": {},
     "output_type": "display_data"
    },
    {
     "name": "stdout",
     "output_type": "stream",
     "text": [
      "2023-03-10 13:59:52 [info     ] DiscreteCQL_20230310135819: epoch=7 step=17325 epoch=7 metrics={'time_sample_batch': 0.00010110190420439749, 'time_algorithm_update': 0.004474106316614632, 'loss': 0.6857365346195722, 'time_step': 0.004640489154391818, 'environment': 17.5, 'advantage': -2.433293339287986, 'td_error': 1.0552107648111715, 'value_scale': 3.0459035404557544} step=17325\n",
      "2023-03-10 13:59:52 [info     ] Model parameters are saved to d3rlpy_logs/DiscreteCQL_20230310135819/model_17325.pt\n"
     ]
    },
    {
     "data": {
      "application/vnd.jupyter.widget-view+json": {
       "model_id": "43b5a924a8bc42ba8845f6cb48c88b1d",
       "version_major": 2,
       "version_minor": 0
      },
      "text/plain": [
       "Epoch 8/10:   0%|          | 0/2475 [00:00<?, ?it/s]"
      ]
     },
     "metadata": {},
     "output_type": "display_data"
    },
    {
     "name": "stdout",
     "output_type": "stream",
     "text": [
      "2023-03-10 14:00:06 [info     ] DiscreteCQL_20230310135819: epoch=8 step=19800 epoch=8 metrics={'time_sample_batch': 0.00010647542548902106, 'time_algorithm_update': 0.004866572293368253, 'loss': 0.6805609355791651, 'time_step': 0.005041583186448223, 'environment': 58.7, 'advantage': -2.9189308941082848, 'td_error': 1.061670664012514, 'value_scale': 3.046021322604366} step=19800\n",
      "2023-03-10 14:00:06 [info     ] Model parameters are saved to d3rlpy_logs/DiscreteCQL_20230310135819/model_19800.pt\n"
     ]
    },
    {
     "data": {
      "application/vnd.jupyter.widget-view+json": {
       "model_id": "f7b81eb9e4c7473fb784d8fac5891c1f",
       "version_major": 2,
       "version_minor": 0
      },
      "text/plain": [
       "Epoch 9/10:   0%|          | 0/2475 [00:00<?, ?it/s]"
      ]
     },
     "metadata": {},
     "output_type": "display_data"
    },
    {
     "name": "stdout",
     "output_type": "stream",
     "text": [
      "2023-03-10 14:00:20 [info     ] DiscreteCQL_20230310135819: epoch=9 step=22275 epoch=9 metrics={'time_sample_batch': 0.00010994246511748343, 'time_algorithm_update': 0.0049418311648898655, 'loss': 0.6768818291991648, 'time_step': 0.005123888940522165, 'environment': 25.4, 'advantage': -2.5767650129123534, 'td_error': 1.087821161304596, 'value_scale': 3.061811562537585} step=22275\n",
      "2023-03-10 14:00:20 [info     ] Model parameters are saved to d3rlpy_logs/DiscreteCQL_20230310135819/model_22275.pt\n"
     ]
    },
    {
     "data": {
      "application/vnd.jupyter.widget-view+json": {
       "model_id": "3be795b070c04073b7f125d9f5c1a74e",
       "version_major": 2,
       "version_minor": 0
      },
      "text/plain": [
       "Epoch 10/10:   0%|          | 0/2475 [00:00<?, ?it/s]"
      ]
     },
     "metadata": {},
     "output_type": "display_data"
    },
    {
     "name": "stdout",
     "output_type": "stream",
     "text": [
      "2023-03-10 14:00:33 [info     ] DiscreteCQL_20230310135819: epoch=10 step=24750 epoch=10 metrics={'time_sample_batch': 0.00010402534947250829, 'time_algorithm_update': 0.004621366539386788, 'loss': 0.678041718006134, 'time_step': 0.004792209490381106, 'environment': 105.7, 'advantage': -2.5476583313030563, 'td_error': 1.066795705757112, 'value_scale': 4.074616679151892} step=24750\n",
      "2023-03-10 14:00:33 [info     ] Model parameters are saved to d3rlpy_logs/DiscreteCQL_20230310135819/model_24750.pt\n"
     ]
    },
    {
     "data": {
      "text/plain": [
       "[(1,\n",
       "  {'time_sample_batch': 0.00011373096042209202,\n",
       "   'time_algorithm_update': 0.0048319306999746,\n",
       "   'loss': 0.7044372973056755,\n",
       "   'time_step': 0.005021619122437757,\n",
       "   'environment': 9.7,\n",
       "   'advantage': -0.7184256813428528,\n",
       "   'td_error': 1.003873027455517,\n",
       "   'value_scale': 1.0141254830004633}),\n",
       " (2,\n",
       "  {'time_sample_batch': 0.00010732737454501066,\n",
       "   'time_algorithm_update': 0.004808726936879784,\n",
       "   'loss': 0.6926807059904542,\n",
       "   'time_step': 0.004982993386008523,\n",
       "   'environment': 9.6,\n",
       "   'advantage': -0.8237623272107137,\n",
       "   'td_error': 1.0083632118101098,\n",
       "   'value_scale': 1.016894909017989}),\n",
       " (3,\n",
       "  {'time_sample_batch': 0.0001019903626104798,\n",
       "   'time_algorithm_update': 0.004526491646814828,\n",
       "   'loss': 0.692025963369042,\n",
       "   'time_step': 0.0046929629162104445,\n",
       "   'environment': 9.2,\n",
       "   'advantage': -1.4125308991548584,\n",
       "   'td_error': 1.0304378637299039,\n",
       "   'value_scale': 1.0262357572453116}),\n",
       " (4,\n",
       "  {'time_sample_batch': 0.00010997589188392716,\n",
       "   'time_algorithm_update': 0.004905999308884746,\n",
       "   'loss': 0.6936927360236043,\n",
       "   'time_step': 0.005086273906206844,\n",
       "   'environment': 22.6,\n",
       "   'advantage': -0.3006639996273257,\n",
       "   'td_error': 0.9743382934822494,\n",
       "   'value_scale': 2.0003800274591748}),\n",
       " (5,\n",
       "  {'time_sample_batch': 0.0001084217880711411,\n",
       "   'time_algorithm_update': 0.004895942187068438,\n",
       "   'loss': 0.6897469291542515,\n",
       "   'time_step': 0.00507350459243312,\n",
       "   'environment': 11.9,\n",
       "   'advantage': -1.7485878148839962,\n",
       "   'td_error': 1.0283506860403937,\n",
       "   'value_scale': 2.0208384595941564}),\n",
       " (6,\n",
       "  {'time_sample_batch': 0.00010091974277688999,\n",
       "   'time_algorithm_update': 0.004574159757055418,\n",
       "   'loss': 0.686699037840872,\n",
       "   'time_step': 0.004739959119546293,\n",
       "   'environment': 25.9,\n",
       "   'advantage': -0.8160245403421296,\n",
       "   'td_error': 1.0020592841492546,\n",
       "   'value_scale': 2.0106483820014636}),\n",
       " (7,\n",
       "  {'time_sample_batch': 0.00010110190420439749,\n",
       "   'time_algorithm_update': 0.004474106316614632,\n",
       "   'loss': 0.6857365346195722,\n",
       "   'time_step': 0.004640489154391818,\n",
       "   'environment': 17.5,\n",
       "   'advantage': -2.433293339287986,\n",
       "   'td_error': 1.0552107648111715,\n",
       "   'value_scale': 3.0459035404557544}),\n",
       " (8,\n",
       "  {'time_sample_batch': 0.00010647542548902106,\n",
       "   'time_algorithm_update': 0.004866572293368253,\n",
       "   'loss': 0.6805609355791651,\n",
       "   'time_step': 0.005041583186448223,\n",
       "   'environment': 58.7,\n",
       "   'advantage': -2.9189308941082848,\n",
       "   'td_error': 1.061670664012514,\n",
       "   'value_scale': 3.046021322604366}),\n",
       " (9,\n",
       "  {'time_sample_batch': 0.00010994246511748343,\n",
       "   'time_algorithm_update': 0.0049418311648898655,\n",
       "   'loss': 0.6768818291991648,\n",
       "   'time_step': 0.005123888940522165,\n",
       "   'environment': 25.4,\n",
       "   'advantage': -2.5767650129123534,\n",
       "   'td_error': 1.087821161304596,\n",
       "   'value_scale': 3.061811562537585}),\n",
       " (10,\n",
       "  {'time_sample_batch': 0.00010402534947250829,\n",
       "   'time_algorithm_update': 0.004621366539386788,\n",
       "   'loss': 0.678041718006134,\n",
       "   'time_step': 0.004792209490381106,\n",
       "   'environment': 105.7,\n",
       "   'advantage': -2.5476583313030563,\n",
       "   'td_error': 1.066795705757112,\n",
       "   'value_scale': 4.074616679151892})]"
      ]
     },
     "execution_count": 47,
     "metadata": {},
     "output_type": "execute_result"
    }
   ],
   "source": [
    "from d3rlpy.metrics.scorer import discounted_sum_of_advantage_scorer\n",
    "from d3rlpy.metrics.scorer import evaluate_on_environment\n",
    "from d3rlpy.metrics.scorer import td_error_scorer\n",
    "from d3rlpy.metrics.scorer import average_value_estimation_scorer\n",
    "\n",
    "# start training\n",
    "cql.fit(train_episodes,\n",
    "        eval_episodes=test_episodes,\n",
    "        n_epochs=10,\n",
    "        scorers={\n",
    "            'environment': evaluate_on_environment(env), # Cartpole environment\n",
    "            'advantage': discounted_sum_of_advantage_scorer, # smaller is better\n",
    "            'td_error': td_error_scorer, # smaller is better\n",
    "            'value_scale': average_value_estimation_scorer # smaller is better\n",
    "        })"
   ]
  },
  {
   "cell_type": "markdown",
   "id": "d5d8d24d",
   "metadata": {},
   "source": [
    "### Custom environment"
   ]
  },
  {
   "cell_type": "code",
   "execution_count": 104,
   "id": "f5cf5691",
   "metadata": {},
   "outputs": [],
   "source": [
    "import gym\n",
    "from gym.spaces import Discrete, Box\n",
    "import numpy as np\n",
    "import os\n",
    "import random\n",
    "\n",
    "class SimpleCorridor_d3rlpy(gym.Env):\n",
    "    \"\"\"Example of a custom env in which you have to walk down a corridor.\n",
    "    Get a reward of -0.1 if you are not at the end, a random reward that is positive if you do.\n",
    "    Move +1 if you move forward, -1 if you move backward. The total length is 5.\n",
    "    We should want to reach the end in 5 steps in the perfectly trained world. \n",
    "    You can configure the length of the corridor via the env config.\"\"\"\n",
    "\n",
    "    def __init__(self, config):\n",
    "        self.end_pos = config[\"corridor_length\"]\n",
    "        self.cur_pos = 0\n",
    "        self.action_space = Discrete(5)\n",
    "        self.observation_space = Box(0.0, self.end_pos, shape=(1,), dtype=np.float32)\n",
    "        # Set the seed. This is only used for the final (reach goal) reward.\n",
    "        self.reset()\n",
    "\n",
    "    def reset(self, *, seed=None, options=None):\n",
    "        random.seed(seed)\n",
    "        self.cur_pos = 0\n",
    "        return np.array([self.cur_pos])\n",
    "\n",
    "    def step(self, action):\n",
    "        assert action in [0, 1, 2, 3, 4], action\n",
    "        # backward step\n",
    "        if action == 0 and self.cur_pos > 0:\n",
    "            self.cur_pos -= 1\n",
    "            reward = -0.2\n",
    "        # forward step\n",
    "        elif action == 1:\n",
    "            self.cur_pos += 1\n",
    "            if(self.check_if_water()):\n",
    "                reward = -0.5\n",
    "            else:\n",
    "                reward = 0.1\n",
    "        # double speed\n",
    "        elif action == 4:\n",
    "            if(self.cur_pos <= 3):\n",
    "                self.cur_pos += 2\n",
    "            else:\n",
    "                self.cur_pos += 1\n",
    "            if(self.check_if_water()):\n",
    "                reward = -0.5\n",
    "            else:\n",
    "                reward = 0.2\n",
    "        # left or right\n",
    "        else:\n",
    "            self.cur_pos = self.cur_pos\n",
    "            reward = -0.05\n",
    "            \n",
    "        done = truncated = self.cur_pos >= self.end_pos\n",
    "        if(done):\n",
    "            reward = 2\n",
    "        # Produce a random reward when we reach the goal.\n",
    "        return (\n",
    "            np.array([self.cur_pos]),\n",
    "            reward, # Setting to 2 instead of random reward has no real impact\n",
    "            done,\n",
    "            {},\n",
    "        )\n",
    "    \n",
    "    def check_if_water(self):\n",
    "        # This is water and will get a negative reward\n",
    "        if(self.cur_pos == 3):\n",
    "            return True\n",
    "        else:\n",
    "            return False\n",
    "\n",
    "config={\"corridor_length\": 5}\n",
    "env = SimpleCorridor_d3rlpy(config=config)"
   ]
  },
  {
   "cell_type": "code",
   "execution_count": 105,
   "id": "68f18ad0",
   "metadata": {},
   "outputs": [
    {
     "data": {
      "text/plain": [
       "<__main__.SimpleCorridor_d3rlpy at 0x136a18c40>"
      ]
     },
     "execution_count": 105,
     "metadata": {},
     "output_type": "execute_result"
    }
   ],
   "source": [
    "env"
   ]
  },
  {
   "cell_type": "code",
   "execution_count": 106,
   "id": "c06bbc47",
   "metadata": {},
   "outputs": [
    {
     "data": {
      "text/plain": [
       "array([0])"
      ]
     },
     "execution_count": 106,
     "metadata": {},
     "output_type": "execute_result"
    }
   ],
   "source": [
    "env.reset()"
   ]
  },
  {
   "cell_type": "code",
   "execution_count": 108,
   "id": "4e05fde3",
   "metadata": {},
   "outputs": [],
   "source": [
    "action = env.action_space.sample()\n",
    "obs, reward, done, info = env.step(action)"
   ]
  },
  {
   "cell_type": "code",
   "execution_count": 109,
   "id": "de70f14d",
   "metadata": {},
   "outputs": [
    {
     "data": {
      "text/plain": [
       "0.2"
      ]
     },
     "execution_count": 109,
     "metadata": {},
     "output_type": "execute_result"
    }
   ],
   "source": [
    "reward"
   ]
  },
  {
   "cell_type": "code",
   "execution_count": 102,
   "id": "0cbf149b",
   "metadata": {},
   "outputs": [
    {
     "data": {
      "text/plain": [
       "<function ndarray.astype>"
      ]
     },
     "execution_count": 102,
     "metadata": {},
     "output_type": "execute_result"
    }
   ],
   "source": [
    "obs.astype"
   ]
  },
  {
   "cell_type": "code",
   "execution_count": 138,
   "id": "c828cf9e",
   "metadata": {},
   "outputs": [
    {
     "name": "stdout",
     "output_type": "stream",
     "text": [
      "2023-03-10 15:47:33 [debug    ] Building model...\n",
      "2023-03-10 15:47:33 [debug    ] Model has been built.\n"
     ]
    },
    {
     "data": {
      "application/vnd.jupyter.widget-view+json": {
       "model_id": "84727962fb99401d84f084a329e3a041",
       "version_major": 2,
       "version_minor": 0
      },
      "text/plain": [
       "  0%|          | 0/100000 [00:00<?, ?it/s]"
      ]
     },
     "metadata": {},
     "output_type": "display_data"
    }
   ],
   "source": [
    "# setup algorithm\n",
    "random_policy = d3rlpy.algos.DiscreteRandomPolicy()\n",
    "\n",
    "# prepare experience replay buffer\n",
    "buffer = d3rlpy.online.buffers.ReplayBuffer(maxlen=100000, env=env)\n",
    "\n",
    "# start data collection\n",
    "random_policy.collect(env, buffer, n_steps=100000)\n",
    "\n",
    "# export as MDPDataset\n",
    "dataset = buffer.to_mdp_dataset()\n",
    "\n",
    "# save MDPDataset\n",
    "dataset.dump(\"random_policy_corridor_dataset.h5\")"
   ]
  },
  {
   "cell_type": "markdown",
   "id": "feee588c",
   "metadata": {},
   "source": [
    "### Fit online with custom environment"
   ]
  },
  {
   "cell_type": "code",
   "execution_count": 113,
   "id": "f6959bee",
   "metadata": {},
   "outputs": [
    {
     "name": "stdout",
     "output_type": "stream",
     "text": [
      "2023-03-10 14:47:32 [info     ] Directory is created at d3rlpy_logs/DQN_online_20230310144732\n",
      "2023-03-10 14:47:32 [debug    ] Building model...\n",
      "2023-03-10 14:47:32 [debug    ] Model has been built.\n",
      "2023-03-10 14:47:32 [info     ] Parameters are saved to d3rlpy_logs/DQN_online_20230310144732/params.json params={'action_scaler': None, 'batch_size': 32, 'encoder_factory': {'type': 'default', 'params': {'activation': 'relu', 'use_batch_norm': False, 'dropout_rate': None}}, 'gamma': 0.99, 'generated_maxlen': 100000, 'learning_rate': 6.25e-05, 'n_critics': 1, 'n_frames': 1, 'n_steps': 1, 'optim_factory': {'optim_cls': 'Adam', 'betas': (0.9, 0.999), 'eps': 1e-08, 'weight_decay': 0, 'amsgrad': False}, 'q_func_factory': {'type': 'mean', 'params': {'share_encoder': False}}, 'real_ratio': 1.0, 'reward_scaler': None, 'scaler': None, 'target_update_interval': 8000, 'use_gpu': None, 'algorithm': 'DQN', 'observation_shape': (1,), 'action_size': 5}\n"
     ]
    },
    {
     "data": {
      "application/vnd.jupyter.widget-view+json": {
       "model_id": "797b0da7218946f6bcf69808e179d275",
       "version_major": 2,
       "version_minor": 0
      },
      "text/plain": [
       "  0%|          | 0/100000 [00:00<?, ?it/s]"
      ]
     },
     "metadata": {},
     "output_type": "display_data"
    },
    {
     "name": "stdout",
     "output_type": "stream",
     "text": [
      "2023-03-10 14:48:12 [info     ] Model parameters are saved to d3rlpy_logs/DQN_online_20230310144732/model_10000.pt\n",
      "2023-03-10 14:48:12 [info     ] DQN_online_20230310144732: epoch=1 step=10000 epoch=1 metrics={'time_inference': 0.0005066035032272339, 'time_environment_step': 1.2087106704711915e-05, 'time_step': 0.003947368121147155, 'time_sample_batch': 0.0001312981424975613, 'time_algorithm_update': 0.00323518305445813, 'loss': 1.49070639037667e-06} step=10000\n",
      "2023-03-10 14:48:50 [info     ] Model parameters are saved to d3rlpy_logs/DQN_online_20230310144732/model_20000.pt\n",
      "2023-03-10 14:48:50 [info     ] DQN_online_20230310144732: epoch=2 step=20000 epoch=2 metrics={'time_inference': 0.0004898247003555298, 'time_environment_step': 1.1702489852905273e-05, 'time_sample_batch': 0.00012943384647369385, 'time_algorithm_update': 0.003080199909210205, 'loss': 7.911302969334136e-07, 'time_step': 0.0037821149587631228} step=20000\n",
      "2023-03-10 14:49:30 [info     ] Model parameters are saved to d3rlpy_logs/DQN_online_20230310144732/model_30000.pt\n",
      "2023-03-10 14:49:30 [info     ] DQN_online_20230310144732: epoch=3 step=30000 epoch=3 metrics={'time_inference': 0.0005103825092315674, 'time_environment_step': 1.2085795402526855e-05, 'time_sample_batch': 0.0001346837043762207, 'time_algorithm_update': 0.003143997097015381, 'loss': 8.42025691046951e-07, 'time_step': 0.003875115656852722} step=30000\n",
      "2023-03-10 14:50:09 [info     ] Model parameters are saved to d3rlpy_logs/DQN_online_20230310144732/model_40000.pt\n",
      "2023-03-10 14:50:09 [info     ] DQN_online_20230310144732: epoch=4 step=40000 epoch=4 metrics={'time_inference': 0.0005104709148406983, 'time_environment_step': 1.2467360496520996e-05, 'time_sample_batch': 0.00013533463478088378, 'time_algorithm_update': 0.003176293635368347, 'loss': 0.0004690735481705424, 'time_step': 0.003914886403083801, 'rollout_return': 0.7194666666674564} step=40000\n",
      "2023-03-10 14:50:47 [info     ] Model parameters are saved to d3rlpy_logs/DQN_online_20230310144732/model_50000.pt\n",
      "2023-03-10 14:50:47 [info     ] DQN_online_20230310144732: epoch=5 step=50000 epoch=5 metrics={'time_inference': 0.0004827022314071655, 'time_environment_step': 1.263582706451416e-05, 'time_sample_batch': 0.00012940218448638917, 'time_algorithm_update': 0.0030653353214263918, 'loss': 0.0010805361879599117, 'time_step': 0.003776245045661926, 'rollout_return': 2.3130197322056847} step=50000\n",
      "2023-03-10 14:51:26 [info     ] Model parameters are saved to d3rlpy_logs/DQN_online_20230310144732/model_60000.pt\n",
      "2023-03-10 14:51:26 [info     ] DQN_online_20230310144732: epoch=6 step=60000 epoch=6 metrics={'time_inference': 0.0004883769989013672, 'time_environment_step': 1.1980128288269043e-05, 'time_sample_batch': 0.0001310688018798828, 'time_algorithm_update': 0.003159639859199524, 'loss': 0.002559800237938646, 'time_step': 0.003866295385360718, 'rollout_return': 1.7569841269841195} step=60000\n",
      "2023-03-10 14:52:04 [info     ] Model parameters are saved to d3rlpy_logs/DQN_online_20230310144732/model_70000.pt\n",
      "2023-03-10 14:52:05 [info     ] DQN_online_20230310144732: epoch=7 step=70000 epoch=7 metrics={'time_inference': 0.0004793863534927368, 'time_environment_step': 1.2026333808898927e-05, 'time_sample_batch': 0.00012890136241912843, 'time_algorithm_update': 0.0030699628114700317, 'loss': 0.002170517750098319, 'time_step': 0.0037676092386245727, 'rollout_return': 2.216377358490613} step=70000\n",
      "2023-03-10 14:52:44 [info     ] Model parameters are saved to d3rlpy_logs/DQN_online_20230310144732/model_80000.pt\n",
      "2023-03-10 14:52:44 [info     ] DQN_online_20230310144732: epoch=8 step=80000 epoch=8 metrics={'time_inference': 0.000489849328994751, 'time_environment_step': 1.1982011795043945e-05, 'time_sample_batch': 0.00013124711513519288, 'time_algorithm_update': 0.003173575735092163, 'loss': 0.0019677448421249657, 'time_step': 0.003880767393112183, 'rollout_return': 1.5686597938144147} step=80000\n",
      "2023-03-10 14:53:22 [info     ] Model parameters are saved to d3rlpy_logs/DQN_online_20230310144732/model_90000.pt\n",
      "2023-03-10 14:53:22 [info     ] DQN_online_20230310144732: epoch=9 step=90000 epoch=9 metrics={'time_inference': 0.00048170599937438964, 'time_environment_step': 1.2723684310913085e-05, 'time_sample_batch': 0.0001297175407409668, 'time_algorithm_update': 0.003121890091896057, 'loss': 0.0018237544351961692, 'time_step': 0.0038332035303115844, 'rollout_return': 2.387026671056844} step=90000\n",
      "2023-03-10 14:54:02 [info     ] Model parameters are saved to d3rlpy_logs/DQN_online_20230310144732/model_100000.pt\n",
      "2023-03-10 14:54:02 [info     ] DQN_online_20230310144732: epoch=10 step=100000 epoch=10 metrics={'time_inference': 0.0004819150924682617, 'time_environment_step': 1.252591609954834e-05, 'time_sample_batch': 0.00012938268184661865, 'time_algorithm_update': 0.0031712656021118165, 'loss': 0.001521866709845731, 'time_step': 0.003876972126960754, 'rollout_return': 2.3648156789547183} step=100000\n"
     ]
    }
   ],
   "source": [
    "# setup algorithm\n",
    "dqn = d3rlpy.algos.DQN()\n",
    "\n",
    "# prepare experience replay buffer\n",
    "buffer = d3rlpy.online.buffers.ReplayBuffer(maxlen=100000, env=env)\n",
    "\n",
    "# prepare exploration strategy if necessary\n",
    "explorer = d3rlpy.online.explorers.ConstantEpsilonGreedy(0.3)\n",
    "\n",
    "# start data collection\n",
    "dqn.fit_online(env, buffer, n_steps=100000)"
   ]
  },
  {
   "cell_type": "code",
   "execution_count": 146,
   "id": "e1bcf523",
   "metadata": {},
   "outputs": [],
   "source": [
    "for i in range(5):\n",
    "    obs = np.array([i])\n",
    "    action = dqn.predict([obs])[0]\n",
    "    print(action)"
   ]
  },
  {
   "cell_type": "markdown",
   "id": "25f17db1",
   "metadata": {},
   "source": [
    "### Fit on offline data generated from custom environment"
   ]
  },
  {
   "cell_type": "code",
   "execution_count": 147,
   "id": "9cad9c94",
   "metadata": {},
   "outputs": [],
   "source": [
    "#initialize the algorithm\n",
    "dqn = d3rlpy.algos.DQN()\n",
    "\n",
    "dataset2 = d3rlpy.online.buffers.ReplayBuffer(maxlen=100000, env=env)\n",
    "dataset2 = buffer.to_mdp_dataset()\n",
    "dataset2.load(\"random_policy_corridor_dataset.h5\")\n",
    "\n",
    "train_episodes, test_episodes = train_test_split(dataset2, test_size=0.2)"
   ]
  },
  {
   "cell_type": "code",
   "execution_count": null,
   "id": "85cb4503",
   "metadata": {},
   "outputs": [],
   "source": [
    "# start training\n",
    "dqn.fit(train_episodes,\n",
    "        eval_episodes=test_episodes,\n",
    "        n_epochs=5,\n",
    "        scorers={\n",
    "            'environment': evaluate_on_environment(env), # Cartpole environment\n",
    "            'advantage': discounted_sum_of_advantage_scorer, # smaller is better\n",
    "            'td_error': td_error_scorer, # smaller is better\n",
    "            'value_scale': average_value_estimation_scorer # smaller is better\n",
    "        })"
   ]
  },
  {
   "cell_type": "code",
   "execution_count": 148,
   "id": "edd91575",
   "metadata": {
    "scrolled": false
   },
   "outputs": [],
   "source": [
    "dqn.fit(\n",
    "    train_episodes,\n",
    "    n_epochs=10,\n",
    "    #scorers=metrics,\n",
    "    eval_episodes=test_episodes,\n",
    ")"
   ]
  },
  {
   "cell_type": "code",
   "execution_count": null,
   "id": "c0a9dfe0",
   "metadata": {},
   "outputs": [],
   "source": []
  }
 ],
 "metadata": {
  "kernelspec": {
   "display_name": "Python 3 (ipykernel)",
   "language": "python",
   "name": "python3"
  },
  "language_info": {
   "codemirror_mode": {
    "name": "ipython",
    "version": 3
   },
   "file_extension": ".py",
   "mimetype": "text/x-python",
   "name": "python",
   "nbconvert_exporter": "python",
   "pygments_lexer": "ipython3",
   "version": "3.8.9"
  }
 },
 "nbformat": 4,
 "nbformat_minor": 5
}
