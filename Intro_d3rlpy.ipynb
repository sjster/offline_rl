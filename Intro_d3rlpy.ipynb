{
 "cells": [
  {
   "cell_type": "code",
   "execution_count": 1,
   "id": "9ffeb3ba",
   "metadata": {},
   "outputs": [],
   "source": [
    "from d3rlpy.datasets import get_cartpole"
   ]
  },
  {
   "cell_type": "code",
   "execution_count": 2,
   "id": "8f634e8f",
   "metadata": {},
   "outputs": [],
   "source": [
    "dataset, env = get_cartpole()"
   ]
  },
  {
   "cell_type": "code",
   "execution_count": 3,
   "id": "1986f50a",
   "metadata": {},
   "outputs": [],
   "source": [
    "from sklearn.model_selection import train_test_split\n",
    "\n",
    "train_episodes, test_episodes = train_test_split(dataset, test_size=0.2)"
   ]
  },
  {
   "cell_type": "code",
   "execution_count": 4,
   "id": "bd4f6554",
   "metadata": {},
   "outputs": [],
   "source": [
    "from d3rlpy.algos import DQN\n",
    "\n",
    "# if you don't use GPU, set use_gpu=False instead.\n",
    "dqn = DQN(use_gpu=False)\n",
    "\n",
    "# initialize neural networks with the given observation shape and action size.\n",
    "# this is not necessary when you directly call fit or fit_online method.\n",
    "dqn.build_with_dataset(dataset)"
   ]
  },
  {
   "cell_type": "code",
   "execution_count": 5,
   "id": "2a41b39a",
   "metadata": {},
   "outputs": [],
   "source": [
    "from d3rlpy.metrics.scorer import td_error_scorer\n",
    "from d3rlpy.metrics.scorer import average_value_estimation_scorer\n",
    "\n",
    "# calculate metrics with test dataset\n",
    "td_error = td_error_scorer(dqn, test_episodes)"
   ]
  },
  {
   "cell_type": "code",
   "execution_count": 6,
   "id": "8cdf8def",
   "metadata": {},
   "outputs": [],
   "source": [
    "from d3rlpy.metrics.scorer import evaluate_on_environment\n",
    "\n",
    "# set environment in scorer function\n",
    "evaluate_scorer = evaluate_on_environment(env)\n",
    "\n",
    "# evaluate algorithm on the environment\n",
    "rewards = evaluate_scorer(dqn)"
   ]
  },
  {
   "cell_type": "code",
   "execution_count": 7,
   "id": "4fbe9cdc",
   "metadata": {},
   "outputs": [
    {
     "data": {
      "text/plain": [
       "<TimeLimit<CartPoleEnv<CartPole-v0>>>"
      ]
     },
     "execution_count": 7,
     "metadata": {},
     "output_type": "execute_result"
    }
   ],
   "source": [
    "env"
   ]
  },
  {
   "cell_type": "code",
   "execution_count": 8,
   "id": "68aa9458",
   "metadata": {},
   "outputs": [
    {
     "name": "stdout",
     "output_type": "stream",
     "text": [
      "2023-03-10 13:16:18 [debug    ] RoundIterator is selected.\n",
      "2023-03-10 13:16:18 [info     ] Directory is created at d3rlpy_logs/DQN_20230310131618\n",
      "2023-03-10 13:16:18 [warning  ] Skip building models since they're already built.\n",
      "2023-03-10 13:16:18 [info     ] Parameters are saved to d3rlpy_logs/DQN_20230310131618/params.json params={'action_scaler': None, 'batch_size': 32, 'encoder_factory': {'type': 'default', 'params': {'activation': 'relu', 'use_batch_norm': False, 'dropout_rate': None}}, 'gamma': 0.99, 'generated_maxlen': 100000, 'learning_rate': 6.25e-05, 'n_critics': 1, 'n_frames': 1, 'n_steps': 1, 'optim_factory': {'optim_cls': 'Adam', 'betas': (0.9, 0.999), 'eps': 1e-08, 'weight_decay': 0, 'amsgrad': False}, 'q_func_factory': {'type': 'mean', 'params': {'share_encoder': False}}, 'real_ratio': 1.0, 'reward_scaler': None, 'scaler': None, 'target_update_interval': 8000, 'use_gpu': None, 'algorithm': 'DQN', 'observation_shape': (4,), 'action_size': 2}\n"
     ]
    },
    {
     "data": {
      "application/vnd.jupyter.widget-view+json": {
       "model_id": "77e08b7e13884508a9f511674c8fa4bf",
       "version_major": 2,
       "version_minor": 0
      },
      "text/plain": [
       "Epoch 1/10:   0%|          | 0/2457 [00:00<?, ?it/s]"
      ]
     },
     "metadata": {},
     "output_type": "display_data"
    },
    {
     "name": "stdout",
     "output_type": "stream",
     "text": [
      "2023-03-10 13:16:28 [info     ] DQN_20230310131618: epoch=1 step=2457 epoch=1 metrics={'time_sample_batch': 0.00013033626620052402, 'time_algorithm_update': 0.003288626913428549, 'loss': 0.011455701024676515, 'time_step': 0.003508702302590395, 'td_error': 1.0296351130590442, 'value_scale': 1.2064248184526873, 'environment': 9.8} step=2457\n",
      "2023-03-10 13:16:28 [info     ] Model parameters are saved to d3rlpy_logs/DQN_20230310131618/model_2457.pt\n"
     ]
    },
    {
     "data": {
      "application/vnd.jupyter.widget-view+json": {
       "model_id": "9cf28f5b8dce4c258b438e7198fe5979",
       "version_major": 2,
       "version_minor": 0
      },
      "text/plain": [
       "Epoch 2/10:   0%|          | 0/2457 [00:00<?, ?it/s]"
      ]
     },
     "metadata": {},
     "output_type": "display_data"
    },
    {
     "name": "stdout",
     "output_type": "stream",
     "text": [
      "2023-03-10 13:16:38 [info     ] DQN_20230310131618: epoch=2 step=4914 epoch=2 metrics={'time_sample_batch': 0.00011680200908258769, 'time_algorithm_update': 0.003217718685648526, 'loss': 0.0004052328704691272, 'time_step': 0.0034202942287334835, 'td_error': 1.0257553684281568, 'value_scale': 1.195757424426908, 'environment': 10.4} step=4914\n",
      "2023-03-10 13:16:38 [info     ] Model parameters are saved to d3rlpy_logs/DQN_20230310131618/model_4914.pt\n"
     ]
    },
    {
     "data": {
      "application/vnd.jupyter.widget-view+json": {
       "model_id": "9e50c48a408f4c89ae899de201e3ae0e",
       "version_major": 2,
       "version_minor": 0
      },
      "text/plain": [
       "Epoch 3/10:   0%|          | 0/2457 [00:00<?, ?it/s]"
      ]
     },
     "metadata": {},
     "output_type": "display_data"
    },
    {
     "name": "stdout",
     "output_type": "stream",
     "text": [
      "2023-03-10 13:16:48 [info     ] DQN_20230310131618: epoch=3 step=7371 epoch=3 metrics={'time_sample_batch': 0.00011697599545309201, 'time_algorithm_update': 0.0032616272950783754, 'loss': 0.0003899326607791523, 'time_step': 0.0034639358908653646, 'td_error': 1.014149315410479, 'value_scale': 1.1918088400457698, 'environment': 10.3} step=7371\n",
      "2023-03-10 13:16:48 [info     ] Model parameters are saved to d3rlpy_logs/DQN_20230310131618/model_7371.pt\n"
     ]
    },
    {
     "data": {
      "application/vnd.jupyter.widget-view+json": {
       "model_id": "20b442e041ad4b4aacec476f10bf32f4",
       "version_major": 2,
       "version_minor": 0
      },
      "text/plain": [
       "Epoch 4/10:   0%|          | 0/2457 [00:00<?, ?it/s]"
      ]
     },
     "metadata": {},
     "output_type": "display_data"
    },
    {
     "name": "stdout",
     "output_type": "stream",
     "text": [
      "2023-03-10 13:16:57 [info     ] DQN_20230310131618: epoch=4 step=9828 epoch=4 metrics={'time_sample_batch': 0.00011550928937937605, 'time_algorithm_update': 0.003230897983400425, 'loss': 0.008893519954619985, 'time_step': 0.003434514339541729, 'td_error': 1.0371447571413561, 'value_scale': 2.200204801626109, 'environment': 11.5} step=9828\n",
      "2023-03-10 13:16:57 [info     ] Model parameters are saved to d3rlpy_logs/DQN_20230310131618/model_9828.pt\n"
     ]
    },
    {
     "data": {
      "application/vnd.jupyter.widget-view+json": {
       "model_id": "11cd055b9bc144429423ba24ad8161c2",
       "version_major": 2,
       "version_minor": 0
      },
      "text/plain": [
       "Epoch 5/10:   0%|          | 0/2457 [00:00<?, ?it/s]"
      ]
     },
     "metadata": {},
     "output_type": "display_data"
    },
    {
     "name": "stdout",
     "output_type": "stream",
     "text": [
      "2023-03-10 13:17:07 [info     ] DQN_20230310131618: epoch=5 step=12285 epoch=5 metrics={'time_sample_batch': 0.00011579574100554936, 'time_algorithm_update': 0.003362585191179399, 'loss': 0.009158847931193047, 'time_step': 0.0035680884212607234, 'td_error': 1.0039447103984074, 'value_scale': 2.2080282534753954, 'environment': 13.0} step=12285\n",
      "2023-03-10 13:17:07 [info     ] Model parameters are saved to d3rlpy_logs/DQN_20230310131618/model_12285.pt\n"
     ]
    },
    {
     "data": {
      "application/vnd.jupyter.widget-view+json": {
       "model_id": "e57211d8cbfa433f962a476be73d4895",
       "version_major": 2,
       "version_minor": 0
      },
      "text/plain": [
       "Epoch 6/10:   0%|          | 0/2457 [00:00<?, ?it/s]"
      ]
     },
     "metadata": {},
     "output_type": "display_data"
    },
    {
     "name": "stdout",
     "output_type": "stream",
     "text": [
      "2023-03-10 13:17:17 [info     ] DQN_20230310131618: epoch=6 step=14742 epoch=6 metrics={'time_sample_batch': 0.00011215046939686833, 'time_algorithm_update': 0.0032328870367314888, 'loss': 0.008866018023772635, 'time_step': 0.003432592823585942, 'td_error': 1.0100685505583245, 'value_scale': 2.222634844396501, 'environment': 12.1} step=14742\n",
      "2023-03-10 13:17:17 [info     ] Model parameters are saved to d3rlpy_logs/DQN_20230310131618/model_14742.pt\n"
     ]
    },
    {
     "data": {
      "application/vnd.jupyter.widget-view+json": {
       "model_id": "3e4f4e87dd9944e48e0244e3ac0bbf3d",
       "version_major": 2,
       "version_minor": 0
      },
      "text/plain": [
       "Epoch 7/10:   0%|          | 0/2457 [00:00<?, ?it/s]"
      ]
     },
     "metadata": {},
     "output_type": "display_data"
    },
    {
     "name": "stdout",
     "output_type": "stream",
     "text": [
      "2023-03-10 13:17:26 [info     ] DQN_20230310131618: epoch=7 step=17199 epoch=7 metrics={'time_sample_batch': 0.00010873371864849831, 'time_algorithm_update': 0.003118905586394829, 'loss': 0.0164472367380149, 'time_step': 0.0033100684774955403, 'td_error': 1.0175753088570716, 'value_scale': 3.1998974605822785, 'environment': 36.7} step=17199\n",
      "2023-03-10 13:17:26 [info     ] Model parameters are saved to d3rlpy_logs/DQN_20230310131618/model_17199.pt\n"
     ]
    },
    {
     "data": {
      "application/vnd.jupyter.widget-view+json": {
       "model_id": "d72e2fc749a94f0eb54cfe9ccd2563c1",
       "version_major": 2,
       "version_minor": 0
      },
      "text/plain": [
       "Epoch 8/10:   0%|          | 0/2457 [00:00<?, ?it/s]"
      ]
     },
     "metadata": {},
     "output_type": "display_data"
    },
    {
     "name": "stdout",
     "output_type": "stream",
     "text": [
      "2023-03-10 13:17:36 [info     ] DQN_20230310131618: epoch=8 step=19656 epoch=8 metrics={'time_sample_batch': 0.00010406587683771217, 'time_algorithm_update': 0.0030436170358312388, 'loss': 0.021311579033812297, 'time_step': 0.003224560629317175, 'td_error': 1.0198858178035943, 'value_scale': 3.1757803345255327, 'environment': 175.4} step=19656\n",
      "2023-03-10 13:17:36 [info     ] Model parameters are saved to d3rlpy_logs/DQN_20230310131618/model_19656.pt\n"
     ]
    },
    {
     "data": {
      "application/vnd.jupyter.widget-view+json": {
       "model_id": "331e3f9ca6e84f328a06868b2fb36b85",
       "version_major": 2,
       "version_minor": 0
      },
      "text/plain": [
       "Epoch 9/10:   0%|          | 0/2457 [00:00<?, ?it/s]"
      ]
     },
     "metadata": {},
     "output_type": "display_data"
    },
    {
     "name": "stdout",
     "output_type": "stream",
     "text": [
      "2023-03-10 13:17:45 [info     ] DQN_20230310131618: epoch=9 step=22113 epoch=9 metrics={'time_sample_batch': 0.00010369810865912245, 'time_algorithm_update': 0.0030478935296039634, 'loss': 0.020873517754649407, 'time_step': 0.0032280461789147854, 'td_error': 1.0218380605179647, 'value_scale': 3.2124304441962352, 'environment': 49.7} step=22113\n",
      "2023-03-10 13:17:45 [info     ] Model parameters are saved to d3rlpy_logs/DQN_20230310131618/model_22113.pt\n"
     ]
    },
    {
     "data": {
      "application/vnd.jupyter.widget-view+json": {
       "model_id": "a9a627b081a7492c87be46307e079e4f",
       "version_major": 2,
       "version_minor": 0
      },
      "text/plain": [
       "Epoch 10/10:   0%|          | 0/2457 [00:00<?, ?it/s]"
      ]
     },
     "metadata": {},
     "output_type": "display_data"
    },
    {
     "name": "stdout",
     "output_type": "stream",
     "text": [
      "2023-03-10 13:17:55 [info     ] DQN_20230310131618: epoch=10 step=24570 epoch=10 metrics={'time_sample_batch': 0.00010482829229396003, 'time_algorithm_update': 0.003110367542464024, 'loss': 0.024985878717610165, 'time_step': 0.0032936076007822833, 'td_error': 1.0538374609166938, 'value_scale': 4.1673449580561615, 'environment': 198.3} step=24570\n",
      "2023-03-10 13:17:55 [info     ] Model parameters are saved to d3rlpy_logs/DQN_20230310131618/model_24570.pt\n"
     ]
    },
    {
     "data": {
      "text/plain": [
       "[(1,\n",
       "  {'time_sample_batch': 0.00013033626620052402,\n",
       "   'time_algorithm_update': 0.003288626913428549,\n",
       "   'loss': 0.011455701024676515,\n",
       "   'time_step': 0.003508702302590395,\n",
       "   'td_error': 1.0296351130590442,\n",
       "   'value_scale': 1.2064248184526873,\n",
       "   'environment': 9.8}),\n",
       " (2,\n",
       "  {'time_sample_batch': 0.00011680200908258769,\n",
       "   'time_algorithm_update': 0.003217718685648526,\n",
       "   'loss': 0.0004052328704691272,\n",
       "   'time_step': 0.0034202942287334835,\n",
       "   'td_error': 1.0257553684281568,\n",
       "   'value_scale': 1.195757424426908,\n",
       "   'environment': 10.4}),\n",
       " (3,\n",
       "  {'time_sample_batch': 0.00011697599545309201,\n",
       "   'time_algorithm_update': 0.0032616272950783754,\n",
       "   'loss': 0.0003899326607791523,\n",
       "   'time_step': 0.0034639358908653646,\n",
       "   'td_error': 1.014149315410479,\n",
       "   'value_scale': 1.1918088400457698,\n",
       "   'environment': 10.3}),\n",
       " (4,\n",
       "  {'time_sample_batch': 0.00011550928937937605,\n",
       "   'time_algorithm_update': 0.003230897983400425,\n",
       "   'loss': 0.008893519954619985,\n",
       "   'time_step': 0.003434514339541729,\n",
       "   'td_error': 1.0371447571413561,\n",
       "   'value_scale': 2.200204801626109,\n",
       "   'environment': 11.5}),\n",
       " (5,\n",
       "  {'time_sample_batch': 0.00011579574100554936,\n",
       "   'time_algorithm_update': 0.003362585191179399,\n",
       "   'loss': 0.009158847931193047,\n",
       "   'time_step': 0.0035680884212607234,\n",
       "   'td_error': 1.0039447103984074,\n",
       "   'value_scale': 2.2080282534753954,\n",
       "   'environment': 13.0}),\n",
       " (6,\n",
       "  {'time_sample_batch': 0.00011215046939686833,\n",
       "   'time_algorithm_update': 0.0032328870367314888,\n",
       "   'loss': 0.008866018023772635,\n",
       "   'time_step': 0.003432592823585942,\n",
       "   'td_error': 1.0100685505583245,\n",
       "   'value_scale': 2.222634844396501,\n",
       "   'environment': 12.1}),\n",
       " (7,\n",
       "  {'time_sample_batch': 0.00010873371864849831,\n",
       "   'time_algorithm_update': 0.003118905586394829,\n",
       "   'loss': 0.0164472367380149,\n",
       "   'time_step': 0.0033100684774955403,\n",
       "   'td_error': 1.0175753088570716,\n",
       "   'value_scale': 3.1998974605822785,\n",
       "   'environment': 36.7}),\n",
       " (8,\n",
       "  {'time_sample_batch': 0.00010406587683771217,\n",
       "   'time_algorithm_update': 0.0030436170358312388,\n",
       "   'loss': 0.021311579033812297,\n",
       "   'time_step': 0.003224560629317175,\n",
       "   'td_error': 1.0198858178035943,\n",
       "   'value_scale': 3.1757803345255327,\n",
       "   'environment': 175.4}),\n",
       " (9,\n",
       "  {'time_sample_batch': 0.00010369810865912245,\n",
       "   'time_algorithm_update': 0.0030478935296039634,\n",
       "   'loss': 0.020873517754649407,\n",
       "   'time_step': 0.0032280461789147854,\n",
       "   'td_error': 1.0218380605179647,\n",
       "   'value_scale': 3.2124304441962352,\n",
       "   'environment': 49.7}),\n",
       " (10,\n",
       "  {'time_sample_batch': 0.00010482829229396003,\n",
       "   'time_algorithm_update': 0.003110367542464024,\n",
       "   'loss': 0.024985878717610165,\n",
       "   'time_step': 0.0032936076007822833,\n",
       "   'td_error': 1.0538374609166938,\n",
       "   'value_scale': 4.1673449580561615,\n",
       "   'environment': 198.3})]"
      ]
     },
     "execution_count": 8,
     "metadata": {},
     "output_type": "execute_result"
    }
   ],
   "source": [
    "dqn.fit(train_episodes,\n",
    "        eval_episodes=test_episodes,\n",
    "        n_epochs=10,\n",
    "        scorers={\n",
    "            'td_error': td_error_scorer,\n",
    "            'value_scale': average_value_estimation_scorer,\n",
    "            'environment': evaluate_scorer\n",
    "        })"
   ]
  },
  {
   "cell_type": "code",
   "execution_count": 11,
   "id": "4d773934",
   "metadata": {},
   "outputs": [],
   "source": [
    "observation = env.reset()\n",
    "\n",
    "# return actions based on the greedy-policy\n",
    "action = dqn.predict([observation])[0]\n",
    "\n",
    "# estimate action-values\n",
    "value = dqn.predict_value([observation], [action])"
   ]
  },
  {
   "cell_type": "code",
   "execution_count": 12,
   "id": "17333e8f",
   "metadata": {},
   "outputs": [
    {
     "data": {
      "text/plain": [
       "array([4.2053056], dtype=float32)"
      ]
     },
     "execution_count": 12,
     "metadata": {},
     "output_type": "execute_result"
    }
   ],
   "source": [
    "value"
   ]
  },
  {
   "cell_type": "code",
   "execution_count": 13,
   "id": "3c64ff50",
   "metadata": {},
   "outputs": [
    {
     "data": {
      "text/plain": [
       "array([1])"
      ]
     },
     "execution_count": 13,
     "metadata": {},
     "output_type": "execute_result"
    }
   ],
   "source": [
    "dqn.predict([observation])"
   ]
  },
  {
   "cell_type": "markdown",
   "id": "295a77a7",
   "metadata": {},
   "source": [
    "### Generate offline data"
   ]
  },
  {
   "cell_type": "code",
   "execution_count": 14,
   "id": "67fd00a1",
   "metadata": {},
   "outputs": [
    {
     "name": "stdout",
     "output_type": "stream",
     "text": [
      "2023-03-10 13:28:43 [debug    ] Building model...\n",
      "2023-03-10 13:28:43 [debug    ] Model has been built.\n"
     ]
    },
    {
     "data": {
      "application/vnd.jupyter.widget-view+json": {
       "model_id": "b85c374b06f74b08b8bca1d0da5b225b",
       "version_major": 2,
       "version_minor": 0
      },
      "text/plain": [
       "  0%|          | 0/100000 [00:00<?, ?it/s]"
      ]
     },
     "metadata": {},
     "output_type": "display_data"
    }
   ],
   "source": [
    "import d3rlpy\n",
    "\n",
    "# setup algorithm\n",
    "random_policy = d3rlpy.algos.DiscreteRandomPolicy()\n",
    "\n",
    "# prepare experience replay buffer\n",
    "buffer = d3rlpy.online.buffers.ReplayBuffer(maxlen=10000, env=env)\n",
    "\n",
    "# start data collection\n",
    "random_policy.collect(env, buffer, n_steps=10000)\n",
    "\n",
    "# export as MDPDataset\n",
    "dataset = buffer.to_mdp_dataset()\n",
    "\n",
    "# save MDPDataset\n",
    "dataset.dump(\"random_policy_dataset.h5\")"
   ]
  },
  {
   "cell_type": "code",
   "execution_count": 15,
   "id": "85467420",
   "metadata": {},
   "outputs": [
    {
     "name": "stdout",
     "output_type": "stream",
     "text": [
      "Intro_d3rlpy.ipynb        \u001b[34md3rlpy_logs\u001b[m\u001b[m/              pyproject.toml\r\n",
      "\u001b[34md3rlpy_data\u001b[m\u001b[m/              poetry.lock               random_policy_dataset.h5\r\n"
     ]
    }
   ],
   "source": [
    "ls"
   ]
  },
  {
   "cell_type": "code",
   "execution_count": 16,
   "id": "80445442",
   "metadata": {},
   "outputs": [
    {
     "name": "stdout",
     "output_type": "stream",
     "text": [
      "2023-03-10 13:30:16 [warning  ] Skip building models since they're already built.\n"
     ]
    },
    {
     "data": {
      "application/vnd.jupyter.widget-view+json": {
       "model_id": "7c28bf36f01a46219920d89a55423964",
       "version_major": 2,
       "version_minor": 0
      },
      "text/plain": [
       "  0%|          | 0/100000 [00:00<?, ?it/s]"
      ]
     },
     "metadata": {},
     "output_type": "display_data"
    }
   ],
   "source": [
    "# start data collection\n",
    "dqn.collect(env, buffer, n_steps=100000)\n",
    "\n",
    "# export as MDPDataset\n",
    "dataset = buffer.to_mdp_dataset()"
   ]
  },
  {
   "cell_type": "code",
   "execution_count": 17,
   "id": "a11e251b",
   "metadata": {},
   "outputs": [],
   "source": [
    "# save MDPDataset\n",
    "dataset.dump(\"trained_policy_dataset.h5\")"
   ]
  },
  {
   "cell_type": "code",
   "execution_count": 41,
   "id": "6e8afc84",
   "metadata": {},
   "outputs": [
    {
     "data": {
      "text/plain": [
       "<d3rlpy.dataset.MDPDataset at 0x14fb21c40>"
      ]
     },
     "execution_count": 41,
     "metadata": {},
     "output_type": "execute_result"
    }
   ],
   "source": [
    "import numpy as np\n",
    "\n",
    "dataset2 = d3rlpy.online.buffers.ReplayBuffer(maxlen=100000, env=env)\n",
    "dataset2 = buffer.to_mdp_dataset()\n",
    "dataset2.load(\"trained_policy_dataset.h5\")"
   ]
  },
  {
   "cell_type": "code",
   "execution_count": 42,
   "id": "91d37d59",
   "metadata": {},
   "outputs": [
    {
     "data": {
      "text/plain": [
       "<d3rlpy.dataset.MDPDataset at 0x14f2ca0a0>"
      ]
     },
     "execution_count": 42,
     "metadata": {},
     "output_type": "execute_result"
    }
   ],
   "source": [
    "dataset2"
   ]
  },
  {
   "cell_type": "code",
   "execution_count": 43,
   "id": "cb6934fb",
   "metadata": {},
   "outputs": [
    {
     "data": {
      "text/plain": [
       "array([1, 1, 1, ..., 1, 1, 1], dtype=int32)"
      ]
     },
     "execution_count": 43,
     "metadata": {},
     "output_type": "execute_result"
    }
   ],
   "source": [
    "dataset2.actions"
   ]
  },
  {
   "cell_type": "code",
   "execution_count": 44,
   "id": "9f4027f4",
   "metadata": {},
   "outputs": [
    {
     "data": {
      "text/plain": [
       "array([1., 1., 1., ..., 1., 1., 1.], dtype=float32)"
      ]
     },
     "execution_count": 44,
     "metadata": {},
     "output_type": "execute_result"
    }
   ],
   "source": [
    "dataset2.rewards"
   ]
  },
  {
   "cell_type": "code",
   "execution_count": 45,
   "id": "91550dc5",
   "metadata": {},
   "outputs": [
    {
     "data": {
      "text/plain": [
       "array([[ 0.0028865 ,  0.02860445,  0.03013965,  0.03935649],\n",
       "       [ 0.00345859,  0.22328153,  0.03092678, -0.24366678],\n",
       "       [ 0.00792422,  0.4179484 ,  0.02605345, -0.52643645],\n",
       "       ...,\n",
       "       [-0.04982188,  0.18751903,  0.0407802 , -0.24097829],\n",
       "       [-0.0460715 ,  0.38203543,  0.03596063, -0.52052426],\n",
       "       [-0.0384308 ,  0.5766332 ,  0.02555015, -0.801662  ]],\n",
       "      dtype=float32)"
      ]
     },
     "execution_count": 45,
     "metadata": {},
     "output_type": "execute_result"
    }
   ],
   "source": [
    "dataset2.observations"
   ]
  },
  {
   "cell_type": "markdown",
   "id": "32123624",
   "metadata": {},
   "source": [
    "### Train on offline data"
   ]
  },
  {
   "cell_type": "code",
   "execution_count": 46,
   "id": "70ed5f11",
   "metadata": {},
   "outputs": [],
   "source": [
    "from d3rlpy.dataset import MDPDataset\n",
    "from d3rlpy.algos import DiscreteCQL\n",
    "\n",
    "# setup CQL algorithm (discrete version)\n",
    "cql = DiscreteCQL(n_frames=4, scaler='pixel', use_gpu=False)\n",
    "\n",
    "# split train and test episodes\n",
    "train_episodes, test_episodes = train_test_split(dataset2, test_size=0.2)"
   ]
  },
  {
   "cell_type": "code",
   "execution_count": 47,
   "id": "abf96a68",
   "metadata": {
    "scrolled": false
   },
   "outputs": [
    {
     "name": "stdout",
     "output_type": "stream",
     "text": [
      "2023-03-10 13:58:19 [debug    ] RoundIterator is selected.\n",
      "2023-03-10 13:58:19 [info     ] Directory is created at d3rlpy_logs/DiscreteCQL_20230310135819\n",
      "2023-03-10 13:58:19 [debug    ] Fitting scaler...              scaler=pixel\n",
      "2023-03-10 13:58:19 [debug    ] Building models...\n",
      "2023-03-10 13:58:19 [debug    ] Models have been built.\n",
      "2023-03-10 13:58:19 [info     ] Parameters are saved to d3rlpy_logs/DiscreteCQL_20230310135819/params.json params={'action_scaler': None, 'alpha': 1.0, 'batch_size': 32, 'encoder_factory': {'type': 'default', 'params': {'activation': 'relu', 'use_batch_norm': False, 'dropout_rate': None}}, 'gamma': 0.99, 'generated_maxlen': 100000, 'learning_rate': 6.25e-05, 'n_critics': 1, 'n_frames': 4, 'n_steps': 1, 'optim_factory': {'optim_cls': 'Adam', 'betas': (0.9, 0.999), 'eps': 1e-08, 'weight_decay': 0, 'amsgrad': False}, 'q_func_factory': {'type': 'mean', 'params': {'share_encoder': False}}, 'real_ratio': 1.0, 'reward_scaler': None, 'scaler': {'type': 'pixel', 'params': {}}, 'target_update_interval': 8000, 'use_gpu': None, 'algorithm': 'DiscreteCQL', 'observation_shape': (4,), 'action_size': 2}\n"
     ]
    },
    {
     "data": {
      "application/vnd.jupyter.widget-view+json": {
       "model_id": "3c85500d16d74a5286434f5b22d9b1b9",
       "version_major": 2,
       "version_minor": 0
      },
      "text/plain": [
       "Epoch 1/10:   0%|          | 0/2475 [00:00<?, ?it/s]"
      ]
     },
     "metadata": {},
     "output_type": "display_data"
    },
    {
     "name": "stdout",
     "output_type": "stream",
     "text": [
      "2023-03-10 13:58:33 [info     ] DiscreteCQL_20230310135819: epoch=1 step=2475 epoch=1 metrics={'time_sample_batch': 0.00011373096042209202, 'time_algorithm_update': 0.0048319306999746, 'loss': 0.7044372973056755, 'time_step': 0.005021619122437757, 'environment': 9.7, 'advantage': -0.7184256813428528, 'td_error': 1.003873027455517, 'value_scale': 1.0141254830004633} step=2475\n",
      "2023-03-10 13:58:33 [info     ] Model parameters are saved to d3rlpy_logs/DiscreteCQL_20230310135819/model_2475.pt\n"
     ]
    },
    {
     "data": {
      "application/vnd.jupyter.widget-view+json": {
       "model_id": "846b1a0081dd4174bdebdcf76eb52b3b",
       "version_major": 2,
       "version_minor": 0
      },
      "text/plain": [
       "Epoch 2/10:   0%|          | 0/2475 [00:00<?, ?it/s]"
      ]
     },
     "metadata": {},
     "output_type": "display_data"
    },
    {
     "name": "stdout",
     "output_type": "stream",
     "text": [
      "2023-03-10 13:58:47 [info     ] DiscreteCQL_20230310135819: epoch=2 step=4950 epoch=2 metrics={'time_sample_batch': 0.00010732737454501066, 'time_algorithm_update': 0.004808726936879784, 'loss': 0.6926807059904542, 'time_step': 0.004982993386008523, 'environment': 9.6, 'advantage': -0.8237623272107137, 'td_error': 1.0083632118101098, 'value_scale': 1.016894909017989} step=4950\n",
      "2023-03-10 13:58:47 [info     ] Model parameters are saved to d3rlpy_logs/DiscreteCQL_20230310135819/model_4950.pt\n"
     ]
    },
    {
     "data": {
      "application/vnd.jupyter.widget-view+json": {
       "model_id": "6f21c720cab6487f97b69cab46d4164f",
       "version_major": 2,
       "version_minor": 0
      },
      "text/plain": [
       "Epoch 3/10:   0%|          | 0/2475 [00:00<?, ?it/s]"
      ]
     },
     "metadata": {},
     "output_type": "display_data"
    },
    {
     "name": "stdout",
     "output_type": "stream",
     "text": [
      "2023-03-10 13:58:59 [info     ] DiscreteCQL_20230310135819: epoch=3 step=7425 epoch=3 metrics={'time_sample_batch': 0.0001019903626104798, 'time_algorithm_update': 0.004526491646814828, 'loss': 0.692025963369042, 'time_step': 0.0046929629162104445, 'environment': 9.2, 'advantage': -1.4125308991548584, 'td_error': 1.0304378637299039, 'value_scale': 1.0262357572453116} step=7425\n",
      "2023-03-10 13:58:59 [info     ] Model parameters are saved to d3rlpy_logs/DiscreteCQL_20230310135819/model_7425.pt\n"
     ]
    },
    {
     "data": {
      "application/vnd.jupyter.widget-view+json": {
       "model_id": "e043f2af2dc84d6885ac7c39175e2838",
       "version_major": 2,
       "version_minor": 0
      },
      "text/plain": [
       "Epoch 4/10:   0%|          | 0/2475 [00:00<?, ?it/s]"
      ]
     },
     "metadata": {},
     "output_type": "display_data"
    },
    {
     "name": "stdout",
     "output_type": "stream",
     "text": [
      "2023-03-10 13:59:13 [info     ] DiscreteCQL_20230310135819: epoch=4 step=9900 epoch=4 metrics={'time_sample_batch': 0.00010997589188392716, 'time_algorithm_update': 0.004905999308884746, 'loss': 0.6936927360236043, 'time_step': 0.005086273906206844, 'environment': 22.6, 'advantage': -0.3006639996273257, 'td_error': 0.9743382934822494, 'value_scale': 2.0003800274591748} step=9900\n",
      "2023-03-10 13:59:13 [info     ] Model parameters are saved to d3rlpy_logs/DiscreteCQL_20230310135819/model_9900.pt\n"
     ]
    },
    {
     "data": {
      "application/vnd.jupyter.widget-view+json": {
       "model_id": "b37eb5ef3bcf40c9b5a571e84c3b6bc6",
       "version_major": 2,
       "version_minor": 0
      },
      "text/plain": [
       "Epoch 5/10:   0%|          | 0/2475 [00:00<?, ?it/s]"
      ]
     },
     "metadata": {},
     "output_type": "display_data"
    },
    {
     "name": "stdout",
     "output_type": "stream",
     "text": [
      "2023-03-10 13:59:27 [info     ] DiscreteCQL_20230310135819: epoch=5 step=12375 epoch=5 metrics={'time_sample_batch': 0.0001084217880711411, 'time_algorithm_update': 0.004895942187068438, 'loss': 0.6897469291542515, 'time_step': 0.00507350459243312, 'environment': 11.9, 'advantage': -1.7485878148839962, 'td_error': 1.0283506860403937, 'value_scale': 2.0208384595941564} step=12375\n",
      "2023-03-10 13:59:27 [info     ] Model parameters are saved to d3rlpy_logs/DiscreteCQL_20230310135819/model_12375.pt\n"
     ]
    },
    {
     "data": {
      "application/vnd.jupyter.widget-view+json": {
       "model_id": "f9466287af9142a1bc0d040de67e7e57",
       "version_major": 2,
       "version_minor": 0
      },
      "text/plain": [
       "Epoch 6/10:   0%|          | 0/2475 [00:00<?, ?it/s]"
      ]
     },
     "metadata": {},
     "output_type": "display_data"
    },
    {
     "name": "stdout",
     "output_type": "stream",
     "text": [
      "2023-03-10 13:59:40 [info     ] DiscreteCQL_20230310135819: epoch=6 step=14850 epoch=6 metrics={'time_sample_batch': 0.00010091974277688999, 'time_algorithm_update': 0.004574159757055418, 'loss': 0.686699037840872, 'time_step': 0.004739959119546293, 'environment': 25.9, 'advantage': -0.8160245403421296, 'td_error': 1.0020592841492546, 'value_scale': 2.0106483820014636} step=14850\n",
      "2023-03-10 13:59:40 [info     ] Model parameters are saved to d3rlpy_logs/DiscreteCQL_20230310135819/model_14850.pt\n"
     ]
    },
    {
     "data": {
      "application/vnd.jupyter.widget-view+json": {
       "model_id": "080254babfe94ea3b37f0596e5e4f87e",
       "version_major": 2,
       "version_minor": 0
      },
      "text/plain": [
       "Epoch 7/10:   0%|          | 0/2475 [00:00<?, ?it/s]"
      ]
     },
     "metadata": {},
     "output_type": "display_data"
    },
    {
     "name": "stdout",
     "output_type": "stream",
     "text": [
      "2023-03-10 13:59:52 [info     ] DiscreteCQL_20230310135819: epoch=7 step=17325 epoch=7 metrics={'time_sample_batch': 0.00010110190420439749, 'time_algorithm_update': 0.004474106316614632, 'loss': 0.6857365346195722, 'time_step': 0.004640489154391818, 'environment': 17.5, 'advantage': -2.433293339287986, 'td_error': 1.0552107648111715, 'value_scale': 3.0459035404557544} step=17325\n",
      "2023-03-10 13:59:52 [info     ] Model parameters are saved to d3rlpy_logs/DiscreteCQL_20230310135819/model_17325.pt\n"
     ]
    },
    {
     "data": {
      "application/vnd.jupyter.widget-view+json": {
       "model_id": "43b5a924a8bc42ba8845f6cb48c88b1d",
       "version_major": 2,
       "version_minor": 0
      },
      "text/plain": [
       "Epoch 8/10:   0%|          | 0/2475 [00:00<?, ?it/s]"
      ]
     },
     "metadata": {},
     "output_type": "display_data"
    },
    {
     "name": "stdout",
     "output_type": "stream",
     "text": [
      "2023-03-10 14:00:06 [info     ] DiscreteCQL_20230310135819: epoch=8 step=19800 epoch=8 metrics={'time_sample_batch': 0.00010647542548902106, 'time_algorithm_update': 0.004866572293368253, 'loss': 0.6805609355791651, 'time_step': 0.005041583186448223, 'environment': 58.7, 'advantage': -2.9189308941082848, 'td_error': 1.061670664012514, 'value_scale': 3.046021322604366} step=19800\n",
      "2023-03-10 14:00:06 [info     ] Model parameters are saved to d3rlpy_logs/DiscreteCQL_20230310135819/model_19800.pt\n"
     ]
    },
    {
     "data": {
      "application/vnd.jupyter.widget-view+json": {
       "model_id": "f7b81eb9e4c7473fb784d8fac5891c1f",
       "version_major": 2,
       "version_minor": 0
      },
      "text/plain": [
       "Epoch 9/10:   0%|          | 0/2475 [00:00<?, ?it/s]"
      ]
     },
     "metadata": {},
     "output_type": "display_data"
    },
    {
     "name": "stdout",
     "output_type": "stream",
     "text": [
      "2023-03-10 14:00:20 [info     ] DiscreteCQL_20230310135819: epoch=9 step=22275 epoch=9 metrics={'time_sample_batch': 0.00010994246511748343, 'time_algorithm_update': 0.0049418311648898655, 'loss': 0.6768818291991648, 'time_step': 0.005123888940522165, 'environment': 25.4, 'advantage': -2.5767650129123534, 'td_error': 1.087821161304596, 'value_scale': 3.061811562537585} step=22275\n",
      "2023-03-10 14:00:20 [info     ] Model parameters are saved to d3rlpy_logs/DiscreteCQL_20230310135819/model_22275.pt\n"
     ]
    },
    {
     "data": {
      "application/vnd.jupyter.widget-view+json": {
       "model_id": "3be795b070c04073b7f125d9f5c1a74e",
       "version_major": 2,
       "version_minor": 0
      },
      "text/plain": [
       "Epoch 10/10:   0%|          | 0/2475 [00:00<?, ?it/s]"
      ]
     },
     "metadata": {},
     "output_type": "display_data"
    },
    {
     "name": "stdout",
     "output_type": "stream",
     "text": [
      "2023-03-10 14:00:33 [info     ] DiscreteCQL_20230310135819: epoch=10 step=24750 epoch=10 metrics={'time_sample_batch': 0.00010402534947250829, 'time_algorithm_update': 0.004621366539386788, 'loss': 0.678041718006134, 'time_step': 0.004792209490381106, 'environment': 105.7, 'advantage': -2.5476583313030563, 'td_error': 1.066795705757112, 'value_scale': 4.074616679151892} step=24750\n",
      "2023-03-10 14:00:33 [info     ] Model parameters are saved to d3rlpy_logs/DiscreteCQL_20230310135819/model_24750.pt\n"
     ]
    },
    {
     "data": {
      "text/plain": [
       "[(1,\n",
       "  {'time_sample_batch': 0.00011373096042209202,\n",
       "   'time_algorithm_update': 0.0048319306999746,\n",
       "   'loss': 0.7044372973056755,\n",
       "   'time_step': 0.005021619122437757,\n",
       "   'environment': 9.7,\n",
       "   'advantage': -0.7184256813428528,\n",
       "   'td_error': 1.003873027455517,\n",
       "   'value_scale': 1.0141254830004633}),\n",
       " (2,\n",
       "  {'time_sample_batch': 0.00010732737454501066,\n",
       "   'time_algorithm_update': 0.004808726936879784,\n",
       "   'loss': 0.6926807059904542,\n",
       "   'time_step': 0.004982993386008523,\n",
       "   'environment': 9.6,\n",
       "   'advantage': -0.8237623272107137,\n",
       "   'td_error': 1.0083632118101098,\n",
       "   'value_scale': 1.016894909017989}),\n",
       " (3,\n",
       "  {'time_sample_batch': 0.0001019903626104798,\n",
       "   'time_algorithm_update': 0.004526491646814828,\n",
       "   'loss': 0.692025963369042,\n",
       "   'time_step': 0.0046929629162104445,\n",
       "   'environment': 9.2,\n",
       "   'advantage': -1.4125308991548584,\n",
       "   'td_error': 1.0304378637299039,\n",
       "   'value_scale': 1.0262357572453116}),\n",
       " (4,\n",
       "  {'time_sample_batch': 0.00010997589188392716,\n",
       "   'time_algorithm_update': 0.004905999308884746,\n",
       "   'loss': 0.6936927360236043,\n",
       "   'time_step': 0.005086273906206844,\n",
       "   'environment': 22.6,\n",
       "   'advantage': -0.3006639996273257,\n",
       "   'td_error': 0.9743382934822494,\n",
       "   'value_scale': 2.0003800274591748}),\n",
       " (5,\n",
       "  {'time_sample_batch': 0.0001084217880711411,\n",
       "   'time_algorithm_update': 0.004895942187068438,\n",
       "   'loss': 0.6897469291542515,\n",
       "   'time_step': 0.00507350459243312,\n",
       "   'environment': 11.9,\n",
       "   'advantage': -1.7485878148839962,\n",
       "   'td_error': 1.0283506860403937,\n",
       "   'value_scale': 2.0208384595941564}),\n",
       " (6,\n",
       "  {'time_sample_batch': 0.00010091974277688999,\n",
       "   'time_algorithm_update': 0.004574159757055418,\n",
       "   'loss': 0.686699037840872,\n",
       "   'time_step': 0.004739959119546293,\n",
       "   'environment': 25.9,\n",
       "   'advantage': -0.8160245403421296,\n",
       "   'td_error': 1.0020592841492546,\n",
       "   'value_scale': 2.0106483820014636}),\n",
       " (7,\n",
       "  {'time_sample_batch': 0.00010110190420439749,\n",
       "   'time_algorithm_update': 0.004474106316614632,\n",
       "   'loss': 0.6857365346195722,\n",
       "   'time_step': 0.004640489154391818,\n",
       "   'environment': 17.5,\n",
       "   'advantage': -2.433293339287986,\n",
       "   'td_error': 1.0552107648111715,\n",
       "   'value_scale': 3.0459035404557544}),\n",
       " (8,\n",
       "  {'time_sample_batch': 0.00010647542548902106,\n",
       "   'time_algorithm_update': 0.004866572293368253,\n",
       "   'loss': 0.6805609355791651,\n",
       "   'time_step': 0.005041583186448223,\n",
       "   'environment': 58.7,\n",
       "   'advantage': -2.9189308941082848,\n",
       "   'td_error': 1.061670664012514,\n",
       "   'value_scale': 3.046021322604366}),\n",
       " (9,\n",
       "  {'time_sample_batch': 0.00010994246511748343,\n",
       "   'time_algorithm_update': 0.0049418311648898655,\n",
       "   'loss': 0.6768818291991648,\n",
       "   'time_step': 0.005123888940522165,\n",
       "   'environment': 25.4,\n",
       "   'advantage': -2.5767650129123534,\n",
       "   'td_error': 1.087821161304596,\n",
       "   'value_scale': 3.061811562537585}),\n",
       " (10,\n",
       "  {'time_sample_batch': 0.00010402534947250829,\n",
       "   'time_algorithm_update': 0.004621366539386788,\n",
       "   'loss': 0.678041718006134,\n",
       "   'time_step': 0.004792209490381106,\n",
       "   'environment': 105.7,\n",
       "   'advantage': -2.5476583313030563,\n",
       "   'td_error': 1.066795705757112,\n",
       "   'value_scale': 4.074616679151892})]"
      ]
     },
     "execution_count": 47,
     "metadata": {},
     "output_type": "execute_result"
    }
   ],
   "source": [
    "from d3rlpy.metrics.scorer import discounted_sum_of_advantage_scorer\n",
    "from d3rlpy.metrics.scorer import evaluate_on_environment\n",
    "from d3rlpy.metrics.scorer import td_error_scorer\n",
    "from d3rlpy.metrics.scorer import average_value_estimation_scorer\n",
    "\n",
    "# start training\n",
    "cql.fit(train_episodes,\n",
    "        eval_episodes=test_episodes,\n",
    "        n_epochs=10,\n",
    "        scorers={\n",
    "            'environment': evaluate_on_environment(env), # Cartpole environment\n",
    "            'advantage': discounted_sum_of_advantage_scorer, # smaller is better\n",
    "            'td_error': td_error_scorer, # smaller is better\n",
    "            'value_scale': average_value_estimation_scorer # smaller is better\n",
    "        })"
   ]
  },
  {
   "cell_type": "markdown",
   "id": "100d9bed",
   "metadata": {},
   "source": [
    "### Custom environment"
   ]
  },
  {
   "cell_type": "code",
   "execution_count": 104,
   "id": "4688ec5c",
   "metadata": {},
   "outputs": [],
   "source": [
    "import gym\n",
    "from gym.spaces import Discrete, Box\n",
    "import numpy as np\n",
    "import os\n",
    "import random\n",
    "\n",
    "class SimpleCorridor_d3rlpy(gym.Env):\n",
    "    \"\"\"Example of a custom env in which you have to walk down a corridor.\n",
    "    Get a reward of -0.1 if you are not at the end, a random reward that is positive if you do.\n",
    "    Move +1 if you move forward, -1 if you move backward. The total length is 5.\n",
    "    We should want to reach the end in 5 steps in the perfectly trained world. \n",
    "    You can configure the length of the corridor via the env config.\"\"\"\n",
    "\n",
    "    def __init__(self, config):\n",
    "        self.end_pos = config[\"corridor_length\"]\n",
    "        self.cur_pos = 0\n",
    "        self.action_space = Discrete(5)\n",
    "        self.observation_space = Box(0.0, self.end_pos, shape=(1,), dtype=np.float32)\n",
    "        # Set the seed. This is only used for the final (reach goal) reward.\n",
    "        self.reset()\n",
    "\n",
    "    def reset(self, *, seed=None, options=None):\n",
    "        random.seed(seed)\n",
    "        self.cur_pos = 0\n",
    "        return np.array([self.cur_pos])\n",
    "\n",
    "    def step(self, action):\n",
    "        assert action in [0, 1, 2, 3, 4], action\n",
    "        # backward step\n",
    "        if action == 0 and self.cur_pos > 0:\n",
    "            self.cur_pos -= 1\n",
    "            reward = -0.2\n",
    "        # forward step\n",
    "        elif action == 1:\n",
    "            self.cur_pos += 1\n",
    "            if(self.check_if_water()):\n",
    "                reward = -0.5\n",
    "            else:\n",
    "                reward = 0.1\n",
    "        # double speed\n",
    "        elif action == 4:\n",
    "            if(self.cur_pos <= 3):\n",
    "                self.cur_pos += 2\n",
    "            else:\n",
    "                self.cur_pos += 1\n",
    "            if(self.check_if_water()):\n",
    "                reward = -0.5\n",
    "            else:\n",
    "                reward = 0.2\n",
    "        # left or right\n",
    "        else:\n",
    "            self.cur_pos = self.cur_pos\n",
    "            reward = -0.05\n",
    "            \n",
    "        done = truncated = self.cur_pos >= self.end_pos\n",
    "        if(done):\n",
    "            reward = 2\n",
    "        # Produce a random reward when we reach the goal.\n",
    "        return (\n",
    "            np.array([self.cur_pos]),\n",
    "            reward, # Setting to 2 instead of random reward has no real impact\n",
    "            done,\n",
    "            {},\n",
    "        )\n",
    "    \n",
    "    def check_if_water(self):\n",
    "        # This is water and will get a negative reward\n",
    "        if(self.cur_pos == 3):\n",
    "            return True\n",
    "        else:\n",
    "            return False\n",
    "\n",
    "config={\"corridor_length\": 5}\n",
    "env = SimpleCorridor_d3rlpy(config=config)"
   ]
  },
  {
   "cell_type": "code",
   "execution_count": 105,
   "id": "dad6a29c",
   "metadata": {},
   "outputs": [
    {
     "data": {
      "text/plain": [
       "<__main__.SimpleCorridor_d3rlpy at 0x136a18c40>"
      ]
     },
     "execution_count": 105,
     "metadata": {},
     "output_type": "execute_result"
    }
   ],
   "source": [
    "env"
   ]
  },
  {
   "cell_type": "code",
   "execution_count": 106,
   "id": "06ca15df",
   "metadata": {},
   "outputs": [
    {
     "data": {
      "text/plain": [
       "array([0])"
      ]
     },
     "execution_count": 106,
     "metadata": {},
     "output_type": "execute_result"
    }
   ],
   "source": [
    "env.reset()"
   ]
  },
  {
   "cell_type": "code",
   "execution_count": 108,
   "id": "3c501ece",
   "metadata": {},
   "outputs": [],
   "source": [
    "action = env.action_space.sample()\n",
    "obs, reward, done, info = env.step(action)"
   ]
  },
  {
   "cell_type": "code",
   "execution_count": 109,
   "id": "77644124",
   "metadata": {},
   "outputs": [
    {
     "data": {
      "text/plain": [
       "0.2"
      ]
     },
     "execution_count": 109,
     "metadata": {},
     "output_type": "execute_result"
    }
   ],
   "source": [
    "reward"
   ]
  },
  {
   "cell_type": "code",
   "execution_count": 102,
   "id": "077adaeb",
   "metadata": {},
   "outputs": [
    {
     "data": {
      "text/plain": [
       "<function ndarray.astype>"
      ]
     },
     "execution_count": 102,
     "metadata": {},
     "output_type": "execute_result"
    }
   ],
   "source": [
    "obs.astype"
   ]
  },
  {
   "cell_type": "code",
   "execution_count": 138,
   "id": "9fe70dc6",
   "metadata": {},
   "outputs": [
    {
     "name": "stdout",
     "output_type": "stream",
     "text": [
      "2023-03-10 15:47:33 [debug    ] Building model...\n",
      "2023-03-10 15:47:33 [debug    ] Model has been built.\n"
     ]
    },
    {
     "data": {
      "application/vnd.jupyter.widget-view+json": {
       "model_id": "84727962fb99401d84f084a329e3a041",
       "version_major": 2,
       "version_minor": 0
      },
      "text/plain": [
       "  0%|          | 0/100000 [00:00<?, ?it/s]"
      ]
     },
     "metadata": {},
     "output_type": "display_data"
    }
   ],
   "source": [
    "# setup algorithm\n",
    "random_policy = d3rlpy.algos.DiscreteRandomPolicy()\n",
    "\n",
    "# prepare experience replay buffer\n",
    "buffer = d3rlpy.online.buffers.ReplayBuffer(maxlen=100000, env=env)\n",
    "\n",
    "# start data collection\n",
    "random_policy.collect(env, buffer, n_steps=100000)\n",
    "\n",
    "# export as MDPDataset\n",
    "dataset = buffer.to_mdp_dataset()\n",
    "\n",
    "# save MDPDataset\n",
    "dataset.dump(\"random_policy_corridor_dataset.h5\")"
   ]
  },
  {
   "cell_type": "markdown",
   "id": "7732290d",
   "metadata": {},
   "source": [
    "### Fit online with custom environment"
   ]
  },
  {
   "cell_type": "code",
   "execution_count": 113,
   "id": "b0a1d26a",
   "metadata": {},
   "outputs": [
    {
     "name": "stdout",
     "output_type": "stream",
     "text": [
      "2023-03-10 14:47:32 [info     ] Directory is created at d3rlpy_logs/DQN_online_20230310144732\n",
      "2023-03-10 14:47:32 [debug    ] Building model...\n",
      "2023-03-10 14:47:32 [debug    ] Model has been built.\n",
      "2023-03-10 14:47:32 [info     ] Parameters are saved to d3rlpy_logs/DQN_online_20230310144732/params.json params={'action_scaler': None, 'batch_size': 32, 'encoder_factory': {'type': 'default', 'params': {'activation': 'relu', 'use_batch_norm': False, 'dropout_rate': None}}, 'gamma': 0.99, 'generated_maxlen': 100000, 'learning_rate': 6.25e-05, 'n_critics': 1, 'n_frames': 1, 'n_steps': 1, 'optim_factory': {'optim_cls': 'Adam', 'betas': (0.9, 0.999), 'eps': 1e-08, 'weight_decay': 0, 'amsgrad': False}, 'q_func_factory': {'type': 'mean', 'params': {'share_encoder': False}}, 'real_ratio': 1.0, 'reward_scaler': None, 'scaler': None, 'target_update_interval': 8000, 'use_gpu': None, 'algorithm': 'DQN', 'observation_shape': (1,), 'action_size': 5}\n"
     ]
    },
    {
     "data": {
      "application/vnd.jupyter.widget-view+json": {
       "model_id": "797b0da7218946f6bcf69808e179d275",
       "version_major": 2,
       "version_minor": 0
      },
      "text/plain": [
       "  0%|          | 0/100000 [00:00<?, ?it/s]"
      ]
     },
     "metadata": {},
     "output_type": "display_data"
    },
    {
     "name": "stdout",
     "output_type": "stream",
     "text": [
      "2023-03-10 14:48:12 [info     ] Model parameters are saved to d3rlpy_logs/DQN_online_20230310144732/model_10000.pt\n",
      "2023-03-10 14:48:12 [info     ] DQN_online_20230310144732: epoch=1 step=10000 epoch=1 metrics={'time_inference': 0.0005066035032272339, 'time_environment_step': 1.2087106704711915e-05, 'time_step': 0.003947368121147155, 'time_sample_batch': 0.0001312981424975613, 'time_algorithm_update': 0.00323518305445813, 'loss': 1.49070639037667e-06} step=10000\n",
      "2023-03-10 14:48:50 [info     ] Model parameters are saved to d3rlpy_logs/DQN_online_20230310144732/model_20000.pt\n",
      "2023-03-10 14:48:50 [info     ] DQN_online_20230310144732: epoch=2 step=20000 epoch=2 metrics={'time_inference': 0.0004898247003555298, 'time_environment_step': 1.1702489852905273e-05, 'time_sample_batch': 0.00012943384647369385, 'time_algorithm_update': 0.003080199909210205, 'loss': 7.911302969334136e-07, 'time_step': 0.0037821149587631228} step=20000\n",
      "2023-03-10 14:49:30 [info     ] Model parameters are saved to d3rlpy_logs/DQN_online_20230310144732/model_30000.pt\n",
      "2023-03-10 14:49:30 [info     ] DQN_online_20230310144732: epoch=3 step=30000 epoch=3 metrics={'time_inference': 0.0005103825092315674, 'time_environment_step': 1.2085795402526855e-05, 'time_sample_batch': 0.0001346837043762207, 'time_algorithm_update': 0.003143997097015381, 'loss': 8.42025691046951e-07, 'time_step': 0.003875115656852722} step=30000\n",
      "2023-03-10 14:50:09 [info     ] Model parameters are saved to d3rlpy_logs/DQN_online_20230310144732/model_40000.pt\n",
      "2023-03-10 14:50:09 [info     ] DQN_online_20230310144732: epoch=4 step=40000 epoch=4 metrics={'time_inference': 0.0005104709148406983, 'time_environment_step': 1.2467360496520996e-05, 'time_sample_batch': 0.00013533463478088378, 'time_algorithm_update': 0.003176293635368347, 'loss': 0.0004690735481705424, 'time_step': 0.003914886403083801, 'rollout_return': 0.7194666666674564} step=40000\n",
      "2023-03-10 14:50:47 [info     ] Model parameters are saved to d3rlpy_logs/DQN_online_20230310144732/model_50000.pt\n",
      "2023-03-10 14:50:47 [info     ] DQN_online_20230310144732: epoch=5 step=50000 epoch=5 metrics={'time_inference': 0.0004827022314071655, 'time_environment_step': 1.263582706451416e-05, 'time_sample_batch': 0.00012940218448638917, 'time_algorithm_update': 0.0030653353214263918, 'loss': 0.0010805361879599117, 'time_step': 0.003776245045661926, 'rollout_return': 2.3130197322056847} step=50000\n",
      "2023-03-10 14:51:26 [info     ] Model parameters are saved to d3rlpy_logs/DQN_online_20230310144732/model_60000.pt\n",
      "2023-03-10 14:51:26 [info     ] DQN_online_20230310144732: epoch=6 step=60000 epoch=6 metrics={'time_inference': 0.0004883769989013672, 'time_environment_step': 1.1980128288269043e-05, 'time_sample_batch': 0.0001310688018798828, 'time_algorithm_update': 0.003159639859199524, 'loss': 0.002559800237938646, 'time_step': 0.003866295385360718, 'rollout_return': 1.7569841269841195} step=60000\n",
      "2023-03-10 14:52:04 [info     ] Model parameters are saved to d3rlpy_logs/DQN_online_20230310144732/model_70000.pt\n",
      "2023-03-10 14:52:05 [info     ] DQN_online_20230310144732: epoch=7 step=70000 epoch=7 metrics={'time_inference': 0.0004793863534927368, 'time_environment_step': 1.2026333808898927e-05, 'time_sample_batch': 0.00012890136241912843, 'time_algorithm_update': 0.0030699628114700317, 'loss': 0.002170517750098319, 'time_step': 0.0037676092386245727, 'rollout_return': 2.216377358490613} step=70000\n",
      "2023-03-10 14:52:44 [info     ] Model parameters are saved to d3rlpy_logs/DQN_online_20230310144732/model_80000.pt\n",
      "2023-03-10 14:52:44 [info     ] DQN_online_20230310144732: epoch=8 step=80000 epoch=8 metrics={'time_inference': 0.000489849328994751, 'time_environment_step': 1.1982011795043945e-05, 'time_sample_batch': 0.00013124711513519288, 'time_algorithm_update': 0.003173575735092163, 'loss': 0.0019677448421249657, 'time_step': 0.003880767393112183, 'rollout_return': 1.5686597938144147} step=80000\n",
      "2023-03-10 14:53:22 [info     ] Model parameters are saved to d3rlpy_logs/DQN_online_20230310144732/model_90000.pt\n",
      "2023-03-10 14:53:22 [info     ] DQN_online_20230310144732: epoch=9 step=90000 epoch=9 metrics={'time_inference': 0.00048170599937438964, 'time_environment_step': 1.2723684310913085e-05, 'time_sample_batch': 0.0001297175407409668, 'time_algorithm_update': 0.003121890091896057, 'loss': 0.0018237544351961692, 'time_step': 0.0038332035303115844, 'rollout_return': 2.387026671056844} step=90000\n",
      "2023-03-10 14:54:02 [info     ] Model parameters are saved to d3rlpy_logs/DQN_online_20230310144732/model_100000.pt\n",
      "2023-03-10 14:54:02 [info     ] DQN_online_20230310144732: epoch=10 step=100000 epoch=10 metrics={'time_inference': 0.0004819150924682617, 'time_environment_step': 1.252591609954834e-05, 'time_sample_batch': 0.00012938268184661865, 'time_algorithm_update': 0.0031712656021118165, 'loss': 0.001521866709845731, 'time_step': 0.003876972126960754, 'rollout_return': 2.3648156789547183} step=100000\n"
     ]
    }
   ],
   "source": [
    "# setup algorithm\n",
    "dqn = d3rlpy.algos.DQN()\n",
    "\n",
    "# prepare experience replay buffer\n",
    "buffer = d3rlpy.online.buffers.ReplayBuffer(maxlen=100000, env=env)\n",
    "\n",
    "# prepare exploration strategy if necessary\n",
    "explorer = d3rlpy.online.explorers.ConstantEpsilonGreedy(0.3)\n",
    "\n",
    "# start data collection\n",
    "dqn.fit_online(env, buffer, n_steps=100000)"
   ]
  },
  {
   "cell_type": "code",
   "execution_count": 146,
   "id": "926146e2",
   "metadata": {},
   "outputs": [],
   "source": [
    "for i in range(5):\n",
    "    obs = np.array([i])\n",
    "    action = dqn.predict([obs])[0]\n",
    "    print(action)"
   ]
  },
  {
   "cell_type": "markdown",
   "id": "ab72c962",
   "metadata": {},
   "source": [
    "### Fit on offline data generated from custom environment"
   ]
  },
  {
   "cell_type": "code",
   "execution_count": 147,
   "id": "74b04f5c",
   "metadata": {},
   "outputs": [],
   "source": [
    "#initialize the algorithm\n",
    "dqn = d3rlpy.algos.DQN()\n",
    "\n",
    "dataset2 = d3rlpy.online.buffers.ReplayBuffer(maxlen=100000, env=env)\n",
    "dataset2 = buffer.to_mdp_dataset()\n",
    "dataset2.load(\"random_policy_corridor_dataset.h5\")\n",
    "\n",
    "train_episodes, test_episodes = train_test_split(dataset2, test_size=0.2)"
   ]
  },
  {
   "cell_type": "code",
   "execution_count": null,
   "id": "c9b83dd9",
   "metadata": {},
   "outputs": [],
   "source": [
    "# start training\n",
    "dqn.fit(train_episodes,\n",
    "        eval_episodes=test_episodes,\n",
    "        n_epochs=5,\n",
    "        scorers={\n",
    "            'environment': evaluate_on_environment(env), # Cartpole environment\n",
    "            'advantage': discounted_sum_of_advantage_scorer, # smaller is better\n",
    "            'td_error': td_error_scorer, # smaller is better\n",
    "            'value_scale': average_value_estimation_scorer # smaller is better\n",
    "        })"
   ]
  },
  {
   "cell_type": "code",
   "execution_count": 148,
   "id": "2b294f27",
   "metadata": {
    "scrolled": false
   },
   "outputs": [],
   "source": [
    "dqn.fit(\n",
    "    train_episodes,\n",
    "    n_epochs=10,\n",
    "    #scorers=metrics,\n",
    "    eval_episodes=test_episodes,\n",
    ")"
   ]
  },
  {
   "cell_type": "code",
   "execution_count": null,
   "id": "ce8b8ebd",
   "metadata": {},
   "outputs": [],
   "source": []
  }
 ],
 "metadata": {
  "kernelspec": {
   "display_name": "Python 3 (ipykernel)",
   "language": "python",
   "name": "python3"
  },
  "language_info": {
   "codemirror_mode": {
    "name": "ipython",
    "version": 3
   },
   "file_extension": ".py",
   "mimetype": "text/x-python",
   "name": "python",
   "nbconvert_exporter": "python",
   "pygments_lexer": "ipython3",
   "version": "3.8.9"
  }
 },
 "nbformat": 4,
 "nbformat_minor": 5
}
